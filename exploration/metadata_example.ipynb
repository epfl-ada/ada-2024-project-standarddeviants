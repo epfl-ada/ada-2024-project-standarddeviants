{
 "cells": [
  {
   "cell_type": "code",
   "execution_count": 1,
   "metadata": {},
   "outputs": [],
   "source": [
    "import pandas as pd\n",
    "import os\n",
    "\n",
    "# example on subset of dataset\n",
    "PATH = r\"C:\\Users\\grede\\Documents\\EPFL\\Master\\ADA\\Project\\Raw\\BindingDB_All.tsv\"\n",
    "df = pd.read_csv(PATH, sep=\"\\t\", nrows=1000)"
   ]
  },
  {
   "cell_type": "code",
   "execution_count": 2,
   "metadata": {},
   "outputs": [],
   "source": [
    "import metadata\n",
    "\n",
    "metadata.add_extra_pub_data(df, \"example.csv\")"
   ]
  },
  {
   "cell_type": "code",
   "execution_count": 3,
   "metadata": {},
   "outputs": [],
   "source": [
    "base_dir = os.path.join(os.path.dirname(os.path.dirname(os.getcwd())))\n",
    "deriv_path = os.path.join(base_dir, \"ADA-BINDINGDB-START\", \"Derivatives\")\n",
    "file_path = os.path.join(deriv_path, \"example.csv\")\n",
    "\n",
    "meta_ = pd.read_csv(file_path)\n",
    "df_with_metadata = df.merge(meta_, on=\"Article DOI\", how=\"left\")"
   ]
  }
 ],
 "metadata": {
  "kernelspec": {
   "display_name": "ada",
   "language": "python",
   "name": "python3"
  },
  "language_info": {
   "codemirror_mode": {
    "name": "ipython",
    "version": 3
   },
   "file_extension": ".py",
   "mimetype": "text/x-python",
   "name": "python",
   "nbconvert_exporter": "python",
   "pygments_lexer": "ipython3",
   "version": "3.11.0"
  }
 },
 "nbformat": 4,
 "nbformat_minor": 2
}
