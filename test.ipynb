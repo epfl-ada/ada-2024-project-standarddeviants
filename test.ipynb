{
 "cells": [
  {
   "cell_type": "code",
   "execution_count": 1,
   "metadata": {},
   "outputs": [
    {
     "data": {
      "application/vnd.plotly.v1+json": {
       "config": {
        "plotlyServerURL": "https://plot.ly"
       },
       "data": [
        {
         "alignmentgroup": "True",
         "bingroup": "x",
         "hovertemplate": "total_bill=%{x}<br>count=%{y}<extra></extra>",
         "legendgroup": "",
         "marker": {
          "color": "#636efa",
          "pattern": {
           "shape": ""
          }
         },
         "name": "",
         "offsetgroup": "",
         "orientation": "v",
         "showlegend": false,
         "type": "histogram",
         "x": [
          16.99,
          10.34,
          21.01,
          23.68,
          24.59,
          25.29,
          8.77,
          26.88,
          15.04,
          14.78,
          10.27,
          35.26,
          15.42,
          18.43,
          14.83,
          21.58,
          10.33,
          16.29,
          16.97,
          20.65,
          17.92,
          20.29,
          15.77,
          39.42,
          19.82,
          17.81,
          13.37,
          12.69,
          21.7,
          19.65,
          9.55,
          18.35,
          15.06,
          20.69,
          17.78,
          24.06,
          16.31,
          16.93,
          18.69,
          31.27,
          16.04,
          17.46,
          13.94,
          9.68,
          30.4,
          18.29,
          22.23,
          32.4,
          28.55,
          18.04,
          12.54,
          10.29,
          34.81,
          9.94,
          25.56,
          19.49,
          38.01,
          26.41,
          11.24,
          48.27,
          20.29,
          13.81,
          11.02,
          18.29,
          17.59,
          20.08,
          16.45,
          3.07,
          20.23,
          15.01,
          12.02,
          17.07,
          26.86,
          25.28,
          14.73,
          10.51,
          17.92,
          27.2,
          22.76,
          17.29,
          19.44,
          16.66,
          10.07,
          32.68,
          15.98,
          34.83,
          13.03,
          18.28,
          24.71,
          21.16,
          28.97,
          22.49,
          5.75,
          16.32,
          22.75,
          40.17,
          27.28,
          12.03,
          21.01,
          12.46,
          11.35,
          15.38,
          44.3,
          22.42,
          20.92,
          15.36,
          20.49,
          25.21,
          18.24,
          14.31,
          14,
          7.25,
          38.07,
          23.95,
          25.71,
          17.31,
          29.93,
          10.65,
          12.43,
          24.08,
          11.69,
          13.42,
          14.26,
          15.95,
          12.48,
          29.8,
          8.52,
          14.52,
          11.38,
          22.82,
          19.08,
          20.27,
          11.17,
          12.26,
          18.26,
          8.51,
          10.33,
          14.15,
          16,
          13.16,
          17.47,
          34.3,
          41.19,
          27.05,
          16.43,
          8.35,
          18.64,
          11.87,
          9.78,
          7.51,
          14.07,
          13.13,
          17.26,
          24.55,
          19.77,
          29.85,
          48.17,
          25,
          13.39,
          16.49,
          21.5,
          12.66,
          16.21,
          13.81,
          17.51,
          24.52,
          20.76,
          31.71,
          10.59,
          10.63,
          50.81,
          15.81,
          7.25,
          31.85,
          16.82,
          32.9,
          17.89,
          14.48,
          9.6,
          34.63,
          34.65,
          23.33,
          45.35,
          23.17,
          40.55,
          20.69,
          20.9,
          30.46,
          18.15,
          23.1,
          15.69,
          19.81,
          28.44,
          15.48,
          16.58,
          7.56,
          10.34,
          43.11,
          13,
          13.51,
          18.71,
          12.74,
          13,
          16.4,
          20.53,
          16.47,
          26.59,
          38.73,
          24.27,
          12.76,
          30.06,
          25.89,
          48.33,
          13.27,
          28.17,
          12.9,
          28.15,
          11.59,
          7.74,
          30.14,
          12.16,
          13.42,
          8.58,
          15.98,
          13.42,
          16.27,
          10.09,
          20.45,
          13.28,
          22.12,
          24.01,
          15.69,
          11.61,
          10.77,
          15.53,
          10.07,
          12.6,
          32.83,
          35.83,
          29.03,
          27.18,
          22.67,
          17.82,
          18.78
         ],
         "xaxis": "x",
         "yaxis": "y"
        }
       ],
       "layout": {
        "barmode": "relative",
        "legend": {
         "tracegroupgap": 0
        },
        "margin": {
         "t": 60
        },
        "paper_bgcolor": "rgb(34, 37, 41)",
        "plot_bgcolor": "rgb(34, 37, 41)",
        "template": {
         "data": {
          "bar": [
           {
            "error_x": {
             "color": "#f2f5fa"
            },
            "error_y": {
             "color": "#f2f5fa"
            },
            "marker": {
             "line": {
              "color": "rgb(17,17,17)",
              "width": 0.5
             },
             "pattern": {
              "fillmode": "overlay",
              "size": 10,
              "solidity": 0.2
             }
            },
            "type": "bar"
           }
          ],
          "barpolar": [
           {
            "marker": {
             "line": {
              "color": "rgb(17,17,17)",
              "width": 0.5
             },
             "pattern": {
              "fillmode": "overlay",
              "size": 10,
              "solidity": 0.2
             }
            },
            "type": "barpolar"
           }
          ],
          "carpet": [
           {
            "aaxis": {
             "endlinecolor": "#A2B1C6",
             "gridcolor": "#506784",
             "linecolor": "#506784",
             "minorgridcolor": "#506784",
             "startlinecolor": "#A2B1C6"
            },
            "baxis": {
             "endlinecolor": "#A2B1C6",
             "gridcolor": "#506784",
             "linecolor": "#506784",
             "minorgridcolor": "#506784",
             "startlinecolor": "#A2B1C6"
            },
            "type": "carpet"
           }
          ],
          "choropleth": [
           {
            "colorbar": {
             "outlinewidth": 0,
             "ticks": ""
            },
            "type": "choropleth"
           }
          ],
          "contour": [
           {
            "colorbar": {
             "outlinewidth": 0,
             "ticks": ""
            },
            "colorscale": [
             [
              0,
              "#0d0887"
             ],
             [
              0.1111111111111111,
              "#46039f"
             ],
             [
              0.2222222222222222,
              "#7201a8"
             ],
             [
              0.3333333333333333,
              "#9c179e"
             ],
             [
              0.4444444444444444,
              "#bd3786"
             ],
             [
              0.5555555555555556,
              "#d8576b"
             ],
             [
              0.6666666666666666,
              "#ed7953"
             ],
             [
              0.7777777777777778,
              "#fb9f3a"
             ],
             [
              0.8888888888888888,
              "#fdca26"
             ],
             [
              1,
              "#f0f921"
             ]
            ],
            "type": "contour"
           }
          ],
          "contourcarpet": [
           {
            "colorbar": {
             "outlinewidth": 0,
             "ticks": ""
            },
            "type": "contourcarpet"
           }
          ],
          "heatmap": [
           {
            "colorbar": {
             "outlinewidth": 0,
             "ticks": ""
            },
            "colorscale": [
             [
              0,
              "#0d0887"
             ],
             [
              0.1111111111111111,
              "#46039f"
             ],
             [
              0.2222222222222222,
              "#7201a8"
             ],
             [
              0.3333333333333333,
              "#9c179e"
             ],
             [
              0.4444444444444444,
              "#bd3786"
             ],
             [
              0.5555555555555556,
              "#d8576b"
             ],
             [
              0.6666666666666666,
              "#ed7953"
             ],
             [
              0.7777777777777778,
              "#fb9f3a"
             ],
             [
              0.8888888888888888,
              "#fdca26"
             ],
             [
              1,
              "#f0f921"
             ]
            ],
            "type": "heatmap"
           }
          ],
          "heatmapgl": [
           {
            "colorbar": {
             "outlinewidth": 0,
             "ticks": ""
            },
            "colorscale": [
             [
              0,
              "#0d0887"
             ],
             [
              0.1111111111111111,
              "#46039f"
             ],
             [
              0.2222222222222222,
              "#7201a8"
             ],
             [
              0.3333333333333333,
              "#9c179e"
             ],
             [
              0.4444444444444444,
              "#bd3786"
             ],
             [
              0.5555555555555556,
              "#d8576b"
             ],
             [
              0.6666666666666666,
              "#ed7953"
             ],
             [
              0.7777777777777778,
              "#fb9f3a"
             ],
             [
              0.8888888888888888,
              "#fdca26"
             ],
             [
              1,
              "#f0f921"
             ]
            ],
            "type": "heatmapgl"
           }
          ],
          "histogram": [
           {
            "marker": {
             "pattern": {
              "fillmode": "overlay",
              "size": 10,
              "solidity": 0.2
             }
            },
            "type": "histogram"
           }
          ],
          "histogram2d": [
           {
            "colorbar": {
             "outlinewidth": 0,
             "ticks": ""
            },
            "colorscale": [
             [
              0,
              "#0d0887"
             ],
             [
              0.1111111111111111,
              "#46039f"
             ],
             [
              0.2222222222222222,
              "#7201a8"
             ],
             [
              0.3333333333333333,
              "#9c179e"
             ],
             [
              0.4444444444444444,
              "#bd3786"
             ],
             [
              0.5555555555555556,
              "#d8576b"
             ],
             [
              0.6666666666666666,
              "#ed7953"
             ],
             [
              0.7777777777777778,
              "#fb9f3a"
             ],
             [
              0.8888888888888888,
              "#fdca26"
             ],
             [
              1,
              "#f0f921"
             ]
            ],
            "type": "histogram2d"
           }
          ],
          "histogram2dcontour": [
           {
            "colorbar": {
             "outlinewidth": 0,
             "ticks": ""
            },
            "colorscale": [
             [
              0,
              "#0d0887"
             ],
             [
              0.1111111111111111,
              "#46039f"
             ],
             [
              0.2222222222222222,
              "#7201a8"
             ],
             [
              0.3333333333333333,
              "#9c179e"
             ],
             [
              0.4444444444444444,
              "#bd3786"
             ],
             [
              0.5555555555555556,
              "#d8576b"
             ],
             [
              0.6666666666666666,
              "#ed7953"
             ],
             [
              0.7777777777777778,
              "#fb9f3a"
             ],
             [
              0.8888888888888888,
              "#fdca26"
             ],
             [
              1,
              "#f0f921"
             ]
            ],
            "type": "histogram2dcontour"
           }
          ],
          "mesh3d": [
           {
            "colorbar": {
             "outlinewidth": 0,
             "ticks": ""
            },
            "type": "mesh3d"
           }
          ],
          "parcoords": [
           {
            "line": {
             "colorbar": {
              "outlinewidth": 0,
              "ticks": ""
             }
            },
            "type": "parcoords"
           }
          ],
          "pie": [
           {
            "automargin": true,
            "type": "pie"
           }
          ],
          "scatter": [
           {
            "marker": {
             "line": {
              "color": "#283442"
             }
            },
            "type": "scatter"
           }
          ],
          "scatter3d": [
           {
            "line": {
             "colorbar": {
              "outlinewidth": 0,
              "ticks": ""
             }
            },
            "marker": {
             "colorbar": {
              "outlinewidth": 0,
              "ticks": ""
             }
            },
            "type": "scatter3d"
           }
          ],
          "scattercarpet": [
           {
            "marker": {
             "colorbar": {
              "outlinewidth": 0,
              "ticks": ""
             }
            },
            "type": "scattercarpet"
           }
          ],
          "scattergeo": [
           {
            "marker": {
             "colorbar": {
              "outlinewidth": 0,
              "ticks": ""
             }
            },
            "type": "scattergeo"
           }
          ],
          "scattergl": [
           {
            "marker": {
             "line": {
              "color": "#283442"
             }
            },
            "type": "scattergl"
           }
          ],
          "scattermapbox": [
           {
            "marker": {
             "colorbar": {
              "outlinewidth": 0,
              "ticks": ""
             }
            },
            "type": "scattermapbox"
           }
          ],
          "scatterpolar": [
           {
            "marker": {
             "colorbar": {
              "outlinewidth": 0,
              "ticks": ""
             }
            },
            "type": "scatterpolar"
           }
          ],
          "scatterpolargl": [
           {
            "marker": {
             "colorbar": {
              "outlinewidth": 0,
              "ticks": ""
             }
            },
            "type": "scatterpolargl"
           }
          ],
          "scatterternary": [
           {
            "marker": {
             "colorbar": {
              "outlinewidth": 0,
              "ticks": ""
             }
            },
            "type": "scatterternary"
           }
          ],
          "surface": [
           {
            "colorbar": {
             "outlinewidth": 0,
             "ticks": ""
            },
            "colorscale": [
             [
              0,
              "#0d0887"
             ],
             [
              0.1111111111111111,
              "#46039f"
             ],
             [
              0.2222222222222222,
              "#7201a8"
             ],
             [
              0.3333333333333333,
              "#9c179e"
             ],
             [
              0.4444444444444444,
              "#bd3786"
             ],
             [
              0.5555555555555556,
              "#d8576b"
             ],
             [
              0.6666666666666666,
              "#ed7953"
             ],
             [
              0.7777777777777778,
              "#fb9f3a"
             ],
             [
              0.8888888888888888,
              "#fdca26"
             ],
             [
              1,
              "#f0f921"
             ]
            ],
            "type": "surface"
           }
          ],
          "table": [
           {
            "cells": {
             "fill": {
              "color": "#506784"
             },
             "line": {
              "color": "rgb(17,17,17)"
             }
            },
            "header": {
             "fill": {
              "color": "#2a3f5f"
             },
             "line": {
              "color": "rgb(17,17,17)"
             }
            },
            "type": "table"
           }
          ]
         },
         "layout": {
          "annotationdefaults": {
           "arrowcolor": "#f2f5fa",
           "arrowhead": 0,
           "arrowwidth": 1
          },
          "autotypenumbers": "strict",
          "coloraxis": {
           "colorbar": {
            "outlinewidth": 0,
            "ticks": ""
           }
          },
          "colorscale": {
           "diverging": [
            [
             0,
             "#8e0152"
            ],
            [
             0.1,
             "#c51b7d"
            ],
            [
             0.2,
             "#de77ae"
            ],
            [
             0.3,
             "#f1b6da"
            ],
            [
             0.4,
             "#fde0ef"
            ],
            [
             0.5,
             "#f7f7f7"
            ],
            [
             0.6,
             "#e6f5d0"
            ],
            [
             0.7,
             "#b8e186"
            ],
            [
             0.8,
             "#7fbc41"
            ],
            [
             0.9,
             "#4d9221"
            ],
            [
             1,
             "#276419"
            ]
           ],
           "sequential": [
            [
             0,
             "#0d0887"
            ],
            [
             0.1111111111111111,
             "#46039f"
            ],
            [
             0.2222222222222222,
             "#7201a8"
            ],
            [
             0.3333333333333333,
             "#9c179e"
            ],
            [
             0.4444444444444444,
             "#bd3786"
            ],
            [
             0.5555555555555556,
             "#d8576b"
            ],
            [
             0.6666666666666666,
             "#ed7953"
            ],
            [
             0.7777777777777778,
             "#fb9f3a"
            ],
            [
             0.8888888888888888,
             "#fdca26"
            ],
            [
             1,
             "#f0f921"
            ]
           ],
           "sequentialminus": [
            [
             0,
             "#0d0887"
            ],
            [
             0.1111111111111111,
             "#46039f"
            ],
            [
             0.2222222222222222,
             "#7201a8"
            ],
            [
             0.3333333333333333,
             "#9c179e"
            ],
            [
             0.4444444444444444,
             "#bd3786"
            ],
            [
             0.5555555555555556,
             "#d8576b"
            ],
            [
             0.6666666666666666,
             "#ed7953"
            ],
            [
             0.7777777777777778,
             "#fb9f3a"
            ],
            [
             0.8888888888888888,
             "#fdca26"
            ],
            [
             1,
             "#f0f921"
            ]
           ]
          },
          "colorway": [
           "#636efa",
           "#EF553B",
           "#00cc96",
           "#ab63fa",
           "#FFA15A",
           "#19d3f3",
           "#FF6692",
           "#B6E880",
           "#FF97FF",
           "#FECB52"
          ],
          "font": {
           "color": "#f2f5fa"
          },
          "geo": {
           "bgcolor": "rgb(17,17,17)",
           "lakecolor": "rgb(17,17,17)",
           "landcolor": "rgb(17,17,17)",
           "showlakes": true,
           "showland": true,
           "subunitcolor": "#506784"
          },
          "hoverlabel": {
           "align": "left"
          },
          "hovermode": "closest",
          "mapbox": {
           "style": "dark"
          },
          "paper_bgcolor": "rgb(17,17,17)",
          "plot_bgcolor": "rgb(17,17,17)",
          "polar": {
           "angularaxis": {
            "gridcolor": "#506784",
            "linecolor": "#506784",
            "ticks": ""
           },
           "bgcolor": "rgb(17,17,17)",
           "radialaxis": {
            "gridcolor": "#506784",
            "linecolor": "#506784",
            "ticks": ""
           }
          },
          "scene": {
           "xaxis": {
            "backgroundcolor": "rgb(17,17,17)",
            "gridcolor": "#506784",
            "gridwidth": 2,
            "linecolor": "#506784",
            "showbackground": true,
            "ticks": "",
            "zerolinecolor": "#C8D4E3"
           },
           "yaxis": {
            "backgroundcolor": "rgb(17,17,17)",
            "gridcolor": "#506784",
            "gridwidth": 2,
            "linecolor": "#506784",
            "showbackground": true,
            "ticks": "",
            "zerolinecolor": "#C8D4E3"
           },
           "zaxis": {
            "backgroundcolor": "rgb(17,17,17)",
            "gridcolor": "#506784",
            "gridwidth": 2,
            "linecolor": "#506784",
            "showbackground": true,
            "ticks": "",
            "zerolinecolor": "#C8D4E3"
           }
          },
          "shapedefaults": {
           "line": {
            "color": "#f2f5fa"
           }
          },
          "sliderdefaults": {
           "bgcolor": "#C8D4E3",
           "bordercolor": "rgb(17,17,17)",
           "borderwidth": 1,
           "tickwidth": 0
          },
          "ternary": {
           "aaxis": {
            "gridcolor": "#506784",
            "linecolor": "#506784",
            "ticks": ""
           },
           "baxis": {
            "gridcolor": "#506784",
            "linecolor": "#506784",
            "ticks": ""
           },
           "bgcolor": "rgb(17,17,17)",
           "caxis": {
            "gridcolor": "#506784",
            "linecolor": "#506784",
            "ticks": ""
           }
          },
          "title": {
           "x": 0.05
          },
          "updatemenudefaults": {
           "bgcolor": "#506784",
           "borderwidth": 0
          },
          "xaxis": {
           "automargin": true,
           "gridcolor": "#283442",
           "linecolor": "#506784",
           "ticks": "",
           "title": {
            "standoff": 15
           },
           "zerolinecolor": "#283442",
           "zerolinewidth": 2
          },
          "yaxis": {
           "automargin": true,
           "gridcolor": "#283442",
           "linecolor": "#506784",
           "ticks": "",
           "title": {
            "standoff": 15
           },
           "zerolinecolor": "#283442",
           "zerolinewidth": 2
          }
         }
        },
        "xaxis": {
         "anchor": "y",
         "domain": [
          0,
          1
         ],
         "title": {
          "text": "total_bill"
         }
        },
        "yaxis": {
         "anchor": "x",
         "domain": [
          0,
          1
         ],
         "title": {
          "text": "count"
         }
        }
       }
      }
     },
     "metadata": {},
     "output_type": "display_data"
    }
   ],
   "source": [
    "import plotly.express as px\n",
    "\n",
    "df = px.data.tips()\n",
    "fig = px.histogram(df, x=\"total_bill\", template=\"plotly_dark\")\n",
    "fig.update_layout(\n",
    "    plot_bgcolor=\"rgb(34, 37, 41)\",\n",
    "    paper_bgcolor=\"rgb(34, 37, 41)\",\n",
    ")\n",
    "fig.show()"
   ]
  },
  {
   "cell_type": "code",
   "execution_count": 2,
   "metadata": {},
   "outputs": [],
   "source": [
    "custom_style = \"\"\"\n",
    "<style>\n",
    "  body, html {\n",
    "    background-color: rgb(34, 37, 41);\n",
    "  }\n",
    "</style>\n",
    "\"\"\"\n",
    "\n",
    "# Save the HTML file and inject the custom style\n",
    "html_content = fig.to_html(full_html=True, include_plotlyjs=\"cdn\")\n",
    "# Insert the style in the <head>\n",
    "html_content = html_content.replace(\"</head>\", f\"{custom_style}</head>\")\n",
    "\n",
    "# Write to a file\n",
    "with open(\"test.html\", \"w\") as f:\n",
    "    f.write(html_content)"
   ]
  },
  {
   "cell_type": "code",
   "execution_count": 4,
   "metadata": {},
   "outputs": [],
   "source": [
    "fig.write_image(\"test.svg\")"
   ]
  },
  {
   "cell_type": "code",
   "execution_count": 9,
   "metadata": {},
   "outputs": [
    {
     "data": {
      "text/plain": [
       "layout.Template({\n",
       "    'data': {'bar': [{'error_x': {'color': '#f2f5fa'},\n",
       "                      'error_y': {'color': '#f2f5fa'},\n",
       "                      'marker': {'line': {'color': 'rgb(17,17,17)', 'width': 0.5},\n",
       "                                 'pattern': {'fillmode': 'overlay', 'size': 10, 'solidity': 0.2}},\n",
       "                      'type': 'bar'}],\n",
       "             'barpolar': [{'marker': {'line': {'color': 'rgb(17,17,17)', 'width': 0.5},\n",
       "                                      'pattern': {'fillmode': 'overlay', 'size': 10, 'solidity': 0.2}},\n",
       "                           'type': 'barpolar'}],\n",
       "             'carpet': [{'aaxis': {'endlinecolor': '#A2B1C6',\n",
       "                                   'gridcolor': '#506784',\n",
       "                                   'linecolor': '#506784',\n",
       "                                   'minorgridcolor': '#506784',\n",
       "                                   'startlinecolor': '#A2B1C6'},\n",
       "                         'baxis': {'endlinecolor': '#A2B1C6',\n",
       "                                   'gridcolor': '#506784',\n",
       "                                   'linecolor': '#506784',\n",
       "                                   'minorgridcolor': '#506784',\n",
       "                                   'startlinecolor': '#A2B1C6'},\n",
       "                         'type': 'carpet'}],\n",
       "             'choropleth': [{'colorbar': {'outlinewidth': 0, 'ticks': ''}, 'type': 'choropleth'}],\n",
       "             'contour': [{'colorbar': {'outlinewidth': 0, 'ticks': ''},\n",
       "                          'colorscale': [[0.0, '#0d0887'], [0.1111111111111111,\n",
       "                                         '#46039f'], [0.2222222222222222,\n",
       "                                         '#7201a8'], [0.3333333333333333,\n",
       "                                         '#9c179e'], [0.4444444444444444,\n",
       "                                         '#bd3786'], [0.5555555555555556,\n",
       "                                         '#d8576b'], [0.6666666666666666,\n",
       "                                         '#ed7953'], [0.7777777777777778,\n",
       "                                         '#fb9f3a'], [0.8888888888888888,\n",
       "                                         '#fdca26'], [1.0, '#f0f921']],\n",
       "                          'type': 'contour'}],\n",
       "             'contourcarpet': [{'colorbar': {'outlinewidth': 0, 'ticks': ''}, 'type': 'contourcarpet'}],\n",
       "             'heatmap': [{'colorbar': {'outlinewidth': 0, 'ticks': ''},\n",
       "                          'colorscale': [[0.0, '#0d0887'], [0.1111111111111111,\n",
       "                                         '#46039f'], [0.2222222222222222,\n",
       "                                         '#7201a8'], [0.3333333333333333,\n",
       "                                         '#9c179e'], [0.4444444444444444,\n",
       "                                         '#bd3786'], [0.5555555555555556,\n",
       "                                         '#d8576b'], [0.6666666666666666,\n",
       "                                         '#ed7953'], [0.7777777777777778,\n",
       "                                         '#fb9f3a'], [0.8888888888888888,\n",
       "                                         '#fdca26'], [1.0, '#f0f921']],\n",
       "                          'type': 'heatmap'}],\n",
       "             'heatmapgl': [{'colorbar': {'outlinewidth': 0, 'ticks': ''},\n",
       "                            'colorscale': [[0.0, '#0d0887'], [0.1111111111111111,\n",
       "                                           '#46039f'], [0.2222222222222222,\n",
       "                                           '#7201a8'], [0.3333333333333333,\n",
       "                                           '#9c179e'], [0.4444444444444444,\n",
       "                                           '#bd3786'], [0.5555555555555556,\n",
       "                                           '#d8576b'], [0.6666666666666666,\n",
       "                                           '#ed7953'], [0.7777777777777778,\n",
       "                                           '#fb9f3a'], [0.8888888888888888,\n",
       "                                           '#fdca26'], [1.0, '#f0f921']],\n",
       "                            'type': 'heatmapgl'}],\n",
       "             'histogram': [{'marker': {'pattern': {'fillmode': 'overlay', 'size': 10, 'solidity': 0.2}},\n",
       "                            'type': 'histogram'}],\n",
       "             'histogram2d': [{'colorbar': {'outlinewidth': 0, 'ticks': ''},\n",
       "                              'colorscale': [[0.0, '#0d0887'],\n",
       "                                             [0.1111111111111111, '#46039f'],\n",
       "                                             [0.2222222222222222, '#7201a8'],\n",
       "                                             [0.3333333333333333, '#9c179e'],\n",
       "                                             [0.4444444444444444, '#bd3786'],\n",
       "                                             [0.5555555555555556, '#d8576b'],\n",
       "                                             [0.6666666666666666, '#ed7953'],\n",
       "                                             [0.7777777777777778, '#fb9f3a'],\n",
       "                                             [0.8888888888888888, '#fdca26'], [1.0,\n",
       "                                             '#f0f921']],\n",
       "                              'type': 'histogram2d'}],\n",
       "             'histogram2dcontour': [{'colorbar': {'outlinewidth': 0, 'ticks': ''},\n",
       "                                     'colorscale': [[0.0, '#0d0887'],\n",
       "                                                    [0.1111111111111111,\n",
       "                                                    '#46039f'],\n",
       "                                                    [0.2222222222222222,\n",
       "                                                    '#7201a8'],\n",
       "                                                    [0.3333333333333333,\n",
       "                                                    '#9c179e'],\n",
       "                                                    [0.4444444444444444,\n",
       "                                                    '#bd3786'],\n",
       "                                                    [0.5555555555555556,\n",
       "                                                    '#d8576b'],\n",
       "                                                    [0.6666666666666666,\n",
       "                                                    '#ed7953'],\n",
       "                                                    [0.7777777777777778,\n",
       "                                                    '#fb9f3a'],\n",
       "                                                    [0.8888888888888888,\n",
       "                                                    '#fdca26'], [1.0, '#f0f921']],\n",
       "                                     'type': 'histogram2dcontour'}],\n",
       "             'mesh3d': [{'colorbar': {'outlinewidth': 0, 'ticks': ''}, 'type': 'mesh3d'}],\n",
       "             'parcoords': [{'line': {'colorbar': {'outlinewidth': 0, 'ticks': ''}}, 'type': 'parcoords'}],\n",
       "             'pie': [{'automargin': True, 'type': 'pie'}],\n",
       "             'scatter': [{'marker': {'line': {'color': '#283442'}}, 'type': 'scatter'}],\n",
       "             'scatter3d': [{'line': {'colorbar': {'outlinewidth': 0, 'ticks': ''}},\n",
       "                            'marker': {'colorbar': {'outlinewidth': 0, 'ticks': ''}},\n",
       "                            'type': 'scatter3d'}],\n",
       "             'scattercarpet': [{'marker': {'colorbar': {'outlinewidth': 0, 'ticks': ''}}, 'type': 'scattercarpet'}],\n",
       "             'scattergeo': [{'marker': {'colorbar': {'outlinewidth': 0, 'ticks': ''}}, 'type': 'scattergeo'}],\n",
       "             'scattergl': [{'marker': {'line': {'color': '#283442'}}, 'type': 'scattergl'}],\n",
       "             'scattermapbox': [{'marker': {'colorbar': {'outlinewidth': 0, 'ticks': ''}}, 'type': 'scattermapbox'}],\n",
       "             'scatterpolar': [{'marker': {'colorbar': {'outlinewidth': 0, 'ticks': ''}}, 'type': 'scatterpolar'}],\n",
       "             'scatterpolargl': [{'marker': {'colorbar': {'outlinewidth': 0, 'ticks': ''}}, 'type': 'scatterpolargl'}],\n",
       "             'scatterternary': [{'marker': {'colorbar': {'outlinewidth': 0, 'ticks': ''}}, 'type': 'scatterternary'}],\n",
       "             'surface': [{'colorbar': {'outlinewidth': 0, 'ticks': ''},\n",
       "                          'colorscale': [[0.0, '#0d0887'], [0.1111111111111111,\n",
       "                                         '#46039f'], [0.2222222222222222,\n",
       "                                         '#7201a8'], [0.3333333333333333,\n",
       "                                         '#9c179e'], [0.4444444444444444,\n",
       "                                         '#bd3786'], [0.5555555555555556,\n",
       "                                         '#d8576b'], [0.6666666666666666,\n",
       "                                         '#ed7953'], [0.7777777777777778,\n",
       "                                         '#fb9f3a'], [0.8888888888888888,\n",
       "                                         '#fdca26'], [1.0, '#f0f921']],\n",
       "                          'type': 'surface'}],\n",
       "             'table': [{'cells': {'fill': {'color': '#506784'}, 'line': {'color': 'rgb(17,17,17)'}},\n",
       "                        'header': {'fill': {'color': '#2a3f5f'}, 'line': {'color': 'rgb(17,17,17)'}},\n",
       "                        'type': 'table'}]},\n",
       "    'layout': {'annotationdefaults': {'arrowcolor': '#f2f5fa', 'arrowhead': 0, 'arrowwidth': 1},\n",
       "               'autotypenumbers': 'strict',\n",
       "               'coloraxis': {'colorbar': {'outlinewidth': 0, 'ticks': ''}},\n",
       "               'colorscale': {'diverging': [[0, '#8e0152'], [0.1, '#c51b7d'],\n",
       "                                            [0.2, '#de77ae'], [0.3, '#f1b6da'],\n",
       "                                            [0.4, '#fde0ef'], [0.5, '#f7f7f7'],\n",
       "                                            [0.6, '#e6f5d0'], [0.7, '#b8e186'],\n",
       "                                            [0.8, '#7fbc41'], [0.9, '#4d9221'], [1,\n",
       "                                            '#276419']],\n",
       "                              'sequential': [[0.0, '#0d0887'],\n",
       "                                             [0.1111111111111111, '#46039f'],\n",
       "                                             [0.2222222222222222, '#7201a8'],\n",
       "                                             [0.3333333333333333, '#9c179e'],\n",
       "                                             [0.4444444444444444, '#bd3786'],\n",
       "                                             [0.5555555555555556, '#d8576b'],\n",
       "                                             [0.6666666666666666, '#ed7953'],\n",
       "                                             [0.7777777777777778, '#fb9f3a'],\n",
       "                                             [0.8888888888888888, '#fdca26'], [1.0,\n",
       "                                             '#f0f921']],\n",
       "                              'sequentialminus': [[0.0, '#0d0887'],\n",
       "                                                  [0.1111111111111111, '#46039f'],\n",
       "                                                  [0.2222222222222222, '#7201a8'],\n",
       "                                                  [0.3333333333333333, '#9c179e'],\n",
       "                                                  [0.4444444444444444, '#bd3786'],\n",
       "                                                  [0.5555555555555556, '#d8576b'],\n",
       "                                                  [0.6666666666666666, '#ed7953'],\n",
       "                                                  [0.7777777777777778, '#fb9f3a'],\n",
       "                                                  [0.8888888888888888, '#fdca26'],\n",
       "                                                  [1.0, '#f0f921']]},\n",
       "               'colorway': [#636efa, #EF553B, #00cc96, #ab63fa, #FFA15A, #19d3f3,\n",
       "                            #FF6692, #B6E880, #FF97FF, #FECB52],\n",
       "               'font': {'color': '#f2f5fa'},\n",
       "               'geo': {'bgcolor': 'rgb(17,17,17)',\n",
       "                       'lakecolor': 'rgb(17,17,17)',\n",
       "                       'landcolor': 'rgb(17,17,17)',\n",
       "                       'showlakes': True,\n",
       "                       'showland': True,\n",
       "                       'subunitcolor': '#506784'},\n",
       "               'hoverlabel': {'align': 'left'},\n",
       "               'hovermode': 'closest',\n",
       "               'mapbox': {'style': 'dark'},\n",
       "               'paper_bgcolor': 'rgb(17,17,17)',\n",
       "               'plot_bgcolor': 'rgb(17,17,17)',\n",
       "               'polar': {'angularaxis': {'gridcolor': '#506784', 'linecolor': '#506784', 'ticks': ''},\n",
       "                         'bgcolor': 'rgb(17,17,17)',\n",
       "                         'radialaxis': {'gridcolor': '#506784', 'linecolor': '#506784', 'ticks': ''}},\n",
       "               'scene': {'xaxis': {'backgroundcolor': 'rgb(17,17,17)',\n",
       "                                   'gridcolor': '#506784',\n",
       "                                   'gridwidth': 2,\n",
       "                                   'linecolor': '#506784',\n",
       "                                   'showbackground': True,\n",
       "                                   'ticks': '',\n",
       "                                   'zerolinecolor': '#C8D4E3'},\n",
       "                         'yaxis': {'backgroundcolor': 'rgb(17,17,17)',\n",
       "                                   'gridcolor': '#506784',\n",
       "                                   'gridwidth': 2,\n",
       "                                   'linecolor': '#506784',\n",
       "                                   'showbackground': True,\n",
       "                                   'ticks': '',\n",
       "                                   'zerolinecolor': '#C8D4E3'},\n",
       "                         'zaxis': {'backgroundcolor': 'rgb(17,17,17)',\n",
       "                                   'gridcolor': '#506784',\n",
       "                                   'gridwidth': 2,\n",
       "                                   'linecolor': '#506784',\n",
       "                                   'showbackground': True,\n",
       "                                   'ticks': '',\n",
       "                                   'zerolinecolor': '#C8D4E3'}},\n",
       "               'shapedefaults': {'line': {'color': '#f2f5fa'}},\n",
       "               'sliderdefaults': {'bgcolor': '#C8D4E3', 'bordercolor': 'rgb(17,17,17)', 'borderwidth': 1, 'tickwidth': 0},\n",
       "               'ternary': {'aaxis': {'gridcolor': '#506784', 'linecolor': '#506784', 'ticks': ''},\n",
       "                           'baxis': {'gridcolor': '#506784', 'linecolor': '#506784', 'ticks': ''},\n",
       "                           'bgcolor': 'rgb(17,17,17)',\n",
       "                           'caxis': {'gridcolor': '#506784', 'linecolor': '#506784', 'ticks': ''}},\n",
       "               'title': {'x': 0.05},\n",
       "               'updatemenudefaults': {'bgcolor': '#506784', 'borderwidth': 0},\n",
       "               'xaxis': {'automargin': True,\n",
       "                         'gridcolor': '#283442',\n",
       "                         'linecolor': '#506784',\n",
       "                         'ticks': '',\n",
       "                         'title': {'standoff': 15},\n",
       "                         'zerolinecolor': '#283442',\n",
       "                         'zerolinewidth': 2},\n",
       "               'yaxis': {'automargin': True,\n",
       "                         'gridcolor': '#283442',\n",
       "                         'linecolor': '#506784',\n",
       "                         'ticks': '',\n",
       "                         'title': {'standoff': 15},\n",
       "                         'zerolinecolor': '#283442',\n",
       "                         'zerolinewidth': 2}}\n",
       "})"
      ]
     },
     "execution_count": 9,
     "metadata": {},
     "output_type": "execute_result"
    }
   ],
   "source": [
    "import plotly.io as pio\n",
    "\n",
    "pio.templates\n",
    "pio.templates[\"plotly_dark\"]"
   ]
  },
  {
   "cell_type": "code",
   "execution_count": null,
   "metadata": {},
   "outputs": [],
   "source": [
    "pio.templates[\"plotly_dark_custom\"] = pio.templates[\"plotly_dark\"]\n",
    "\n",
    "pio.templates[\"plotly_dark_custom\"].update(\n",
    "    {\n",
    "        # e.g. you want to change the background to transparent\n",
    "        \"paper_bgcolor\": \"rgba()\",\n",
    "        \"plot_bgcolor\": \"rgba(0,0,0,0)\",\n",
    "    }\n",
    ")"
   ]
  },
  {
   "cell_type": "code",
   "execution_count": 19,
   "metadata": {},
   "outputs": [
    {
     "name": "stdout",
     "output_type": "stream",
     "text": [
      "\n",
      "        <div class=\"col\">\n",
      "          <div class=\"card shadow-sm\">\n",
      "            <img src=\"frontend/figures/HIndex_Target.svg\" class=\"img-fluid\" alt=\"...\">\n",
      "            <div class=\"card-body\">\n",
      "              <!-- <p class=\"card-text\">This is a wider card with supporting text below as a natural lead-in to additional content. This content is a little bit longer.</p> -->\n",
      "              <div class=\"d-flex justify-content-between align-items-center\">\n",
      "                <div class=\"btn-group\">\n",
      "                  <a class=\"btn btn-sm btn-outline-primary\" href=\"index.html#HIndex_Target\">View in Data Story</a>\n",
      "                  <a class=\"btn btn-sm btn-outline-secondary\" href=\"frontend/figures/HIndex_Target.html\">View in fullscreen</a>\n",
      "                </div>\n",
      "                <!-- <small class=\"text-body-secondary\">9 mins</small> -->\n",
      "              </div>\n",
      "            </div>\n",
      "          </div>\n",
      "        </div>\n",
      "        \n",
      "        <div class=\"col\">\n",
      "          <div class=\"card shadow-sm\">\n",
      "            <img src=\"frontend/figures/availability_bk.svg\" class=\"img-fluid\" alt=\"...\">\n",
      "            <div class=\"card-body\">\n",
      "              <!-- <p class=\"card-text\">This is a wider card with supporting text below as a natural lead-in to additional content. This content is a little bit longer.</p> -->\n",
      "              <div class=\"d-flex justify-content-between align-items-center\">\n",
      "                <div class=\"btn-group\">\n",
      "                  <a class=\"btn btn-sm btn-outline-primary\" href=\"index.html#availability_bk\">View in Data Story</a>\n",
      "                  <a class=\"btn btn-sm btn-outline-secondary\" href=\"frontend/figures/availability_bk.html\">View in fullscreen</a>\n",
      "                </div>\n",
      "                <!-- <small class=\"text-body-secondary\">9 mins</small> -->\n",
      "              </div>\n",
      "            </div>\n",
      "          </div>\n",
      "        </div>\n",
      "        \n",
      "        <div class=\"col\">\n",
      "          <div class=\"card shadow-sm\">\n",
      "            <img src=\"frontend/figures/Patents_Citations_Target.svg\" class=\"img-fluid\" alt=\"...\">\n",
      "            <div class=\"card-body\">\n",
      "              <!-- <p class=\"card-text\">This is a wider card with supporting text below as a natural lead-in to additional content. This content is a little bit longer.</p> -->\n",
      "              <div class=\"d-flex justify-content-between align-items-center\">\n",
      "                <div class=\"btn-group\">\n",
      "                  <a class=\"btn btn-sm btn-outline-primary\" href=\"index.html#Patents_Citations_Target\">View in Data Story</a>\n",
      "                  <a class=\"btn btn-sm btn-outline-secondary\" href=\"frontend/figures/Patents_Citations_Target.html\">View in fullscreen</a>\n",
      "                </div>\n",
      "                <!-- <small class=\"text-body-secondary\">9 mins</small> -->\n",
      "              </div>\n",
      "            </div>\n",
      "          </div>\n",
      "        </div>\n",
      "        \n",
      "        <div class=\"col\">\n",
      "          <div class=\"card shadow-sm\">\n",
      "            <img src=\"frontend/figures/Patent_Status_Diseases.svg\" class=\"img-fluid\" alt=\"...\">\n",
      "            <div class=\"card-body\">\n",
      "              <!-- <p class=\"card-text\">This is a wider card with supporting text below as a natural lead-in to additional content. This content is a little bit longer.</p> -->\n",
      "              <div class=\"d-flex justify-content-between align-items-center\">\n",
      "                <div class=\"btn-group\">\n",
      "                  <a class=\"btn btn-sm btn-outline-primary\" href=\"index.html#Patent_Status_Diseases\">View in Data Story</a>\n",
      "                  <a class=\"btn btn-sm btn-outline-secondary\" href=\"frontend/figures/Patent_Status_Diseases.html\">View in fullscreen</a>\n",
      "                </div>\n",
      "                <!-- <small class=\"text-body-secondary\">9 mins</small> -->\n",
      "              </div>\n",
      "            </div>\n",
      "          </div>\n",
      "        </div>\n",
      "        \n",
      "        <div class=\"col\">\n",
      "          <div class=\"card shadow-sm\">\n",
      "            <img src=\"frontend/figures/pairplot.svg\" class=\"img-fluid\" alt=\"...\">\n",
      "            <div class=\"card-body\">\n",
      "              <!-- <p class=\"card-text\">This is a wider card with supporting text below as a natural lead-in to additional content. This content is a little bit longer.</p> -->\n",
      "              <div class=\"d-flex justify-content-between align-items-center\">\n",
      "                <div class=\"btn-group\">\n",
      "                  <a class=\"btn btn-sm btn-outline-primary\" href=\"index.html#pairplot\">View in Data Story</a>\n",
      "                  <a class=\"btn btn-sm btn-outline-secondary\" href=\"frontend/figures/pairplot.html\">View in fullscreen</a>\n",
      "                </div>\n",
      "                <!-- <small class=\"text-body-secondary\">9 mins</small> -->\n",
      "              </div>\n",
      "            </div>\n",
      "          </div>\n",
      "        </div>\n",
      "        \n",
      "        <div class=\"col\">\n",
      "          <div class=\"card shadow-sm\">\n",
      "            <img src=\"frontend/figures/availability_lt.svg\" class=\"img-fluid\" alt=\"...\">\n",
      "            <div class=\"card-body\">\n",
      "              <!-- <p class=\"card-text\">This is a wider card with supporting text below as a natural lead-in to additional content. This content is a little bit longer.</p> -->\n",
      "              <div class=\"d-flex justify-content-between align-items-center\">\n",
      "                <div class=\"btn-group\">\n",
      "                  <a class=\"btn btn-sm btn-outline-primary\" href=\"index.html#availability_lt\">View in Data Story</a>\n",
      "                  <a class=\"btn btn-sm btn-outline-secondary\" href=\"frontend/figures/availability_lt.html\">View in fullscreen</a>\n",
      "                </div>\n",
      "                <!-- <small class=\"text-body-secondary\">9 mins</small> -->\n",
      "              </div>\n",
      "            </div>\n",
      "          </div>\n",
      "        </div>\n",
      "        \n",
      "        <div class=\"col\">\n",
      "          <div class=\"card shadow-sm\">\n",
      "            <img src=\"frontend/figures/metadata.svg\" class=\"img-fluid\" alt=\"...\">\n",
      "            <div class=\"card-body\">\n",
      "              <!-- <p class=\"card-text\">This is a wider card with supporting text below as a natural lead-in to additional content. This content is a little bit longer.</p> -->\n",
      "              <div class=\"d-flex justify-content-between align-items-center\">\n",
      "                <div class=\"btn-group\">\n",
      "                  <a class=\"btn btn-sm btn-outline-primary\" href=\"index.html#metadata\">View in Data Story</a>\n",
      "                  <a class=\"btn btn-sm btn-outline-secondary\" href=\"frontend/figures/metadata.html\">View in fullscreen</a>\n",
      "                </div>\n",
      "                <!-- <small class=\"text-body-secondary\">9 mins</small> -->\n",
      "              </div>\n",
      "            </div>\n",
      "          </div>\n",
      "        </div>\n",
      "        \n",
      "        <div class=\"col\">\n",
      "          <div class=\"card shadow-sm\">\n",
      "            <img src=\"frontend/figures/Timeseries_Citations_Diseases.svg\" class=\"img-fluid\" alt=\"...\">\n",
      "            <div class=\"card-body\">\n",
      "              <!-- <p class=\"card-text\">This is a wider card with supporting text below as a natural lead-in to additional content. This content is a little bit longer.</p> -->\n",
      "              <div class=\"d-flex justify-content-between align-items-center\">\n",
      "                <div class=\"btn-group\">\n",
      "                  <a class=\"btn btn-sm btn-outline-primary\" href=\"index.html#Timeseries_Citations_Diseases\">View in Data Story</a>\n",
      "                  <a class=\"btn btn-sm btn-outline-secondary\" href=\"frontend/figures/Timeseries_Citations_Diseases.html\">View in fullscreen</a>\n",
      "                </div>\n",
      "                <!-- <small class=\"text-body-secondary\">9 mins</small> -->\n",
      "              </div>\n",
      "            </div>\n",
      "          </div>\n",
      "        </div>\n",
      "        \n",
      "        <div class=\"col\">\n",
      "          <div class=\"card shadow-sm\">\n",
      "            <img src=\"frontend/figures/Citations_per_Disease.svg\" class=\"img-fluid\" alt=\"...\">\n",
      "            <div class=\"card-body\">\n",
      "              <!-- <p class=\"card-text\">This is a wider card with supporting text below as a natural lead-in to additional content. This content is a little bit longer.</p> -->\n",
      "              <div class=\"d-flex justify-content-between align-items-center\">\n",
      "                <div class=\"btn-group\">\n",
      "                  <a class=\"btn btn-sm btn-outline-primary\" href=\"index.html#Citations_per_Disease\">View in Data Story</a>\n",
      "                  <a class=\"btn btn-sm btn-outline-secondary\" href=\"frontend/figures/Citations_per_Disease.html\">View in fullscreen</a>\n",
      "                </div>\n",
      "                <!-- <small class=\"text-body-secondary\">9 mins</small> -->\n",
      "              </div>\n",
      "            </div>\n",
      "          </div>\n",
      "        </div>\n",
      "        \n",
      "        <div class=\"col\">\n",
      "          <div class=\"card shadow-sm\">\n",
      "            <img src=\"frontend/figures/Lipinski.svg\" class=\"img-fluid\" alt=\"...\">\n",
      "            <div class=\"card-body\">\n",
      "              <!-- <p class=\"card-text\">This is a wider card with supporting text below as a natural lead-in to additional content. This content is a little bit longer.</p> -->\n",
      "              <div class=\"d-flex justify-content-between align-items-center\">\n",
      "                <div class=\"btn-group\">\n",
      "                  <a class=\"btn btn-sm btn-outline-primary\" href=\"index.html#Lipinski\">View in Data Story</a>\n",
      "                  <a class=\"btn btn-sm btn-outline-secondary\" href=\"frontend/figures/Lipinski.html\">View in fullscreen</a>\n",
      "                </div>\n",
      "                <!-- <small class=\"text-body-secondary\">9 mins</small> -->\n",
      "              </div>\n",
      "            </div>\n",
      "          </div>\n",
      "        </div>\n",
      "        \n",
      "        <div class=\"col\">\n",
      "          <div class=\"card shadow-sm\">\n",
      "            <img src=\"frontend/figures/TargetClasses.svg\" class=\"img-fluid\" alt=\"...\">\n",
      "            <div class=\"card-body\">\n",
      "              <!-- <p class=\"card-text\">This is a wider card with supporting text below as a natural lead-in to additional content. This content is a little bit longer.</p> -->\n",
      "              <div class=\"d-flex justify-content-between align-items-center\">\n",
      "                <div class=\"btn-group\">\n",
      "                  <a class=\"btn btn-sm btn-outline-primary\" href=\"index.html#TargetClasses\">View in Data Story</a>\n",
      "                  <a class=\"btn btn-sm btn-outline-secondary\" href=\"frontend/figures/TargetClasses.html\">View in fullscreen</a>\n",
      "                </div>\n",
      "                <!-- <small class=\"text-body-secondary\">9 mins</small> -->\n",
      "              </div>\n",
      "            </div>\n",
      "          </div>\n",
      "        </div>\n",
      "        \n",
      "        <div class=\"col\">\n",
      "          <div class=\"card shadow-sm\">\n",
      "            <img src=\"frontend/figures/distributions.svg\" class=\"img-fluid\" alt=\"...\">\n",
      "            <div class=\"card-body\">\n",
      "              <!-- <p class=\"card-text\">This is a wider card with supporting text below as a natural lead-in to additional content. This content is a little bit longer.</p> -->\n",
      "              <div class=\"d-flex justify-content-between align-items-center\">\n",
      "                <div class=\"btn-group\">\n",
      "                  <a class=\"btn btn-sm btn-outline-primary\" href=\"index.html#distributions\">View in Data Story</a>\n",
      "                  <a class=\"btn btn-sm btn-outline-secondary\" href=\"frontend/figures/distributions.html\">View in fullscreen</a>\n",
      "                </div>\n",
      "                <!-- <small class=\"text-body-secondary\">9 mins</small> -->\n",
      "              </div>\n",
      "            </div>\n",
      "          </div>\n",
      "        </div>\n",
      "        \n",
      "        <div class=\"col\">\n",
      "          <div class=\"card shadow-sm\">\n",
      "            <img src=\"frontend/figures/Patents_HIndex_Target.svg\" class=\"img-fluid\" alt=\"...\">\n",
      "            <div class=\"card-body\">\n",
      "              <!-- <p class=\"card-text\">This is a wider card with supporting text below as a natural lead-in to additional content. This content is a little bit longer.</p> -->\n",
      "              <div class=\"d-flex justify-content-between align-items-center\">\n",
      "                <div class=\"btn-group\">\n",
      "                  <a class=\"btn btn-sm btn-outline-primary\" href=\"index.html#Patents_HIndex_Target\">View in Data Story</a>\n",
      "                  <a class=\"btn btn-sm btn-outline-secondary\" href=\"frontend/figures/Patents_HIndex_Target.html\">View in fullscreen</a>\n",
      "                </div>\n",
      "                <!-- <small class=\"text-body-secondary\">9 mins</small> -->\n",
      "              </div>\n",
      "            </div>\n",
      "          </div>\n",
      "        </div>\n",
      "        \n",
      "        <div class=\"col\">\n",
      "          <div class=\"card shadow-sm\">\n",
      "            <img src=\"frontend/figures/distrib_patent_doi.svg\" class=\"img-fluid\" alt=\"...\">\n",
      "            <div class=\"card-body\">\n",
      "              <!-- <p class=\"card-text\">This is a wider card with supporting text below as a natural lead-in to additional content. This content is a little bit longer.</p> -->\n",
      "              <div class=\"d-flex justify-content-between align-items-center\">\n",
      "                <div class=\"btn-group\">\n",
      "                  <a class=\"btn btn-sm btn-outline-primary\" href=\"index.html#distrib_patent_doi\">View in Data Story</a>\n",
      "                  <a class=\"btn btn-sm btn-outline-secondary\" href=\"frontend/figures/distrib_patent_doi.html\">View in fullscreen</a>\n",
      "                </div>\n",
      "                <!-- <small class=\"text-body-secondary\">9 mins</small> -->\n",
      "              </div>\n",
      "            </div>\n",
      "          </div>\n",
      "        </div>\n",
      "        \n",
      "        <div class=\"col\">\n",
      "          <div class=\"card shadow-sm\">\n",
      "            <img src=\"frontend/figures/Patents_HIndex_Diseases.svg\" class=\"img-fluid\" alt=\"...\">\n",
      "            <div class=\"card-body\">\n",
      "              <!-- <p class=\"card-text\">This is a wider card with supporting text below as a natural lead-in to additional content. This content is a little bit longer.</p> -->\n",
      "              <div class=\"d-flex justify-content-between align-items-center\">\n",
      "                <div class=\"btn-group\">\n",
      "                  <a class=\"btn btn-sm btn-outline-primary\" href=\"index.html#Patents_HIndex_Diseases\">View in Data Story</a>\n",
      "                  <a class=\"btn btn-sm btn-outline-secondary\" href=\"frontend/figures/Patents_HIndex_Diseases.html\">View in fullscreen</a>\n",
      "                </div>\n",
      "                <!-- <small class=\"text-body-secondary\">9 mins</small> -->\n",
      "              </div>\n",
      "            </div>\n",
      "          </div>\n",
      "        </div>\n",
      "        \n",
      "        <div class=\"col\">\n",
      "          <div class=\"card shadow-sm\">\n",
      "            <img src=\"frontend/figures/institutions.svg\" class=\"img-fluid\" alt=\"...\">\n",
      "            <div class=\"card-body\">\n",
      "              <!-- <p class=\"card-text\">This is a wider card with supporting text below as a natural lead-in to additional content. This content is a little bit longer.</p> -->\n",
      "              <div class=\"d-flex justify-content-between align-items-center\">\n",
      "                <div class=\"btn-group\">\n",
      "                  <a class=\"btn btn-sm btn-outline-primary\" href=\"index.html#institutions\">View in Data Story</a>\n",
      "                  <a class=\"btn btn-sm btn-outline-secondary\" href=\"frontend/figures/institutions.html\">View in fullscreen</a>\n",
      "                </div>\n",
      "                <!-- <small class=\"text-body-secondary\">9 mins</small> -->\n",
      "              </div>\n",
      "            </div>\n",
      "          </div>\n",
      "        </div>\n",
      "        \n",
      "        <div class=\"col\">\n",
      "          <div class=\"card shadow-sm\">\n",
      "            <img src=\"frontend/figures/overlaps_lt.svg\" class=\"img-fluid\" alt=\"...\">\n",
      "            <div class=\"card-body\">\n",
      "              <!-- <p class=\"card-text\">This is a wider card with supporting text below as a natural lead-in to additional content. This content is a little bit longer.</p> -->\n",
      "              <div class=\"d-flex justify-content-between align-items-center\">\n",
      "                <div class=\"btn-group\">\n",
      "                  <a class=\"btn btn-sm btn-outline-primary\" href=\"index.html#overlaps_lt\">View in Data Story</a>\n",
      "                  <a class=\"btn btn-sm btn-outline-secondary\" href=\"frontend/figures/overlaps_lt.html\">View in fullscreen</a>\n",
      "                </div>\n",
      "                <!-- <small class=\"text-body-secondary\">9 mins</small> -->\n",
      "              </div>\n",
      "            </div>\n",
      "          </div>\n",
      "        </div>\n",
      "        \n",
      "        <div class=\"col\">\n",
      "          <div class=\"card shadow-sm\">\n",
      "            <img src=\"frontend/figures/HIndex_Disease.svg\" class=\"img-fluid\" alt=\"...\">\n",
      "            <div class=\"card-body\">\n",
      "              <!-- <p class=\"card-text\">This is a wider card with supporting text below as a natural lead-in to additional content. This content is a little bit longer.</p> -->\n",
      "              <div class=\"d-flex justify-content-between align-items-center\">\n",
      "                <div class=\"btn-group\">\n",
      "                  <a class=\"btn btn-sm btn-outline-primary\" href=\"index.html#HIndex_Disease\">View in Data Story</a>\n",
      "                  <a class=\"btn btn-sm btn-outline-secondary\" href=\"frontend/figures/HIndex_Disease.html\">View in fullscreen</a>\n",
      "                </div>\n",
      "                <!-- <small class=\"text-body-secondary\">9 mins</small> -->\n",
      "              </div>\n",
      "            </div>\n",
      "          </div>\n",
      "        </div>\n",
      "        \n",
      "        <div class=\"col\">\n",
      "          <div class=\"card shadow-sm\">\n",
      "            <img src=\"frontend/figures/overlaps_bk.svg\" class=\"img-fluid\" alt=\"...\">\n",
      "            <div class=\"card-body\">\n",
      "              <!-- <p class=\"card-text\">This is a wider card with supporting text below as a natural lead-in to additional content. This content is a little bit longer.</p> -->\n",
      "              <div class=\"d-flex justify-content-between align-items-center\">\n",
      "                <div class=\"btn-group\">\n",
      "                  <a class=\"btn btn-sm btn-outline-primary\" href=\"index.html#overlaps_bk\">View in Data Story</a>\n",
      "                  <a class=\"btn btn-sm btn-outline-secondary\" href=\"frontend/figures/overlaps_bk.html\">View in fullscreen</a>\n",
      "                </div>\n",
      "                <!-- <small class=\"text-body-secondary\">9 mins</small> -->\n",
      "              </div>\n",
      "            </div>\n",
      "          </div>\n",
      "        </div>\n",
      "        \n",
      "        <div class=\"col\">\n",
      "          <div class=\"card shadow-sm\">\n",
      "            <img src=\"frontend/figures/disease_classes.svg\" class=\"img-fluid\" alt=\"...\">\n",
      "            <div class=\"card-body\">\n",
      "              <!-- <p class=\"card-text\">This is a wider card with supporting text below as a natural lead-in to additional content. This content is a little bit longer.</p> -->\n",
      "              <div class=\"d-flex justify-content-between align-items-center\">\n",
      "                <div class=\"btn-group\">\n",
      "                  <a class=\"btn btn-sm btn-outline-primary\" href=\"index.html#disease_classes\">View in Data Story</a>\n",
      "                  <a class=\"btn btn-sm btn-outline-secondary\" href=\"frontend/figures/disease_classes.html\">View in fullscreen</a>\n",
      "                </div>\n",
      "                <!-- <small class=\"text-body-secondary\">9 mins</small> -->\n",
      "              </div>\n",
      "            </div>\n",
      "          </div>\n",
      "        </div>\n",
      "        \n",
      "        <div class=\"col\">\n",
      "          <div class=\"card shadow-sm\">\n",
      "            <img src=\"frontend/figures/Patent_Status_Target.svg\" class=\"img-fluid\" alt=\"...\">\n",
      "            <div class=\"card-body\">\n",
      "              <!-- <p class=\"card-text\">This is a wider card with supporting text below as a natural lead-in to additional content. This content is a little bit longer.</p> -->\n",
      "              <div class=\"d-flex justify-content-between align-items-center\">\n",
      "                <div class=\"btn-group\">\n",
      "                  <a class=\"btn btn-sm btn-outline-primary\" href=\"index.html#Patent_Status_Target\">View in Data Story</a>\n",
      "                  <a class=\"btn btn-sm btn-outline-secondary\" href=\"frontend/figures/Patent_Status_Target.html\">View in fullscreen</a>\n",
      "                </div>\n",
      "                <!-- <small class=\"text-body-secondary\">9 mins</small> -->\n",
      "              </div>\n",
      "            </div>\n",
      "          </div>\n",
      "        </div>\n",
      "        \n",
      "        <div class=\"col\">\n",
      "          <div class=\"card shadow-sm\">\n",
      "            <img src=\"frontend/figures/Citations_per_Target.svg\" class=\"img-fluid\" alt=\"...\">\n",
      "            <div class=\"card-body\">\n",
      "              <!-- <p class=\"card-text\">This is a wider card with supporting text below as a natural lead-in to additional content. This content is a little bit longer.</p> -->\n",
      "              <div class=\"d-flex justify-content-between align-items-center\">\n",
      "                <div class=\"btn-group\">\n",
      "                  <a class=\"btn btn-sm btn-outline-primary\" href=\"index.html#Citations_per_Target\">View in Data Story</a>\n",
      "                  <a class=\"btn btn-sm btn-outline-secondary\" href=\"frontend/figures/Citations_per_Target.html\">View in fullscreen</a>\n",
      "                </div>\n",
      "                <!-- <small class=\"text-body-secondary\">9 mins</small> -->\n",
      "              </div>\n",
      "            </div>\n",
      "          </div>\n",
      "        </div>\n",
      "        \n",
      "        <div class=\"col\">\n",
      "          <div class=\"card shadow-sm\">\n",
      "            <img src=\"frontend/figures/targetsourcedistrib.svg\" class=\"img-fluid\" alt=\"...\">\n",
      "            <div class=\"card-body\">\n",
      "              <!-- <p class=\"card-text\">This is a wider card with supporting text below as a natural lead-in to additional content. This content is a little bit longer.</p> -->\n",
      "              <div class=\"d-flex justify-content-between align-items-center\">\n",
      "                <div class=\"btn-group\">\n",
      "                  <a class=\"btn btn-sm btn-outline-primary\" href=\"index.html#targetsourcedistrib\">View in Data Story</a>\n",
      "                  <a class=\"btn btn-sm btn-outline-secondary\" href=\"frontend/figures/targetsourcedistrib.html\">View in fullscreen</a>\n",
      "                </div>\n",
      "                <!-- <small class=\"text-body-secondary\">9 mins</small> -->\n",
      "              </div>\n",
      "            </div>\n",
      "          </div>\n",
      "        </div>\n",
      "        \n",
      "        <div class=\"col\">\n",
      "          <div class=\"card shadow-sm\">\n",
      "            <img src=\"frontend/figures/Patents_Diseases.svg\" class=\"img-fluid\" alt=\"...\">\n",
      "            <div class=\"card-body\">\n",
      "              <!-- <p class=\"card-text\">This is a wider card with supporting text below as a natural lead-in to additional content. This content is a little bit longer.</p> -->\n",
      "              <div class=\"d-flex justify-content-between align-items-center\">\n",
      "                <div class=\"btn-group\">\n",
      "                  <a class=\"btn btn-sm btn-outline-primary\" href=\"index.html#Patents_Diseases\">View in Data Story</a>\n",
      "                  <a class=\"btn btn-sm btn-outline-secondary\" href=\"frontend/figures/Patents_Diseases.html\">View in fullscreen</a>\n",
      "                </div>\n",
      "                <!-- <small class=\"text-body-secondary\">9 mins</small> -->\n",
      "              </div>\n",
      "            </div>\n",
      "          </div>\n",
      "        </div>\n",
      "        \n",
      "        <div class=\"col\">\n",
      "          <div class=\"card shadow-sm\">\n",
      "            <img src=\"frontend/figures/diseases_timeseries.svg\" class=\"img-fluid\" alt=\"...\">\n",
      "            <div class=\"card-body\">\n",
      "              <!-- <p class=\"card-text\">This is a wider card with supporting text below as a natural lead-in to additional content. This content is a little bit longer.</p> -->\n",
      "              <div class=\"d-flex justify-content-between align-items-center\">\n",
      "                <div class=\"btn-group\">\n",
      "                  <a class=\"btn btn-sm btn-outline-primary\" href=\"index.html#diseases_timeseries\">View in Data Story</a>\n",
      "                  <a class=\"btn btn-sm btn-outline-secondary\" href=\"frontend/figures/diseases_timeseries.html\">View in fullscreen</a>\n",
      "                </div>\n",
      "                <!-- <small class=\"text-body-secondary\">9 mins</small> -->\n",
      "              </div>\n",
      "            </div>\n",
      "          </div>\n",
      "        </div>\n",
      "        \n",
      "        <div class=\"col\">\n",
      "          <div class=\"card shadow-sm\">\n",
      "            <img src=\"frontend/figures/Sankey_Targets_Diseases.svg\" class=\"img-fluid\" alt=\"...\">\n",
      "            <div class=\"card-body\">\n",
      "              <!-- <p class=\"card-text\">This is a wider card with supporting text below as a natural lead-in to additional content. This content is a little bit longer.</p> -->\n",
      "              <div class=\"d-flex justify-content-between align-items-center\">\n",
      "                <div class=\"btn-group\">\n",
      "                  <a class=\"btn btn-sm btn-outline-primary\" href=\"index.html#Sankey_Targets_Diseases\">View in Data Story</a>\n",
      "                  <a class=\"btn btn-sm btn-outline-secondary\" href=\"frontend/figures/Sankey_Targets_Diseases.html\">View in fullscreen</a>\n",
      "                </div>\n",
      "                <!-- <small class=\"text-body-secondary\">9 mins</small> -->\n",
      "              </div>\n",
      "            </div>\n",
      "          </div>\n",
      "        </div>\n",
      "        \n",
      "        <div class=\"col\">\n",
      "          <div class=\"card shadow-sm\">\n",
      "            <img src=\"frontend/figures/test.svg\" class=\"img-fluid\" alt=\"...\">\n",
      "            <div class=\"card-body\">\n",
      "              <!-- <p class=\"card-text\">This is a wider card with supporting text below as a natural lead-in to additional content. This content is a little bit longer.</p> -->\n",
      "              <div class=\"d-flex justify-content-between align-items-center\">\n",
      "                <div class=\"btn-group\">\n",
      "                  <a class=\"btn btn-sm btn-outline-primary\" href=\"index.html#test\">View in Data Story</a>\n",
      "                  <a class=\"btn btn-sm btn-outline-secondary\" href=\"frontend/figures/test.html\">View in fullscreen</a>\n",
      "                </div>\n",
      "                <!-- <small class=\"text-body-secondary\">9 mins</small> -->\n",
      "              </div>\n",
      "            </div>\n",
      "          </div>\n",
      "        </div>\n",
      "        \n"
     ]
    }
   ],
   "source": [
    "import os\n",
    "\n",
    "\n",
    "print(\n",
    "    \"\".join(\n",
    "        [\n",
    "            f\"\"\"\n",
    "        <div class=\"col\">\n",
    "          <div class=\"card shadow-sm\">\n",
    "            <img src=\"frontend/figures/{file_path}\" class=\"img-fluid\" alt=\"...\">\n",
    "            <div class=\"card-body\">\n",
    "              <!-- <p class=\"card-text\">This is a wider card with supporting text below as a natural lead-in to additional content. This content is a little bit longer.</p> -->\n",
    "              <div class=\"d-flex justify-content-between align-items-center\">\n",
    "                <div class=\"btn-group\">\n",
    "                  <a class=\"btn btn-sm btn-outline-primary\" href=\"index.html#{file_path.replace(\".svg\", \"\")}\">View in Data Story</a>\n",
    "                  <a class=\"btn btn-sm btn-outline-secondary\" href=\"frontend/figures/{file_path.replace(\".svg\", \".html\")}\">View in fullscreen</a>\n",
    "                </div>\n",
    "                <!-- <small class=\"text-body-secondary\">9 mins</small> -->\n",
    "              </div>\n",
    "            </div>\n",
    "          </div>\n",
    "        </div>\n",
    "        \"\"\"\n",
    "            for file_path in filter(\n",
    "                lambda file: file.endswith(\"svg\"), os.listdir(\"frontend/figures\")\n",
    "            )\n",
    "        ]\n",
    "    )\n",
    ")"
   ]
  },
  {
   "cell_type": "code",
   "execution_count": null,
   "metadata": {},
   "outputs": [],
   "source": []
  }
 ],
 "metadata": {
  "kernelspec": {
   "display_name": "ada",
   "language": "python",
   "name": "python3"
  },
  "language_info": {
   "codemirror_mode": {
    "name": "ipython",
    "version": 3
   },
   "file_extension": ".py",
   "mimetype": "text/x-python",
   "name": "python",
   "nbconvert_exporter": "python",
   "pygments_lexer": "ipython3",
   "version": "3.11.9"
  }
 },
 "nbformat": 4,
 "nbformat_minor": 2
}
