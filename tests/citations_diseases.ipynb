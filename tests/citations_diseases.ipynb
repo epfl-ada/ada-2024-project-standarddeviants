{
 "cells": [
  {
   "cell_type": "markdown",
   "metadata": {},
   "source": [
    "### Importing useful packages and loading BindingDB dataset:"
   ]
  },
  {
   "cell_type": "code",
   "execution_count": 24,
   "metadata": {},
   "outputs": [],
   "source": [
    "import pandas as pd\n",
    "import seaborn as sns\n",
    "import matplotlib.pyplot as plt\n",
    "import numpy as np\n",
    "import plotly.express as px\n",
    "import requests\n",
    "import re\n",
    "import lxml\n",
    "from bs4 import BeautifulSoup\n",
    "import sys\n",
    "import os\n",
    "import json\n",
    "import plotly.graph_objects as go\n",
    "\n",
    "import warnings\n",
    "warnings.filterwarnings(\"ignore\")\n",
    "\n",
    "from src.scripts.citations import get_citations\n",
    "from src.scripts.disease_plotting import load_uniprotid_diseases\n",
    "from src.scripts.disease_plotting import add_keywords_when_comments_missing\n",
    "from src.scripts.disease_plotting import weigh_each_comment\n",
    "from src.scripts.disease_plotting import sort_diseases\n",
    "from src.scripts.citations import calculate_H_index_diseases\n",
    "from src.scripts.citations import timeseries_citations_diseases\n",
    "from src.scripts.citations import get_patent_info"
   ]
  },
  {
   "cell_type": "code",
   "execution_count": 25,
   "metadata": {},
   "outputs": [],
   "source": [
    "BINDING_DATASET = \"../data/BindingDB_All.tsv\""
   ]
  },
  {
   "cell_type": "code",
   "execution_count": 26,
   "metadata": {},
   "outputs": [],
   "source": [
    "# Only loading columns of interest for this part :\n",
    "usecols = [\n",
    "    # 'BindingDB Reactant_set_id',\n",
    "    # 'Ligand SMILES',\n",
    "    # 'Ligand InChI',\n",
    "    # 'Ligand InChI Key',\n",
    "    # 'BindingDB MonomerID',\n",
    "    \"BindingDB Ligand Name\",\n",
    "    \"Target Name\",\n",
    "    \"Target Source Organism According to Curator or DataSource\",\n",
    "    #'Ki (nM)',\n",
    "    #'IC50 (nM)',\n",
    "    #'Kd (nM)',\n",
    "    #'EC50 (nM)',\n",
    "    #'kon (M-1-s-1)',\n",
    "    #'koff (s-1)',\n",
    "    # 'pH',\n",
    "    # 'Temp (C)',\n",
    "    # \"Curation/DataSource\",\n",
    "    \"Article DOI\",\n",
    "    # 'BindingDB Entry DOI',\n",
    "    # 'PMID',\n",
    "    # 'PubChem AID',\n",
    "    \"Patent Number\",\n",
    "    # \"Authors\",\n",
    "    # \"Institution\",\n",
    "    # 'Link to Ligand in BindingDB',\n",
    "    # 'Link to Target in BindingDB',\n",
    "    # 'Link to Ligand-Target Pair in BindingDB',\n",
    "    # 'Ligand HET ID in PDB',\n",
    "    # 'PDB ID(s) for Ligand-Target Complex',\n",
    "    # 'PubChem CID',\n",
    "    # 'PubChem SID',\n",
    "    #'ChEBI ID of Ligand',\n",
    "    #'ChEMBL ID of Ligand',\n",
    "    #'DrugBank ID of Ligand',\n",
    "    #'IUPHAR_GRAC ID of Ligand',\n",
    "    #'KEGG ID of Ligand',\n",
    "    #'ZINC ID of Ligand',\n",
    "    # 'Number of Protein Chains in Target (>1 implies a multichain complex)',\n",
    "    # 'BindingDB Target Chain Sequence',\n",
    "    # 'PDB ID(s) of Target Chain',\n",
    "    # 'UniProt (SwissProt) Recommended Name of Target Chain',\n",
    "    # 'UniProt (SwissProt) Entry Name of Target Chain',\n",
    "    \"UniProt (SwissProt) Primary ID of Target Chain\",\n",
    "    # 'UniProt (SwissProt) Secondary ID(s) of Target Chain',\n",
    "    # 'UniProt (SwissProt) Alternative ID(s) of Target Chain',\n",
    "    # 'UniProt (TrEMBL) Submitted Name of Target Chain',\n",
    "    # 'UniProt (TrEMBL) Entry Name of Target Chain',\n",
    "    #'UniProt (TrEMBL) Primary ID of Target Chain',\n",
    "    # 'UniProt (TrEMBL) Secondary ID(s) of Target Chain',\n",
    "    # 'UniProt (TrEMBL) Alternative ID(s) of Target Chain',\n",
    "    # 'BindingDB Target Chain Sequence.1',\n",
    "    # 'PDB ID(s) of Target Chain.1',\n",
    "    # 'UniProt (SwissProt) Recommended Name of Target Chain.1',\n",
    "    # 'UniProt (SwissProt) Entry Name of Target Chain.1',\n",
    "    # 'UniProt (SwissProt) Primary ID of Target Chain.1',\n",
    "    # 'UniProt (SwissProt) Secondary ID(s) of Target Chain.1',\n",
    "    # 'UniProt (SwissProt) Alternative ID(s) of Target Chain.1',\n",
    "    # 'UniProt (TrEMBL) Submitted Name of Target Chain.1',\n",
    "    # 'UniProt (TrEMBL) Entry Name of Target Chain.1',\n",
    "    # 'UniProt (TrEMBL) Primary ID of Target Chain.1',\n",
    "    # 'UniProt (TrEMBL) Secondary ID(s) of Target Chain.1',\n",
    "    # 'UniProt (TrEMBL) Alternative ID(s) of Target Chain.1',\n",
    "    # 'BindingDB Target Chain Sequence.2',\n",
    "    # 'PDB ID(s) of Target Chain.2',\n",
    "    # 'UniProt (SwissProt) Recommended Name of Target Chain.2',\n",
    "    # 'UniProt (SwissProt) Entry Name of Target Chain.2',\n",
    "    # 'UniProt (SwissProt) Primary ID of Target Chain.2',\n",
    "    # 'UniProt (SwissProt) Secondary ID(s) of Target Chain.2',\n",
    "    # 'UniProt (SwissProt) Alternative ID(s) of Target Chain.2',\n",
    "    # 'UniProt (TrEMBL) Submitted Name of Target Chain.2',\n",
    "    # 'UniProt (TrEMBL) Entry Name of Target Chain.2',\n",
    "    # 'UniProt (TrEMBL) Primary ID of Target Chain.2',\n",
    "    # 'UniProt (TrEMBL) Secondary ID(s) of Target Chain.2',\n",
    "    # 'UniProt (TrEMBL) Alternative ID(s) of Target Chain.2',\n",
    "    # 'BindingDB Target Chain Sequence.3',\n",
    "    # 'PDB ID(s) of Target Chain.3',\n",
    "    # 'UniProt (SwissProt) Recommended Name of Target Chain.3',\n",
    "    # 'UniProt (SwissProt) Entry Name of Target Chain.3',\n",
    "    # 'UniProt (SwissProt) Primary ID of Target Chain.3',\n",
    "    # 'UniProt (SwissProt) Secondary ID(s) of Target Chain.3',\n",
    "    # 'UniProt (SwissProt) Alternative ID(s) of Target Chain.3',\n",
    "    # 'UniProt (TrEMBL) Submitted Name of Target Chain.3',\n",
    "    # 'UniProt (TrEMBL) Entry Name of Target Chain.3',\n",
    "    # 'UniProt (TrEMBL) Primary ID of Target Chain.3',\n",
    "    # 'UniProt (TrEMBL) Secondary ID(s) of Target Chain.3',\n",
    "    # 'UniProt (TrEMBL) Alternative ID(s) of Target Chain.3',\n",
    "    # 'BindingDB Target Chain Sequence.4',\n",
    "    # 'PDB ID(s) of Target Chain.4',\n",
    "    # 'UniProt (SwissProt) Recommended Name of Target Chain.4',\n",
    "    # 'UniProt (SwissProt) Entry Name of Target Chain.4',\n",
    "    # 'UniProt (SwissProt) Primary ID of Target Chain.4',\n",
    "    # 'UniProt (SwissProt) Secondary ID(s) of Target Chain.4',\n",
    "    # 'UniProt (SwissProt) Alternative ID(s) of Target Chain.4',\n",
    "    # 'UniProt (TrEMBL) Submitted Name of Target Chain.4',\n",
    "    # 'UniProt (TrEMBL) Entry Name of Target Chain.4',\n",
    "    # 'UniProt (TrEMBL) Primary ID of Target Chain.4',\n",
    "    # 'UniProt (TrEMBL) Secondary ID(s) of Target Chain.4',\n",
    "    # 'UniProt (TrEMBL) Alternative ID(s) of Target Chain.4',\n",
    "    # 'BindingDB Target Chain Sequence.5',\n",
    "    # 'PDB ID(s) of Target Chain.5',\n",
    "    # 'UniProt (SwissProt) Recommended Name of Target Chain.5',\n",
    "    # 'UniProt (SwissProt) Entry Name of Target Chain.5',\n",
    "    # 'UniProt (SwissProt) Primary ID of Target Chain.5',\n",
    "    # 'UniProt (SwissProt) Secondary ID(s) of Target Chain.5',\n",
    "    # 'UniProt (SwissProt) Alternative ID(s) of Target Chain.5',\n",
    "    # 'UniProt (TrEMBL) Submitted Name of Target Chain.5',\n",
    "    # 'UniProt (TrEMBL) Entry Name of Target Chain.5',\n",
    "    # 'UniProt (TrEMBL) Primary ID of Target Chain.5',\n",
    "    # 'UniProt (TrEMBL) Secondary ID(s) of Target Chain.5',\n",
    "    # 'UniProt (TrEMBL) Alternative ID(s) of Target Chain.5',\n",
    "    # 'BindingDB Target Chain Sequence.6',\n",
    "    # 'PDB ID(s) of Target Chain.6',\n",
    "    # 'UniProt (SwissProt) Recommended Name of Target Chain.6',\n",
    "    # 'UniProt (SwissProt) Entry Name of Target Chain.6',\n",
    "    # 'UniProt (SwissProt) Primary ID of Target Chain.6',\n",
    "    # 'UniProt (SwissProt) Secondary ID(s) of Target Chain.6',\n",
    "    # 'UniProt (SwissProt) Alternative ID(s) of Target Chain.6',\n",
    "    # 'UniProt (TrEMBL) Submitted Name of Target Chain.6',\n",
    "    # 'UniProt (TrEMBL) Entry Name of Target Chain.6',\n",
    "    # 'UniProt (TrEMBL) Primary ID of Target Chain.6',\n",
    "    # 'UniProt (TrEMBL) Secondary ID(s) of Target Chain.6',\n",
    "    # 'UniProt (TrEMBL) Alternative ID(s) of Target Chain.6',\n",
    "    # 'BindingDB Target Chain Sequence.7',\n",
    "    # 'PDB ID(s) of Target Chain.7',\n",
    "    # 'UniProt (SwissProt) Recommended Name of Target Chain.7',\n",
    "    # 'UniProt (SwissProt) Entry Name of Target Chain.7',\n",
    "    # 'UniProt (SwissProt) Primary ID of Target Chain.7',\n",
    "    # 'UniProt (SwissProt) Secondary ID(s) of Target Chain.7',\n",
    "    # 'UniProt (SwissProt) Alternative ID(s) of Target Chain.7',\n",
    "    # 'UniProt (TrEMBL) Submitted Name of Target Chain.7',\n",
    "    # 'UniProt (TrEMBL) Entry Name of Target Chain.7',\n",
    "    # 'UniProt (TrEMBL) Primary ID of Target Chain.7',\n",
    "    # 'UniProt (TrEMBL) Secondary ID(s) of Target Chain.7',\n",
    "    # 'UniProt (TrEMBL) Alternative ID(s) of Target Chain.7',\n",
    "    # 'BindingDB Target Chain Sequence.8',\n",
    "    # 'PDB ID(s) of Target Chain.8',\n",
    "    # 'UniProt (SwissProt) Recommended Name of Target Chain.8',\n",
    "    # 'UniProt (SwissProt) Entry Name of Target Chain.8',\n",
    "    # 'UniProt (SwissProt) Primary ID of Target Chain.8',\n",
    "    # 'UniProt (SwissProt) Secondary ID(s) of Target Chain.8',\n",
    "    # 'UniProt (SwissProt) Alternative ID(s) of Target Chain.8',\n",
    "    # 'UniProt (TrEMBL) Submitted Name of Target Chain.8',\n",
    "    # 'UniProt (TrEMBL) Entry Name of Target Chain.8',\n",
    "    # 'UniProt (TrEMBL) Primary ID of Target Chain.8',\n",
    "    # 'UniProt (TrEMBL) Secondary ID(s) of Target Chain.8',\n",
    "    # 'UniProt (TrEMBL) Alternative ID(s) of Target Chain.8',\n",
    "    # 'BindingDB Target Chain Sequence.9',\n",
    "    # 'PDB ID(s) of Target Chain.9',\n",
    "    # 'UniProt (SwissProt) Recommended Name of Target Chain.9',\n",
    "    # 'UniProt (SwissProt) Entry Name of Target Chain.9',\n",
    "    # 'UniProt (SwissProt) Primary ID of Target Chain.9',\n",
    "    # 'UniProt (SwissProt) Secondary ID(s) of Target Chain.9',\n",
    "    # 'UniProt (SwissProt) Alternative ID(s) of Target Chain.9',\n",
    "    # 'UniProt (TrEMBL) Submitted Name of Target Chain.9',\n",
    "    # 'UniProt (TrEMBL) Entry Name of Target Chain.9',\n",
    "    # 'UniProt (TrEMBL) Primary ID of Target Chain.9',\n",
    "    # 'UniProt (TrEMBL) Secondary ID(s) of Target Chain.9',\n",
    "    # 'UniProt (TrEMBL) Alternative ID(s) of Target Chain.9',\n",
    "    # 'BindingDB Target Chain Sequence.10',\n",
    "    # 'PDB ID(s) of Target Chain.10',\n",
    "    # 'UniProt (SwissProt) Recommended Name of Target Chain.10',\n",
    "    # 'UniProt (SwissProt) Entry Name of Target Chain.10',\n",
    "    # 'UniProt (SwissProt) Primary ID of Target Chain.10',\n",
    "    # 'UniProt (SwissProt) Secondary ID(s) of Target Chain.10',\n",
    "    # 'UniProt (SwissProt) Alternative ID(s) of Target Chain.10',\n",
    "    # 'UniProt (TrEMBL) Submitted Name of Target Chain.10',\n",
    "    # 'UniProt (TrEMBL) Entry Name of Target Chain.10',\n",
    "    # 'UniProt (TrEMBL) Primary ID of Target Chain.10',\n",
    "    # 'UniProt (TrEMBL) Secondary ID(s) of Target Chain.10',\n",
    "    # 'UniProt (TrEMBL) Alternative ID(s) of Target Chain.10',\n",
    "    # 'BindingDB Target Chain Sequence.11',\n",
    "    # 'PDB ID(s) of Target Chain.11',\n",
    "    # 'UniProt (SwissProt) Recommended Name of Target Chain.11',\n",
    "    # 'UniProt (SwissProt) Entry Name of Target Chain.11',\n",
    "    # 'UniProt (SwissProt) Primary ID of Target Chain.11',\n",
    "    # 'UniProt (SwissProt) Secondary ID(s) of Target Chain.11',\n",
    "    # 'UniProt (SwissProt) Alternative ID(s) of Target Chain.11',\n",
    "    # 'UniProt (TrEMBL) Submitted Name of Target Chain.11',\n",
    "    # 'UniProt (TrEMBL) Entry Name of Target Chain.11',\n",
    "    # 'UniProt (TrEMBL) Primary ID of Target Chain.11',\n",
    "    # 'UniProt (TrEMBL) Secondary ID(s) of Target Chain.11',\n",
    "    # 'UniProt (TrEMBL) Alternative ID(s) of Target Chain.11',\n",
    "    # 'BindingDB Target Chain Sequence.12',\n",
    "    # 'PDB ID(s) of Target Chain.12',\n",
    "    # 'UniProt (SwissProt) Recommended Name of Target Chain.12',\n",
    "    # 'UniProt (SwissProt) Entry Name of Target Chain.12',\n",
    "    # 'UniProt (SwissProt) Primary ID of Target Chain.12',\n",
    "    # 'UniProt (SwissProt) Secondary ID(s) of Target Chain.12',\n",
    "    # 'UniProt (SwissProt) Alternative ID(s) of Target Chain.12',\n",
    "    # 'UniProt (TrEMBL) Submitted Name of Target Chain.12',\n",
    "    # 'UniProt (TrEMBL) Entry Name of Target Chain.12',\n",
    "    # 'UniProt (TrEMBL) Primary ID of Target Chain.12',\n",
    "    # 'UniProt (TrEMBL) Secondary ID(s) of Target Chain.12',\n",
    "    # 'UniProt (TrEMBL) Alternative ID(s) of Target Chain.12'\n",
    "]"
   ]
  },
  {
   "cell_type": "code",
   "execution_count": 4,
   "metadata": {},
   "outputs": [],
   "source": [
    "bindingDB = pd.read_csv(BINDING_DATASET, sep=\"\\t\", on_bad_lines=\"skip\", usecols=usecols)"
   ]
  },
  {
   "cell_type": "markdown",
   "metadata": {},
   "source": [
    "### Investigating citations from Article DOI:"
   ]
  },
  {
   "cell_type": "markdown",
   "metadata": {},
   "source": [
    "#### On all dataset:"
   ]
  },
  {
   "cell_type": "code",
   "execution_count": 5,
   "metadata": {},
   "outputs": [],
   "source": [
    "doi = bindingDB[\"Article DOI\"].value_counts()\n",
    "unique_doi_ordered = doi.index.tolist()"
   ]
  },
  {
   "cell_type": "code",
   "execution_count": 6,
   "metadata": {},
   "outputs": [],
   "source": [
    "with open(\"../src/data/citations.json\", \"r\") as f:\n",
    "    citations = json.load(f)"
   ]
  },
  {
   "cell_type": "code",
   "execution_count": 7,
   "metadata": {},
   "outputs": [
    {
     "data": {
      "image/png": "[encoded data removed]",
      "text/plain": [
       "<Figure size 2000x1000 with 1 Axes>"
      ]
     },
     "metadata": {},
     "output_type": "display_data"
    }
   ],
   "source": [
    "citations_df = pd.DataFrame(citations[0:100])\n",
    "plt.figure(figsize=(20, 10))\n",
    "sns.barplot(x=\"doi\", y=\"citation\", data=citations_df, palette=\"bone\")\n",
    "plt.xticks(rotation=90, ha=\"right\")\n",
    "plt.xlabel(\"Article DOI (ordered from most to less frequent in BindingDB)\")\n",
    "plt.ylabel(\"Number of Citations\")\n",
    "plt.title(\"Number of Times each BindingDB Article DOI was Cited (Top 100)\")\n",
    "plt.tight_layout()\n",
    "plt.show()"
   ]
  },
  {
   "cell_type": "code",
   "execution_count": 8,
   "metadata": {},
   "outputs": [
    {
     "data": {
      "image/png": "[encoded data removed]",
      "text/plain": [
       "<Figure size 2000x1000 with 1 Axes>"
      ]
     },
     "metadata": {},
     "output_type": "display_data"
    }
   ],
   "source": [
    "citations_df = pd.DataFrame(citations[0:100])\n",
    "citations_df = citations_df.sort_values(by=\"citation\", ascending=False)\n",
    "plt.figure(figsize=(20, 10))\n",
    "sns.barplot(x=\"doi\", y=\"citation\", data=citations_df, palette=\"bone\")\n",
    "plt.xticks(rotation=90, ha=\"right\")\n",
    "plt.xlabel(\"Article DOI (ordered from most to less cited)\")\n",
    "plt.ylabel(\"Number of Citations\")\n",
    "plt.title(\"Number of Times each BindingDB Article DOI was Cited (Top 100)\")\n",
    "plt.tight_layout()\n",
    "plt.show()"
   ]
  },
  {
   "cell_type": "markdown",
   "metadata": {},
   "source": [
    "#### Depending on Diseases:"
   ]
  },
  {
   "cell_type": "code",
   "execution_count": 9,
   "metadata": {},
   "outputs": [],
   "source": [
    "file_path = \"../src/data/UniprotID_disases.json\"\n",
    "absolute_path = os.path.abspath(file_path)\n",
    "disease_data = load_uniprotid_diseases(absolute_path)\n",
    "disease_data = add_keywords_when_comments_missing(disease_data)\n",
    "disease_data = weigh_each_comment(bindingDB, disease_data)\n",
    "diseases = (\n",
    "    bindingDB.merge(\n",
    "        disease_data[\n",
    "            [\"UniProt (SwissProt) Primary ID of Target Chain\", \"comments_bfill\"]\n",
    "        ],\n",
    "        how=\"inner\",\n",
    "    )\n",
    "    .dropna(subset=\"comments_bfill\")\n",
    "    .explode(\"comments_bfill\")[\n",
    "        [\"UniProt (SwissProt) Primary ID of Target Chain\", \"comments_bfill\"]\n",
    "    ]\n",
    ")\n",
    "diseases[\"Disease Classes\"] = diseases[\"comments_bfill\"].apply(sort_diseases)"
   ]
  },
  {
   "cell_type": "code",
   "execution_count": 10,
   "metadata": {},
   "outputs": [],
   "source": [
    "disease_uniprot_mapping = (\n",
    "    diseases.groupby(\"Disease Classes\")[\n",
    "        \"UniProt (SwissProt) Primary ID of Target Chain\"\n",
    "    ]\n",
    "    .apply(list)\n",
    "    .reset_index()\n",
    ")\n",
    "disease_uniprot_mapping[\n",
    "    \"UniProt (SwissProt) Primary ID of Target Chain\"\n",
    "] = disease_uniprot_mapping[\"UniProt (SwissProt) Primary ID of Target Chain\"].apply(\n",
    "    lambda x: list(set(x))\n",
    ")"
   ]
  },
  {
   "cell_type": "code",
   "execution_count": 11,
   "metadata": {},
   "outputs": [],
   "source": [
    "disease_uniprot_mapping_exploded = disease_uniprot_mapping.explode(\n",
    "    \"UniProt (SwissProt) Primary ID of Target Chain\"\n",
    ")\n",
    "bindingDB = bindingDB.dropna(subset=[\"Article DOI\"])\n",
    "merged_data = bindingDB.merge(\n",
    "    disease_uniprot_mapping_exploded[\n",
    "        [\"Disease Classes\", \"UniProt (SwissProt) Primary ID of Target Chain\"]\n",
    "    ],\n",
    "    how=\"inner\",\n",
    "    on=\"UniProt (SwissProt) Primary ID of Target Chain\",\n",
    ")\n",
    "disease_dois = (\n",
    "    merged_data.groupby(\"Disease Classes\")[\"Article DOI\"].apply(list).reset_index()\n",
    ")\n",
    "disease_dois[\"Article DOI\"] = disease_dois[\"Article DOI\"].apply(lambda x: list(set(x)))\n",
    "disease_dois[\"Article Count\"] = disease_dois[\"Article DOI\"].apply(len)\n",
    "disease_dois = disease_dois.sort_values(by=\"Article Count\", ascending=False)"
   ]
  },
  {
   "cell_type": "code",
   "execution_count": 12,
   "metadata": {},
   "outputs": [],
   "source": [
    "citations_dict = {item[\"doi\"]: item[\"citation\"] for item in citations}\n",
    "disease_citations = []\n",
    "for index, row in disease_dois.iterrows():\n",
    "    disease_class = row[\"Disease Classes\"]\n",
    "    dois = row[\"Article DOI\"]\n",
    "    total_citations = 0\n",
    "    for doi in dois:\n",
    "        citation_count = citations_dict.get(doi, 0)  # 0 if DOI not found\n",
    "        if citation_count != None:\n",
    "            total_citations += citation_count\n",
    "    disease_citations.append(\n",
    "        {\"Disease Classes\": disease_class, \"Total Citations\": total_citations}\n",
    "    )\n",
    "disease_citations_df = pd.DataFrame(disease_citations)"
   ]
  },
  {
   "cell_type": "code",
   "execution_count": 13,
   "metadata": {},
   "outputs": [
    {
     "data": {
      "image/png": "[encoded data removed]",
      "text/plain": [
       "<Figure size 500x1000 with 2 Axes>"
      ]
     },
     "metadata": {},
     "output_type": "display_data"
    }
   ],
   "source": [
    "fig, axes = plt.subplots(2, 1, figsize=(5, 10), sharex=True)\n",
    "sns.barplot(\n",
    "    data=disease_dois[0:10],\n",
    "    x=\"Disease Classes\",\n",
    "    y=\"Article Count\",\n",
    "    palette=\"deep\",\n",
    "    ax=axes[0],\n",
    ")\n",
    "axes[0].set_title(\"Distribution of Articles and Citations per Disease Class\")\n",
    "axes[0].tick_params(axis=\"x\", which=\"both\", bottom=False)\n",
    "\n",
    "sns.barplot(\n",
    "    data=disease_citations_df.head(10),\n",
    "    x=\"Disease Classes\",\n",
    "    y=\"Total Citations\",\n",
    "    palette=\"deep\",\n",
    "    ax=axes[1],\n",
    ")\n",
    "axes[1].set_xlabel(\"Disease Classes (Top 10)\")\n",
    "axes[1].set_xticklabels(axes[1].get_xticklabels(), rotation=90)\n",
    "\n",
    "\n",
    "plt.tight_layout()\n",
    "plt.show()"
   ]
  },
  {
   "cell_type": "code",
   "execution_count": 14,
   "metadata": {},
   "outputs": [
    {
     "data": {
      "application/vnd.plotly.v1+json": {
       "config": {
        "plotlyServerURL": "https://plot.ly"
       },
       "data": [
        {
         "marker": {
          "color": "#abd0e6"
         },
         "name": "Total Citations",
         "offsetgroup": "1",
         "orientation": "h",
         "type": "bar",
         "x": [
          233284,
          111644,
          105416,
          63645,
          87404,
          52753,
          57556,
          67076,
          71210,
          62814
         ],
         "y": [
          "Cancer",
          "Neurodegeneration",
          "Dysplasia",
          "QT syndrome",
          "Immunodeficiency",
          "Vitamin D-dependent rickets 3",
          "Obesity",
          "Epilepsy",
          "Diabetes",
          "Inflammatory skin and bowel disease"
         ]
        },
        {
         "marker": {
          "color": "#3787c0"
         },
         "name": "Article Count",
         "offsetgroup": "2",
         "orientation": "h",
         "type": "bar",
         "x": [
          4501,
          2018,
          1859,
          1808,
          1639,
          1622,
          1234,
          1199,
          1187,
          1001
         ],
         "xaxis": "x2",
         "y": [
          "Cancer",
          "Neurodegeneration",
          "Dysplasia",
          "QT syndrome",
          "Immunodeficiency",
          "Vitamin D-dependent rickets 3",
          "Obesity",
          "Epilepsy",
          "Diabetes",
          "Inflammatory skin and bowel disease"
         ]
        }
       ],
       "layout": {
        "barmode": "group",
        "legend": {
         "orientation": "v",
         "traceorder": "normal",
         "x": 1,
         "y": 1
        },
        "paper_bgcolor": "rgb(34, 37, 41)",
        "plot_bgcolor": "rgb(34, 37, 41)",
        "template": {
         "data": {
          "bar": [
           {
            "error_x": {
             "color": "#f2f5fa"
            },
            "error_y": {
             "color": "#f2f5fa"
            },
            "marker": {
             "line": {
              "color": "rgb(17,17,17)",
              "width": 0.5
             },
             "pattern": {
              "fillmode": "overlay",
              "size": 10,
              "solidity": 0.2
             }
            },
            "type": "bar"
           }
          ],
          "barpolar": [
           {
            "marker": {
             "line": {
              "color": "rgb(17,17,17)",
              "width": 0.5
             },
             "pattern": {
              "fillmode": "overlay",
              "size": 10,
              "solidity": 0.2
             }
            },
            "type": "barpolar"
           }
          ],
          "carpet": [
           {
            "aaxis": {
             "endlinecolor": "#A2B1C6",
             "gridcolor": "#506784",
             "linecolor": "#506784",
             "minorgridcolor": "#506784",
             "startlinecolor": "#A2B1C6"
            },
            "baxis": {
             "endlinecolor": "#A2B1C6",
             "gridcolor": "#506784",
             "linecolor": "#506784",
             "minorgridcolor": "#506784",
             "startlinecolor": "#A2B1C6"
            },
            "type": "carpet"
           }
          ],
          "choropleth": [
           {
            "colorbar": {
             "outlinewidth": 0,
             "ticks": ""
            },
            "type": "choropleth"
           }
          ],
          "contour": [
           {
            "colorbar": {
             "outlinewidth": 0,
             "ticks": ""
            },
            "colorscale": [
             [
              0,
              "#0d0887"
             ],
             [
              0.1111111111111111,
              "#46039f"
             ],
             [
              0.2222222222222222,
              "#7201a8"
             ],
             [
              0.3333333333333333,
              "#9c179e"
             ],
             [
              0.4444444444444444,
              "#bd3786"
             ],
             [
              0.5555555555555556,
              "#d8576b"
             ],
             [
              0.6666666666666666,
              "#ed7953"
             ],
             [
              0.7777777777777778,
              "#fb9f3a"
             ],
             [
              0.8888888888888888,
              "#fdca26"
             ],
             [
              1,
              "#f0f921"
             ]
            ],
            "type": "contour"
           }
          ],
          "contourcarpet": [
           {
            "colorbar": {
             "outlinewidth": 0,
             "ticks": ""
            },
            "type": "contourcarpet"
           }
          ],
          "heatmap": [
           {
            "colorbar": {
             "outlinewidth": 0,
             "ticks": ""
            },
            "colorscale": [
             [
              0,
              "#0d0887"
             ],
             [
              0.1111111111111111,
              "#46039f"
             ],
             [
              0.2222222222222222,
              "#7201a8"
             ],
             [
              0.3333333333333333,
              "#9c179e"
             ],
             [
              0.4444444444444444,
              "#bd3786"
             ],
             [
              0.5555555555555556,
              "#d8576b"
             ],
             [
              0.6666666666666666,
              "#ed7953"
             ],
             [
              0.7777777777777778,
              "#fb9f3a"
             ],
             [
              0.8888888888888888,
              "#fdca26"
             ],
             [
              1,
              "#f0f921"
             ]
            ],
            "type": "heatmap"
           }
          ],
          "heatmapgl": [
           {
            "colorbar": {
             "outlinewidth": 0,
             "ticks": ""
            },
            "colorscale": [
             [
              0,
              "#0d0887"
             ],
             [
              0.1111111111111111,
              "#46039f"
             ],
             [
              0.2222222222222222,
              "#7201a8"
             ],
             [
              0.3333333333333333,
              "#9c179e"
             ],
             [
              0.4444444444444444,
              "#bd3786"
             ],
             [
              0.5555555555555556,
              "#d8576b"
             ],
             [
              0.6666666666666666,
              "#ed7953"
             ],
             [
              0.7777777777777778,
              "#fb9f3a"
             ],
             [
              0.8888888888888888,
              "#fdca26"
             ],
             [
              1,
              "#f0f921"
             ]
            ],
            "type": "heatmapgl"
           }
          ],
          "histogram": [
           {
            "marker": {
             "pattern": {
              "fillmode": "overlay",
              "size": 10,
              "solidity": 0.2
             }
            },
            "type": "histogram"
           }
          ],
          "histogram2d": [
           {
            "colorbar": {
             "outlinewidth": 0,
             "ticks": ""
            },
            "colorscale": [
             [
              0,
              "#0d0887"
             ],
             [
              0.1111111111111111,
              "#46039f"
             ],
             [
              0.2222222222222222,
              "#7201a8"
             ],
             [
              0.3333333333333333,
              "#9c179e"
             ],
             [
              0.4444444444444444,
              "#bd3786"
             ],
             [
              0.5555555555555556,
              "#d8576b"
             ],
             [
              0.6666666666666666,
              "#ed7953"
             ],
             [
              0.7777777777777778,
              "#fb9f3a"
             ],
             [
              0.8888888888888888,
              "#fdca26"
             ],
             [
              1,
              "#f0f921"
             ]
            ],
            "type": "histogram2d"
           }
          ],
          "histogram2dcontour": [
           {
            "colorbar": {
             "outlinewidth": 0,
             "ticks": ""
            },
            "colorscale": [
             [
              0,
              "#0d0887"
             ],
             [
              0.1111111111111111,
              "#46039f"
             ],
             [
              0.2222222222222222,
              "#7201a8"
             ],
             [
              0.3333333333333333,
              "#9c179e"
             ],
             [
              0.4444444444444444,
              "#bd3786"
             ],
             [
              0.5555555555555556,
              "#d8576b"
             ],
             [
              0.6666666666666666,
              "#ed7953"
             ],
             [
              0.7777777777777778,
              "#fb9f3a"
             ],
             [
              0.8888888888888888,
              "#fdca26"
             ],
             [
              1,
              "#f0f921"
             ]
            ],
            "type": "histogram2dcontour"
           }
          ],
          "mesh3d": [
           {
            "colorbar": {
             "outlinewidth": 0,
             "ticks": ""
            },
            "type": "mesh3d"
           }
          ],
          "parcoords": [
           {
            "line": {
             "colorbar": {
              "outlinewidth": 0,
              "ticks": ""
             }
            },
            "type": "parcoords"
           }
          ],
          "pie": [
           {
            "automargin": true,
            "type": "pie"
           }
          ],
          "scatter": [
           {
            "marker": {
             "line": {
              "color": "#283442"
             }
            },
            "type": "scatter"
           }
          ],
          "scatter3d": [
           {
            "line": {
             "colorbar": {
              "outlinewidth": 0,
              "ticks": ""
             }
            },
            "marker": {
             "colorbar": {
              "outlinewidth": 0,
              "ticks": ""
             }
            },
            "type": "scatter3d"
           }
          ],
          "scattercarpet": [
           {
            "marker": {
             "colorbar": {
              "outlinewidth": 0,
              "ticks": ""
             }
            },
            "type": "scattercarpet"
           }
          ],
          "scattergeo": [
           {
            "marker": {
             "colorbar": {
              "outlinewidth": 0,
              "ticks": ""
             }
            },
            "type": "scattergeo"
           }
          ],
          "scattergl": [
           {
            "marker": {
             "line": {
              "color": "#283442"
             }
            },
            "type": "scattergl"
           }
          ],
          "scattermapbox": [
           {
            "marker": {
             "colorbar": {
              "outlinewidth": 0,
              "ticks": ""
             }
            },
            "type": "scattermapbox"
           }
          ],
          "scatterpolar": [
           {
            "marker": {
             "colorbar": {
              "outlinewidth": 0,
              "ticks": ""
             }
            },
            "type": "scatterpolar"
           }
          ],
          "scatterpolargl": [
           {
            "marker": {
             "colorbar": {
              "outlinewidth": 0,
              "ticks": ""
             }
            },
            "type": "scatterpolargl"
           }
          ],
          "scatterternary": [
           {
            "marker": {
             "colorbar": {
              "outlinewidth": 0,
              "ticks": ""
             }
            },
            "type": "scatterternary"
           }
          ],
          "surface": [
           {
            "colorbar": {
             "outlinewidth": 0,
             "ticks": ""
            },
            "colorscale": [
             [
              0,
              "#0d0887"
             ],
             [
              0.1111111111111111,
              "#46039f"
             ],
             [
              0.2222222222222222,
              "#7201a8"
             ],
             [
              0.3333333333333333,
              "#9c179e"
             ],
             [
              0.4444444444444444,
              "#bd3786"
             ],
             [
              0.5555555555555556,
              "#d8576b"
             ],
             [
              0.6666666666666666,
              "#ed7953"
             ],
             [
              0.7777777777777778,
              "#fb9f3a"
             ],
             [
              0.8888888888888888,
              "#fdca26"
             ],
             [
              1,
              "#f0f921"
             ]
            ],
            "type": "surface"
           }
          ],
          "table": [
           {
            "cells": {
             "fill": {
              "color": "#506784"
             },
             "line": {
              "color": "rgb(17,17,17)"
             }
            },
            "header": {
             "fill": {
              "color": "#2a3f5f"
             },
             "line": {
              "color": "rgb(17,17,17)"
             }
            },
            "type": "table"
           }
          ]
         },
         "layout": {
          "annotationdefaults": {
           "arrowcolor": "#f2f5fa",
           "arrowhead": 0,
           "arrowwidth": 1
          },
          "autotypenumbers": "strict",
          "coloraxis": {
           "colorbar": {
            "outlinewidth": 0,
            "ticks": ""
           }
          },
          "colorscale": {
           "diverging": [
            [
             0,
             "#8e0152"
            ],
            [
             0.1,
             "#c51b7d"
            ],
            [
             0.2,
             "#de77ae"
            ],
            [
             0.3,
             "#f1b6da"
            ],
            [
             0.4,
             "#fde0ef"
            ],
            [
             0.5,
             "#f7f7f7"
            ],
            [
             0.6,
             "#e6f5d0"
            ],
            [
             0.7,
             "#b8e186"
            ],
            [
             0.8,
             "#7fbc41"
            ],
            [
             0.9,
             "#4d9221"
            ],
            [
             1,
             "#276419"
            ]
           ],
           "sequential": [
            [
             0,
             "#0d0887"
            ],
            [
             0.1111111111111111,
             "#46039f"
            ],
            [
             0.2222222222222222,
             "#7201a8"
            ],
            [
             0.3333333333333333,
             "#9c179e"
            ],
            [
             0.4444444444444444,
             "#bd3786"
            ],
            [
             0.5555555555555556,
             "#d8576b"
            ],
            [
             0.6666666666666666,
             "#ed7953"
            ],
            [
             0.7777777777777778,
             "#fb9f3a"
            ],
            [
             0.8888888888888888,
             "#fdca26"
            ],
            [
             1,
             "#f0f921"
            ]
           ],
           "sequentialminus": [
            [
             0,
             "#0d0887"
            ],
            [
             0.1111111111111111,
             "#46039f"
            ],
            [
             0.2222222222222222,
             "#7201a8"
            ],
            [
             0.3333333333333333,
             "#9c179e"
            ],
            [
             0.4444444444444444,
             "#bd3786"
            ],
            [
             0.5555555555555556,
             "#d8576b"
            ],
            [
             0.6666666666666666,
             "#ed7953"
            ],
            [
             0.7777777777777778,
             "#fb9f3a"
            ],
            [
             0.8888888888888888,
             "#fdca26"
            ],
            [
             1,
             "#f0f921"
            ]
           ]
          },
          "colorway": [
           "#636efa",
           "#EF553B",
           "#00cc96",
           "#ab63fa",
           "#FFA15A",
           "#19d3f3",
           "#FF6692",
           "#B6E880",
           "#FF97FF",
           "#FECB52"
          ],
          "font": {
           "color": "#f2f5fa"
          },
          "geo": {
           "bgcolor": "rgb(17,17,17)",
           "lakecolor": "rgb(17,17,17)",
           "landcolor": "rgb(17,17,17)",
           "showlakes": true,
           "showland": true,
           "subunitcolor": "#506784"
          },
          "hoverlabel": {
           "align": "left"
          },
          "hovermode": "closest",
          "mapbox": {
           "style": "dark"
          },
          "paper_bgcolor": "rgb(17,17,17)",
          "plot_bgcolor": "rgb(17,17,17)",
          "polar": {
           "angularaxis": {
            "gridcolor": "#506784",
            "linecolor": "#506784",
            "ticks": ""
           },
           "bgcolor": "rgb(17,17,17)",
           "radialaxis": {
            "gridcolor": "#506784",
            "linecolor": "#506784",
            "ticks": ""
           }
          },
          "scene": {
           "xaxis": {
            "backgroundcolor": "rgb(17,17,17)",
            "gridcolor": "#506784",
            "gridwidth": 2,
            "linecolor": "#506784",
            "showbackground": true,
            "ticks": "",
            "zerolinecolor": "#C8D4E3"
           },
           "yaxis": {
            "backgroundcolor": "rgb(17,17,17)",
            "gridcolor": "#506784",
            "gridwidth": 2,
            "linecolor": "#506784",
            "showbackground": true,
            "ticks": "",
            "zerolinecolor": "#C8D4E3"
           },
           "zaxis": {
            "backgroundcolor": "rgb(17,17,17)",
            "gridcolor": "#506784",
            "gridwidth": 2,
            "linecolor": "#506784",
            "showbackground": true,
            "ticks": "",
            "zerolinecolor": "#C8D4E3"
           }
          },
          "shapedefaults": {
           "line": {
            "color": "#f2f5fa"
           }
          },
          "sliderdefaults": {
           "bgcolor": "#C8D4E3",
           "bordercolor": "rgb(17,17,17)",
           "borderwidth": 1,
           "tickwidth": 0
          },
          "ternary": {
           "aaxis": {
            "gridcolor": "#506784",
            "linecolor": "#506784",
            "ticks": ""
           },
           "baxis": {
            "gridcolor": "#506784",
            "linecolor": "#506784",
            "ticks": ""
           },
           "bgcolor": "rgb(17,17,17)",
           "caxis": {
            "gridcolor": "#506784",
            "linecolor": "#506784",
            "ticks": ""
           }
          },
          "title": {
           "x": 0.05
          },
          "updatemenudefaults": {
           "bgcolor": "#506784",
           "borderwidth": 0
          },
          "xaxis": {
           "automargin": true,
           "gridcolor": "#283442",
           "linecolor": "#506784",
           "ticks": "",
           "title": {
            "standoff": 15
           },
           "zerolinecolor": "#283442",
           "zerolinewidth": 2
          },
          "yaxis": {
           "automargin": true,
           "gridcolor": "#283442",
           "linecolor": "#506784",
           "ticks": "",
           "title": {
            "standoff": 15
           },
           "zerolinecolor": "#283442",
           "zerolinewidth": 2
          }
         }
        },
        "title": {
         "text": "Distribution of Articles and Citations per Disease Class",
         "x": 0.5,
         "y": 0.95
        },
        "xaxis": {
         "tickfont": {
          "color": "#abd0e6"
         },
         "title": {
          "font": {
           "color": "#abd0e6"
          },
          "text": "Total Citations"
         }
        },
        "xaxis2": {
         "overlaying": "x",
         "position": 1,
         "side": "top",
         "tickfont": {
          "color": "#3787c0"
         },
         "title": {
          "font": {
           "color": "#3787c0"
          },
          "text": "Article Count"
         }
        },
        "yaxis": {
         "categoryarray": [
          "Inflammatory skin and bowel disease",
          "Diabetes",
          "Epilepsy",
          "Obesity",
          "Vitamin D-dependent rickets 3",
          "Immunodeficiency",
          "QT syndrome",
          "Dysplasia",
          "Neurodegeneration",
          "Cancer"
         ],
         "categoryorder": "array",
         "title": {
          "text": "Disease Classes"
         }
        }
       }
      }
     },
     "metadata": {},
     "output_type": "display_data"
    }
   ],
   "source": [
    "colors = sns.color_palette(\"Blues\", 2).as_hex()\n",
    "\n",
    "fig = go.Figure()\n",
    "fig.add_trace(\n",
    "    go.Bar(\n",
    "        y=disease_citations_df['Disease Classes'][0:10],\n",
    "        x=disease_citations_df['Total Citations'][0:10],\n",
    "        name='Total Citations',\n",
    "        orientation='h',\n",
    "        marker=dict(color=colors[0]),\n",
    "        offsetgroup=1\n",
    "    )\n",
    ")\n",
    "fig.add_trace(\n",
    "    go.Bar(\n",
    "        y=disease_dois['Disease Classes'][0:10],\n",
    "        x=disease_dois['Article Count'][0:10],\n",
    "        name='Article Count',\n",
    "        orientation='h',\n",
    "        marker=dict(color=colors[1]),\n",
    "        offsetgroup=2,\n",
    "        xaxis='x2'\n",
    "    )\n",
    ")\n",
    "fig.update_layout(\n",
    "    title=\"Distribution of Articles and Citations per Disease Class\",\n",
    "    title_x=0.5,\n",
    "    title_y=0.95,\n",
    "    yaxis=dict(\n",
    "        title=\"Disease Classes\",\n",
    "        categoryorder=\"array\",\n",
    "        categoryarray=disease_citations_df['Disease Classes'][0:10][::-1] \n",
    "    ),\n",
    "    xaxis=dict(\n",
    "        title=\"Total Citations\",\n",
    "        titlefont=dict(color=colors[0]),\n",
    "        tickfont=dict(color=colors[0])\n",
    "    ),\n",
    "    xaxis2=dict(\n",
    "        title=\"Article Count\",\n",
    "        titlefont=dict(color=colors[1]),\n",
    "        tickfont=dict(color=colors[1]),\n",
    "        overlaying='x', \n",
    "        side='top',\n",
    "        position=1\n",
    "    ),\n",
    "    barmode='group',\n",
    "    legend=dict(x=1, y=1, traceorder='normal', orientation='v'),\n",
    "    plot_bgcolor=\"rgb(34, 37, 41)\", paper_bgcolor=\"rgb(34, 37, 41)\",\n",
    "    template='plotly_dark'\n",
    ")\n",
    "fig.show()"
   ]
  },
  {
   "cell_type": "code",
   "execution_count": 15,
   "metadata": {},
   "outputs": [],
   "source": [
    "# custom_style = \"\"\"\n",
    "# <style>\n",
    "#   body, html {\n",
    "#     background-color: rgb(34, 37, 41);\n",
    "#   }\n",
    "# </style>\n",
    "# \"\"\"\n",
    "\n",
    "# # Save the HTML file and inject the custom style\n",
    "# html_content = fig.to_html(full_html=True, include_plotlyjs=\"cdn\")\n",
    "# # Insert the style in the <head>\n",
    "# html_content = html_content.replace(\"</head>\", f\"{custom_style}</head>\")\n",
    "\n",
    "# # Write to a file\n",
    "# with open(\"Citations_per_Disease.html\", \"w\") as f:\n",
    "#     f.write(html_content)\n",
    "# fig.write_image(\"Citations_per_Disease.svg\")"
   ]
  },
  {
   "cell_type": "code",
   "execution_count": 16,
   "metadata": {},
   "outputs": [],
   "source": [
    "disease_citations_df = disease_citations_df.merge(disease_dois, on=\"Disease Classes\")\n",
    "disease_citations_df[\"Mean Citation per Article\"] = (\n",
    "    disease_citations_df[\"Total Citations\"] / disease_citations_df[\"Article Count\"]\n",
    ")"
   ]
  },
  {
   "cell_type": "code",
   "execution_count": 17,
   "metadata": {},
   "outputs": [
    {
     "data": {
      "application/vnd.plotly.v1+json": {
       "config": {
        "plotlyServerURL": "https://plot.ly"
       },
       "data": [
        {
         "alignmentgroup": "True",
         "hovertemplate": "Mean Citation per Article=%{x}<br>Disease Classes=%{y}<extra></extra>",
         "legendgroup": "",
         "marker": {
          "color": "#636efa",
          "pattern": {
           "shape": ""
          }
         },
         "name": "",
         "offsetgroup": "",
         "orientation": "h",
         "showlegend": false,
         "textposition": "auto",
         "type": "bar",
         "x": [
          51.82937125083315,
          55.32408325074331,
          56.70575578267886,
          35.201880530973455,
          53.32763880414887,
          32.52342786683107,
          46.6418152350081,
          55.94328607172644,
          59.99157540016849,
          62.75124875124875
         ],
         "xaxis": "x",
         "y": [
          "Cancer",
          "Neurodegeneration",
          "Dysplasia",
          "QT syndrome",
          "Immunodeficiency",
          "Vitamin D-dependent rickets 3",
          "Obesity",
          "Epilepsy",
          "Diabetes",
          "Inflammatory skin and bowel disease"
         ],
         "yaxis": "y"
        }
       ],
       "layout": {
        "barmode": "relative",
        "legend": {
         "tracegroupgap": 0
        },
        "paper_bgcolor": "rgb(34, 37, 41)",
        "plot_bgcolor": "rgb(34, 37, 41)",
        "template": {
         "data": {
          "bar": [
           {
            "error_x": {
             "color": "#f2f5fa"
            },
            "error_y": {
             "color": "#f2f5fa"
            },
            "marker": {
             "line": {
              "color": "rgb(17,17,17)",
              "width": 0.5
             },
             "pattern": {
              "fillmode": "overlay",
              "size": 10,
              "solidity": 0.2
             }
            },
            "type": "bar"
           }
          ],
          "barpolar": [
           {
            "marker": {
             "line": {
              "color": "rgb(17,17,17)",
              "width": 0.5
             },
             "pattern": {
              "fillmode": "overlay",
              "size": 10,
              "solidity": 0.2
             }
            },
            "type": "barpolar"
           }
          ],
          "carpet": [
           {
            "aaxis": {
             "endlinecolor": "#A2B1C6",
             "gridcolor": "#506784",
             "linecolor": "#506784",
             "minorgridcolor": "#506784",
             "startlinecolor": "#A2B1C6"
            },
            "baxis": {
             "endlinecolor": "#A2B1C6",
             "gridcolor": "#506784",
             "linecolor": "#506784",
             "minorgridcolor": "#506784",
             "startlinecolor": "#A2B1C6"
            },
            "type": "carpet"
           }
          ],
          "choropleth": [
           {
            "colorbar": {
             "outlinewidth": 0,
             "ticks": ""
            },
            "type": "choropleth"
           }
          ],
          "contour": [
           {
            "colorbar": {
             "outlinewidth": 0,
             "ticks": ""
            },
            "colorscale": [
             [
              0,
              "#0d0887"
             ],
             [
              0.1111111111111111,
              "#46039f"
             ],
             [
              0.2222222222222222,
              "#7201a8"
             ],
             [
              0.3333333333333333,
              "#9c179e"
             ],
             [
              0.4444444444444444,
              "#bd3786"
             ],
             [
              0.5555555555555556,
              "#d8576b"
             ],
             [
              0.6666666666666666,
              "#ed7953"
             ],
             [
              0.7777777777777778,
              "#fb9f3a"
             ],
             [
              0.8888888888888888,
              "#fdca26"
             ],
             [
              1,
              "#f0f921"
             ]
            ],
            "type": "contour"
           }
          ],
          "contourcarpet": [
           {
            "colorbar": {
             "outlinewidth": 0,
             "ticks": ""
            },
            "type": "contourcarpet"
           }
          ],
          "heatmap": [
           {
            "colorbar": {
             "outlinewidth": 0,
             "ticks": ""
            },
            "colorscale": [
             [
              0,
              "#0d0887"
             ],
             [
              0.1111111111111111,
              "#46039f"
             ],
             [
              0.2222222222222222,
              "#7201a8"
             ],
             [
              0.3333333333333333,
              "#9c179e"
             ],
             [
              0.4444444444444444,
              "#bd3786"
             ],
             [
              0.5555555555555556,
              "#d8576b"
             ],
             [
              0.6666666666666666,
              "#ed7953"
             ],
             [
              0.7777777777777778,
              "#fb9f3a"
             ],
             [
              0.8888888888888888,
              "#fdca26"
             ],
             [
              1,
              "#f0f921"
             ]
            ],
            "type": "heatmap"
           }
          ],
          "heatmapgl": [
           {
            "colorbar": {
             "outlinewidth": 0,
             "ticks": ""
            },
            "colorscale": [
             [
              0,
              "#0d0887"
             ],
             [
              0.1111111111111111,
              "#46039f"
             ],
             [
              0.2222222222222222,
              "#7201a8"
             ],
             [
              0.3333333333333333,
              "#9c179e"
             ],
             [
              0.4444444444444444,
              "#bd3786"
             ],
             [
              0.5555555555555556,
              "#d8576b"
             ],
             [
              0.6666666666666666,
              "#ed7953"
             ],
             [
              0.7777777777777778,
              "#fb9f3a"
             ],
             [
              0.8888888888888888,
              "#fdca26"
             ],
             [
              1,
              "#f0f921"
             ]
            ],
            "type": "heatmapgl"
           }
          ],
          "histogram": [
           {
            "marker": {
             "pattern": {
              "fillmode": "overlay",
              "size": 10,
              "solidity": 0.2
             }
            },
            "type": "histogram"
           }
          ],
          "histogram2d": [
           {
            "colorbar": {
             "outlinewidth": 0,
             "ticks": ""
            },
            "colorscale": [
             [
              0,
              "#0d0887"
             ],
             [
              0.1111111111111111,
              "#46039f"
             ],
             [
              0.2222222222222222,
              "#7201a8"
             ],
             [
              0.3333333333333333,
              "#9c179e"
             ],
             [
              0.4444444444444444,
              "#bd3786"
             ],
             [
              0.5555555555555556,
              "#d8576b"
             ],
             [
              0.6666666666666666,
              "#ed7953"
             ],
             [
              0.7777777777777778,
              "#fb9f3a"
             ],
             [
              0.8888888888888888,
              "#fdca26"
             ],
             [
              1,
              "#f0f921"
             ]
            ],
            "type": "histogram2d"
           }
          ],
          "histogram2dcontour": [
           {
            "colorbar": {
             "outlinewidth": 0,
             "ticks": ""
            },
            "colorscale": [
             [
              0,
              "#0d0887"
             ],
             [
              0.1111111111111111,
              "#46039f"
             ],
             [
              0.2222222222222222,
              "#7201a8"
             ],
             [
              0.3333333333333333,
              "#9c179e"
             ],
             [
              0.4444444444444444,
              "#bd3786"
             ],
             [
              0.5555555555555556,
              "#d8576b"
             ],
             [
              0.6666666666666666,
              "#ed7953"
             ],
             [
              0.7777777777777778,
              "#fb9f3a"
             ],
             [
              0.8888888888888888,
              "#fdca26"
             ],
             [
              1,
              "#f0f921"
             ]
            ],
            "type": "histogram2dcontour"
           }
          ],
          "mesh3d": [
           {
            "colorbar": {
             "outlinewidth": 0,
             "ticks": ""
            },
            "type": "mesh3d"
           }
          ],
          "parcoords": [
           {
            "line": {
             "colorbar": {
              "outlinewidth": 0,
              "ticks": ""
             }
            },
            "type": "parcoords"
           }
          ],
          "pie": [
           {
            "automargin": true,
            "type": "pie"
           }
          ],
          "scatter": [
           {
            "marker": {
             "line": {
              "color": "#283442"
             }
            },
            "type": "scatter"
           }
          ],
          "scatter3d": [
           {
            "line": {
             "colorbar": {
              "outlinewidth": 0,
              "ticks": ""
             }
            },
            "marker": {
             "colorbar": {
              "outlinewidth": 0,
              "ticks": ""
             }
            },
            "type": "scatter3d"
           }
          ],
          "scattercarpet": [
           {
            "marker": {
             "colorbar": {
              "outlinewidth": 0,
              "ticks": ""
             }
            },
            "type": "scattercarpet"
           }
          ],
          "scattergeo": [
           {
            "marker": {
             "colorbar": {
              "outlinewidth": 0,
              "ticks": ""
             }
            },
            "type": "scattergeo"
           }
          ],
          "scattergl": [
           {
            "marker": {
             "line": {
              "color": "#283442"
             }
            },
            "type": "scattergl"
           }
          ],
          "scattermapbox": [
           {
            "marker": {
             "colorbar": {
              "outlinewidth": 0,
              "ticks": ""
             }
            },
            "type": "scattermapbox"
           }
          ],
          "scatterpolar": [
           {
            "marker": {
             "colorbar": {
              "outlinewidth": 0,
              "ticks": ""
             }
            },
            "type": "scatterpolar"
           }
          ],
          "scatterpolargl": [
           {
            "marker": {
             "colorbar": {
              "outlinewidth": 0,
              "ticks": ""
             }
            },
            "type": "scatterpolargl"
           }
          ],
          "scatterternary": [
           {
            "marker": {
             "colorbar": {
              "outlinewidth": 0,
              "ticks": ""
             }
            },
            "type": "scatterternary"
           }
          ],
          "surface": [
           {
            "colorbar": {
             "outlinewidth": 0,
             "ticks": ""
            },
            "colorscale": [
             [
              0,
              "#0d0887"
             ],
             [
              0.1111111111111111,
              "#46039f"
             ],
             [
              0.2222222222222222,
              "#7201a8"
             ],
             [
              0.3333333333333333,
              "#9c179e"
             ],
             [
              0.4444444444444444,
              "#bd3786"
             ],
             [
              0.5555555555555556,
              "#d8576b"
             ],
             [
              0.6666666666666666,
              "#ed7953"
             ],
             [
              0.7777777777777778,
              "#fb9f3a"
             ],
             [
              0.8888888888888888,
              "#fdca26"
             ],
             [
              1,
              "#f0f921"
             ]
            ],
            "type": "surface"
           }
          ],
          "table": [
           {
            "cells": {
             "fill": {
              "color": "#506784"
             },
             "line": {
              "color": "rgb(17,17,17)"
             }
            },
            "header": {
             "fill": {
              "color": "#2a3f5f"
             },
             "line": {
              "color": "rgb(17,17,17)"
             }
            },
            "type": "table"
           }
          ]
         },
         "layout": {
          "annotationdefaults": {
           "arrowcolor": "#f2f5fa",
           "arrowhead": 0,
           "arrowwidth": 1
          },
          "autotypenumbers": "strict",
          "coloraxis": {
           "colorbar": {
            "outlinewidth": 0,
            "ticks": ""
           }
          },
          "colorscale": {
           "diverging": [
            [
             0,
             "#8e0152"
            ],
            [
             0.1,
             "#c51b7d"
            ],
            [
             0.2,
             "#de77ae"
            ],
            [
             0.3,
             "#f1b6da"
            ],
            [
             0.4,
             "#fde0ef"
            ],
            [
             0.5,
             "#f7f7f7"
            ],
            [
             0.6,
             "#e6f5d0"
            ],
            [
             0.7,
             "#b8e186"
            ],
            [
             0.8,
             "#7fbc41"
            ],
            [
             0.9,
             "#4d9221"
            ],
            [
             1,
             "#276419"
            ]
           ],
           "sequential": [
            [
             0,
             "#0d0887"
            ],
            [
             0.1111111111111111,
             "#46039f"
            ],
            [
             0.2222222222222222,
             "#7201a8"
            ],
            [
             0.3333333333333333,
             "#9c179e"
            ],
            [
             0.4444444444444444,
             "#bd3786"
            ],
            [
             0.5555555555555556,
             "#d8576b"
            ],
            [
             0.6666666666666666,
             "#ed7953"
            ],
            [
             0.7777777777777778,
             "#fb9f3a"
            ],
            [
             0.8888888888888888,
             "#fdca26"
            ],
            [
             1,
             "#f0f921"
            ]
           ],
           "sequentialminus": [
            [
             0,
             "#0d0887"
            ],
            [
             0.1111111111111111,
             "#46039f"
            ],
            [
             0.2222222222222222,
             "#7201a8"
            ],
            [
             0.3333333333333333,
             "#9c179e"
            ],
            [
             0.4444444444444444,
             "#bd3786"
            ],
            [
             0.5555555555555556,
             "#d8576b"
            ],
            [
             0.6666666666666666,
             "#ed7953"
            ],
            [
             0.7777777777777778,
             "#fb9f3a"
            ],
            [
             0.8888888888888888,
             "#fdca26"
            ],
            [
             1,
             "#f0f921"
            ]
           ]
          },
          "colorway": [
           "#636efa",
           "#EF553B",
           "#00cc96",
           "#ab63fa",
           "#FFA15A",
           "#19d3f3",
           "#FF6692",
           "#B6E880",
           "#FF97FF",
           "#FECB52"
          ],
          "font": {
           "color": "#f2f5fa"
          },
          "geo": {
           "bgcolor": "rgb(17,17,17)",
           "lakecolor": "rgb(17,17,17)",
           "landcolor": "rgb(17,17,17)",
           "showlakes": true,
           "showland": true,
           "subunitcolor": "#506784"
          },
          "hoverlabel": {
           "align": "left"
          },
          "hovermode": "closest",
          "mapbox": {
           "style": "dark"
          },
          "paper_bgcolor": "rgb(17,17,17)",
          "plot_bgcolor": "rgb(17,17,17)",
          "polar": {
           "angularaxis": {
            "gridcolor": "#506784",
            "linecolor": "#506784",
            "ticks": ""
           },
           "bgcolor": "rgb(17,17,17)",
           "radialaxis": {
            "gridcolor": "#506784",
            "linecolor": "#506784",
            "ticks": ""
           }
          },
          "scene": {
           "xaxis": {
            "backgroundcolor": "rgb(17,17,17)",
            "gridcolor": "#506784",
            "gridwidth": 2,
            "linecolor": "#506784",
            "showbackground": true,
            "ticks": "",
            "zerolinecolor": "#C8D4E3"
           },
           "yaxis": {
            "backgroundcolor": "rgb(17,17,17)",
            "gridcolor": "#506784",
            "gridwidth": 2,
            "linecolor": "#506784",
            "showbackground": true,
            "ticks": "",
            "zerolinecolor": "#C8D4E3"
           },
           "zaxis": {
            "backgroundcolor": "rgb(17,17,17)",
            "gridcolor": "#506784",
            "gridwidth": 2,
            "linecolor": "#506784",
            "showbackground": true,
            "ticks": "",
            "zerolinecolor": "#C8D4E3"
           }
          },
          "shapedefaults": {
           "line": {
            "color": "#f2f5fa"
           }
          },
          "sliderdefaults": {
           "bgcolor": "#C8D4E3",
           "bordercolor": "rgb(17,17,17)",
           "borderwidth": 1,
           "tickwidth": 0
          },
          "ternary": {
           "aaxis": {
            "gridcolor": "#506784",
            "linecolor": "#506784",
            "ticks": ""
           },
           "baxis": {
            "gridcolor": "#506784",
            "linecolor": "#506784",
            "ticks": ""
           },
           "bgcolor": "rgb(17,17,17)",
           "caxis": {
            "gridcolor": "#506784",
            "linecolor": "#506784",
            "ticks": ""
           }
          },
          "title": {
           "x": 0.05
          },
          "updatemenudefaults": {
           "bgcolor": "#506784",
           "borderwidth": 0
          },
          "xaxis": {
           "automargin": true,
           "gridcolor": "#283442",
           "linecolor": "#506784",
           "ticks": "",
           "title": {
            "standoff": 15
           },
           "zerolinecolor": "#283442",
           "zerolinewidth": 2
          },
          "yaxis": {
           "automargin": true,
           "gridcolor": "#283442",
           "linecolor": "#506784",
           "ticks": "",
           "title": {
            "standoff": 15
           },
           "zerolinecolor": "#283442",
           "zerolinewidth": 2
          }
         }
        },
        "title": {
         "text": "Mean Citations per Article per Disease Class",
         "x": 0.5
        },
        "xaxis": {
         "anchor": "y",
         "domain": [
          0,
          1
         ],
         "title": {
          "text": "Mean Citation per Article"
         },
         "type": "log"
        },
        "yaxis": {
         "anchor": "x",
         "categoryorder": "total ascending",
         "domain": [
          0,
          1
         ],
         "title": {
          "text": "Disease Classes"
         }
        }
       }
      }
     },
     "metadata": {},
     "output_type": "display_data"
    }
   ],
   "source": [
    "fig = px.bar(\n",
    "    disease_citations_df[0:10],\n",
    "    x=\"Mean Citation per Article\",\n",
    "    y=\"Disease Classes\",\n",
    "    orientation='h',\n",
    "    title=\"Mean Citations per Article per Disease Class\",\n",
    "    log_x=True\n",
    ")\n",
    "fig.update_layout(\n",
    "    yaxis_title=\"Disease Classes\",\n",
    "    title_x=0.5,\n",
    "    plot_bgcolor=\"rgb(34, 37, 41)\", paper_bgcolor=\"rgb(34, 37, 41)\",\n",
    "    template=\"plotly_dark\"\n",
    ")\n",
    "fig.update_yaxes(categoryorder=\"total ascending\")\n",
    "fig.show()"
   ]
  },
  {
   "cell_type": "markdown",
   "metadata": {},
   "source": [
    "### h index :"
   ]
  },
  {
   "cell_type": "markdown",
   "metadata": {},
   "source": [
    "A researcher has an h-index of h if h of their papers have at least h citations each, and the remaining papers have ≤h citations."
   ]
  },
  {
   "cell_type": "code",
   "execution_count": 18,
   "metadata": {},
   "outputs": [],
   "source": [
    "disease_h_index_df = calculate_H_index_diseases(disease_citations_df, citations_dict)"
   ]
  },
  {
   "cell_type": "code",
   "execution_count": 19,
   "metadata": {},
   "outputs": [
    {
     "data": {
      "image/png": "[encoded data removed]",
      "text/plain": [
       "<Figure size 1000x600 with 2 Axes>"
      ]
     },
     "metadata": {},
     "output_type": "display_data"
    }
   ],
   "source": [
    "fig, axes = plt.subplots(1, 2, figsize=(10, 6))\n",
    "sns.barplot(\n",
    "    data=disease_citations_df.head(10),\n",
    "    x=\"Disease Classes\",\n",
    "    y=\"Mean Citation per Article\",\n",
    "    palette=\"deep\",\n",
    "    ax=axes[0],\n",
    ")\n",
    "axes[0].set_xticklabels(axes[0].get_xticklabels(), rotation=90)\n",
    "axes[0].set_title(\"Mean Citations per Article per Disease Class\")\n",
    "axes[0].tick_params(axis=\"x\", which=\"both\", bottom=False)\n",
    "\n",
    "# Adapting color palette for second plot so it matches the first (same diseases have same color)\n",
    "deep_palette = sns.color_palette(\"deep\", len(disease_citations_df.head(10)))\n",
    "adapted_palette = []\n",
    "for disease_class in disease_h_index_df.head(10)[\"Disease Classes\"].values:\n",
    "    clr = np.where(\n",
    "        disease_h_index_df.head(10)[\"Disease Classes\"].values == disease_class\n",
    "    )[0][0]\n",
    "    adapted_palette.append(deep_palette[clr])\n",
    "else:\n",
    "    adapted_palette.append(sns.color_palette(\"Set2\", 1)[0])\n",
    "\n",
    "sns.barplot(\n",
    "    data=disease_h_index_df.head(10),\n",
    "    x=\"Disease Classes\",\n",
    "    y=\"H-Index\",\n",
    "    palette=adapted_palette,\n",
    "    ax=axes[1],\n",
    ")\n",
    "axes[1].set_xticklabels(axes[1].get_xticklabels(), rotation=90)\n",
    "axes[1].set_title(\"H-Index Metric per Disease Class\")\n",
    "\n",
    "plt.tight_layout()\n",
    "plt.show()"
   ]
  },
  {
   "cell_type": "code",
   "execution_count": 20,
   "metadata": {},
   "outputs": [
    {
     "data": {
      "application/vnd.plotly.v1+json": {
       "config": {
        "plotlyServerURL": "https://plot.ly"
       },
       "data": [
        {
         "alignmentgroup": "True",
         "hovertemplate": "H-Index=%{x}<br>Disease Classes=%{y}<extra></extra>",
         "legendgroup": "",
         "marker": {
          "color": "#6baed6",
          "pattern": {
           "shape": ""
          }
         },
         "name": "",
         "offsetgroup": "",
         "orientation": "h",
         "showlegend": false,
         "textposition": "auto",
         "type": "bar",
         "x": [
          176,
          132,
          125,
          119,
          105,
          102,
          101,
          91,
          91,
          89
         ],
         "xaxis": "x",
         "y": [
          "Cancer",
          "Neurodegeneration",
          "Dysplasia",
          "Immunodeficiency",
          "Diabetes",
          "Epilepsy",
          "Inflammatory skin and bowel disease",
          "Vitamin D-dependent rickets 3",
          "Osteopetrosis",
          "QT syndrome"
         ],
         "yaxis": "y"
        }
       ],
       "layout": {
        "barmode": "relative",
        "legend": {
         "tracegroupgap": 0
        },
        "paper_bgcolor": "rgb(34, 37, 41)",
        "plot_bgcolor": "rgb(34, 37, 41)",
        "template": {
         "data": {
          "bar": [
           {
            "error_x": {
             "color": "#f2f5fa"
            },
            "error_y": {
             "color": "#f2f5fa"
            },
            "marker": {
             "line": {
              "color": "rgb(17,17,17)",
              "width": 0.5
             },
             "pattern": {
              "fillmode": "overlay",
              "size": 10,
              "solidity": 0.2
             }
            },
            "type": "bar"
           }
          ],
          "barpolar": [
           {
            "marker": {
             "line": {
              "color": "rgb(17,17,17)",
              "width": 0.5
             },
             "pattern": {
              "fillmode": "overlay",
              "size": 10,
              "solidity": 0.2
             }
            },
            "type": "barpolar"
           }
          ],
          "carpet": [
           {
            "aaxis": {
             "endlinecolor": "#A2B1C6",
             "gridcolor": "#506784",
             "linecolor": "#506784",
             "minorgridcolor": "#506784",
             "startlinecolor": "#A2B1C6"
            },
            "baxis": {
             "endlinecolor": "#A2B1C6",
             "gridcolor": "#506784",
             "linecolor": "#506784",
             "minorgridcolor": "#506784",
             "startlinecolor": "#A2B1C6"
            },
            "type": "carpet"
           }
          ],
          "choropleth": [
           {
            "colorbar": {
             "outlinewidth": 0,
             "ticks": ""
            },
            "type": "choropleth"
           }
          ],
          "contour": [
           {
            "colorbar": {
             "outlinewidth": 0,
             "ticks": ""
            },
            "colorscale": [
             [
              0,
              "#0d0887"
             ],
             [
              0.1111111111111111,
              "#46039f"
             ],
             [
              0.2222222222222222,
              "#7201a8"
             ],
             [
              0.3333333333333333,
              "#9c179e"
             ],
             [
              0.4444444444444444,
              "#bd3786"
             ],
             [
              0.5555555555555556,
              "#d8576b"
             ],
             [
              0.6666666666666666,
              "#ed7953"
             ],
             [
              0.7777777777777778,
              "#fb9f3a"
             ],
             [
              0.8888888888888888,
              "#fdca26"
             ],
             [
              1,
              "#f0f921"
             ]
            ],
            "type": "contour"
           }
          ],
          "contourcarpet": [
           {
            "colorbar": {
             "outlinewidth": 0,
             "ticks": ""
            },
            "type": "contourcarpet"
           }
          ],
          "heatmap": [
           {
            "colorbar": {
             "outlinewidth": 0,
             "ticks": ""
            },
            "colorscale": [
             [
              0,
              "#0d0887"
             ],
             [
              0.1111111111111111,
              "#46039f"
             ],
             [
              0.2222222222222222,
              "#7201a8"
             ],
             [
              0.3333333333333333,
              "#9c179e"
             ],
             [
              0.4444444444444444,
              "#bd3786"
             ],
             [
              0.5555555555555556,
              "#d8576b"
             ],
             [
              0.6666666666666666,
              "#ed7953"
             ],
             [
              0.7777777777777778,
              "#fb9f3a"
             ],
             [
              0.8888888888888888,
              "#fdca26"
             ],
             [
              1,
              "#f0f921"
             ]
            ],
            "type": "heatmap"
           }
          ],
          "heatmapgl": [
           {
            "colorbar": {
             "outlinewidth": 0,
             "ticks": ""
            },
            "colorscale": [
             [
              0,
              "#0d0887"
             ],
             [
              0.1111111111111111,
              "#46039f"
             ],
             [
              0.2222222222222222,
              "#7201a8"
             ],
             [
              0.3333333333333333,
              "#9c179e"
             ],
             [
              0.4444444444444444,
              "#bd3786"
             ],
             [
              0.5555555555555556,
              "#d8576b"
             ],
             [
              0.6666666666666666,
              "#ed7953"
             ],
             [
              0.7777777777777778,
              "#fb9f3a"
             ],
             [
              0.8888888888888888,
              "#fdca26"
             ],
             [
              1,
              "#f0f921"
             ]
            ],
            "type": "heatmapgl"
           }
          ],
          "histogram": [
           {
            "marker": {
             "pattern": {
              "fillmode": "overlay",
              "size": 10,
              "solidity": 0.2
             }
            },
            "type": "histogram"
           }
          ],
          "histogram2d": [
           {
            "colorbar": {
             "outlinewidth": 0,
             "ticks": ""
            },
            "colorscale": [
             [
              0,
              "#0d0887"
             ],
             [
              0.1111111111111111,
              "#46039f"
             ],
             [
              0.2222222222222222,
              "#7201a8"
             ],
             [
              0.3333333333333333,
              "#9c179e"
             ],
             [
              0.4444444444444444,
              "#bd3786"
             ],
             [
              0.5555555555555556,
              "#d8576b"
             ],
             [
              0.6666666666666666,
              "#ed7953"
             ],
             [
              0.7777777777777778,
              "#fb9f3a"
             ],
             [
              0.8888888888888888,
              "#fdca26"
             ],
             [
              1,
              "#f0f921"
             ]
            ],
            "type": "histogram2d"
           }
          ],
          "histogram2dcontour": [
           {
            "colorbar": {
             "outlinewidth": 0,
             "ticks": ""
            },
            "colorscale": [
             [
              0,
              "#0d0887"
             ],
             [
              0.1111111111111111,
              "#46039f"
             ],
             [
              0.2222222222222222,
              "#7201a8"
             ],
             [
              0.3333333333333333,
              "#9c179e"
             ],
             [
              0.4444444444444444,
              "#bd3786"
             ],
             [
              0.5555555555555556,
              "#d8576b"
             ],
             [
              0.6666666666666666,
              "#ed7953"
             ],
             [
              0.7777777777777778,
              "#fb9f3a"
             ],
             [
              0.8888888888888888,
              "#fdca26"
             ],
             [
              1,
              "#f0f921"
             ]
            ],
            "type": "histogram2dcontour"
           }
          ],
          "mesh3d": [
           {
            "colorbar": {
             "outlinewidth": 0,
             "ticks": ""
            },
            "type": "mesh3d"
           }
          ],
          "parcoords": [
           {
            "line": {
             "colorbar": {
              "outlinewidth": 0,
              "ticks": ""
             }
            },
            "type": "parcoords"
           }
          ],
          "pie": [
           {
            "automargin": true,
            "type": "pie"
           }
          ],
          "scatter": [
           {
            "marker": {
             "line": {
              "color": "#283442"
             }
            },
            "type": "scatter"
           }
          ],
          "scatter3d": [
           {
            "line": {
             "colorbar": {
              "outlinewidth": 0,
              "ticks": ""
             }
            },
            "marker": {
             "colorbar": {
              "outlinewidth": 0,
              "ticks": ""
             }
            },
            "type": "scatter3d"
           }
          ],
          "scattercarpet": [
           {
            "marker": {
             "colorbar": {
              "outlinewidth": 0,
              "ticks": ""
             }
            },
            "type": "scattercarpet"
           }
          ],
          "scattergeo": [
           {
            "marker": {
             "colorbar": {
              "outlinewidth": 0,
              "ticks": ""
             }
            },
            "type": "scattergeo"
           }
          ],
          "scattergl": [
           {
            "marker": {
             "line": {
              "color": "#283442"
             }
            },
            "type": "scattergl"
           }
          ],
          "scattermapbox": [
           {
            "marker": {
             "colorbar": {
              "outlinewidth": 0,
              "ticks": ""
             }
            },
            "type": "scattermapbox"
           }
          ],
          "scatterpolar": [
           {
            "marker": {
             "colorbar": {
              "outlinewidth": 0,
              "ticks": ""
             }
            },
            "type": "scatterpolar"
           }
          ],
          "scatterpolargl": [
           {
            "marker": {
             "colorbar": {
              "outlinewidth": 0,
              "ticks": ""
             }
            },
            "type": "scatterpolargl"
           }
          ],
          "scatterternary": [
           {
            "marker": {
             "colorbar": {
              "outlinewidth": 0,
              "ticks": ""
             }
            },
            "type": "scatterternary"
           }
          ],
          "surface": [
           {
            "colorbar": {
             "outlinewidth": 0,
             "ticks": ""
            },
            "colorscale": [
             [
              0,
              "#0d0887"
             ],
             [
              0.1111111111111111,
              "#46039f"
             ],
             [
              0.2222222222222222,
              "#7201a8"
             ],
             [
              0.3333333333333333,
              "#9c179e"
             ],
             [
              0.4444444444444444,
              "#bd3786"
             ],
             [
              0.5555555555555556,
              "#d8576b"
             ],
             [
              0.6666666666666666,
              "#ed7953"
             ],
             [
              0.7777777777777778,
              "#fb9f3a"
             ],
             [
              0.8888888888888888,
              "#fdca26"
             ],
             [
              1,
              "#f0f921"
             ]
            ],
            "type": "surface"
           }
          ],
          "table": [
           {
            "cells": {
             "fill": {
              "color": "#506784"
             },
             "line": {
              "color": "rgb(17,17,17)"
             }
            },
            "header": {
             "fill": {
              "color": "#2a3f5f"
             },
             "line": {
              "color": "rgb(17,17,17)"
             }
            },
            "type": "table"
           }
          ]
         },
         "layout": {
          "annotationdefaults": {
           "arrowcolor": "#f2f5fa",
           "arrowhead": 0,
           "arrowwidth": 1
          },
          "autotypenumbers": "strict",
          "coloraxis": {
           "colorbar": {
            "outlinewidth": 0,
            "ticks": ""
           }
          },
          "colorscale": {
           "diverging": [
            [
             0,
             "#8e0152"
            ],
            [
             0.1,
             "#c51b7d"
            ],
            [
             0.2,
             "#de77ae"
            ],
            [
             0.3,
             "#f1b6da"
            ],
            [
             0.4,
             "#fde0ef"
            ],
            [
             0.5,
             "#f7f7f7"
            ],
            [
             0.6,
             "#e6f5d0"
            ],
            [
             0.7,
             "#b8e186"
            ],
            [
             0.8,
             "#7fbc41"
            ],
            [
             0.9,
             "#4d9221"
            ],
            [
             1,
             "#276419"
            ]
           ],
           "sequential": [
            [
             0,
             "#0d0887"
            ],
            [
             0.1111111111111111,
             "#46039f"
            ],
            [
             0.2222222222222222,
             "#7201a8"
            ],
            [
             0.3333333333333333,
             "#9c179e"
            ],
            [
             0.4444444444444444,
             "#bd3786"
            ],
            [
             0.5555555555555556,
             "#d8576b"
            ],
            [
             0.6666666666666666,
             "#ed7953"
            ],
            [
             0.7777777777777778,
             "#fb9f3a"
            ],
            [
             0.8888888888888888,
             "#fdca26"
            ],
            [
             1,
             "#f0f921"
            ]
           ],
           "sequentialminus": [
            [
             0,
             "#0d0887"
            ],
            [
             0.1111111111111111,
             "#46039f"
            ],
            [
             0.2222222222222222,
             "#7201a8"
            ],
            [
             0.3333333333333333,
             "#9c179e"
            ],
            [
             0.4444444444444444,
             "#bd3786"
            ],
            [
             0.5555555555555556,
             "#d8576b"
            ],
            [
             0.6666666666666666,
             "#ed7953"
            ],
            [
             0.7777777777777778,
             "#fb9f3a"
            ],
            [
             0.8888888888888888,
             "#fdca26"
            ],
            [
             1,
             "#f0f921"
            ]
           ]
          },
          "colorway": [
           "#636efa",
           "#EF553B",
           "#00cc96",
           "#ab63fa",
           "#FFA15A",
           "#19d3f3",
           "#FF6692",
           "#B6E880",
           "#FF97FF",
           "#FECB52"
          ],
          "font": {
           "color": "#f2f5fa"
          },
          "geo": {
           "bgcolor": "rgb(17,17,17)",
           "lakecolor": "rgb(17,17,17)",
           "landcolor": "rgb(17,17,17)",
           "showlakes": true,
           "showland": true,
           "subunitcolor": "#506784"
          },
          "hoverlabel": {
           "align": "left"
          },
          "hovermode": "closest",
          "mapbox": {
           "style": "dark"
          },
          "paper_bgcolor": "rgb(17,17,17)",
          "plot_bgcolor": "rgb(17,17,17)",
          "polar": {
           "angularaxis": {
            "gridcolor": "#506784",
            "linecolor": "#506784",
            "ticks": ""
           },
           "bgcolor": "rgb(17,17,17)",
           "radialaxis": {
            "gridcolor": "#506784",
            "linecolor": "#506784",
            "ticks": ""
           }
          },
          "scene": {
           "xaxis": {
            "backgroundcolor": "rgb(17,17,17)",
            "gridcolor": "#506784",
            "gridwidth": 2,
            "linecolor": "#506784",
            "showbackground": true,
            "ticks": "",
            "zerolinecolor": "#C8D4E3"
           },
           "yaxis": {
            "backgroundcolor": "rgb(17,17,17)",
            "gridcolor": "#506784",
            "gridwidth": 2,
            "linecolor": "#506784",
            "showbackground": true,
            "ticks": "",
            "zerolinecolor": "#C8D4E3"
           },
           "zaxis": {
            "backgroundcolor": "rgb(17,17,17)",
            "gridcolor": "#506784",
            "gridwidth": 2,
            "linecolor": "#506784",
            "showbackground": true,
            "ticks": "",
            "zerolinecolor": "#C8D4E3"
           }
          },
          "shapedefaults": {
           "line": {
            "color": "#f2f5fa"
           }
          },
          "sliderdefaults": {
           "bgcolor": "#C8D4E3",
           "bordercolor": "rgb(17,17,17)",
           "borderwidth": 1,
           "tickwidth": 0
          },
          "ternary": {
           "aaxis": {
            "gridcolor": "#506784",
            "linecolor": "#506784",
            "ticks": ""
           },
           "baxis": {
            "gridcolor": "#506784",
            "linecolor": "#506784",
            "ticks": ""
           },
           "bgcolor": "rgb(17,17,17)",
           "caxis": {
            "gridcolor": "#506784",
            "linecolor": "#506784",
            "ticks": ""
           }
          },
          "title": {
           "x": 0.05
          },
          "updatemenudefaults": {
           "bgcolor": "#506784",
           "borderwidth": 0
          },
          "xaxis": {
           "automargin": true,
           "gridcolor": "#283442",
           "linecolor": "#506784",
           "ticks": "",
           "title": {
            "standoff": 15
           },
           "zerolinecolor": "#283442",
           "zerolinewidth": 2
          },
          "yaxis": {
           "automargin": true,
           "gridcolor": "#283442",
           "linecolor": "#506784",
           "ticks": "",
           "title": {
            "standoff": 15
           },
           "zerolinecolor": "#283442",
           "zerolinewidth": 2
          }
         }
        },
        "title": {
         "text": "H-Index per Disease Class",
         "x": 0.5
        },
        "xaxis": {
         "anchor": "y",
         "domain": [
          0,
          1
         ],
         "title": {
          "text": "H-Index"
         },
         "type": "log"
        },
        "yaxis": {
         "anchor": "x",
         "categoryorder": "total ascending",
         "domain": [
          0,
          1
         ],
         "title": {
          "text": "Disease Classes"
         }
        }
       }
      }
     },
     "metadata": {},
     "output_type": "display_data"
    }
   ],
   "source": [
    "colors = ['#6baed6']\n",
    "fig = px.bar(\n",
    "    disease_h_index_df[0:10],\n",
    "    x=\"H-Index\",\n",
    "    y=\"Disease Classes\",\n",
    "    orientation='h',\n",
    "    title=\"H-Index per Disease Class\",\n",
    "    log_x=True,\n",
    "    color_discrete_sequence=colors\n",
    ")\n",
    "fig.update_layout(\n",
    "    yaxis_title=\"Disease Classes\",\n",
    "    title_x=0.5,\n",
    "    plot_bgcolor=\"rgb(34, 37, 41)\", paper_bgcolor=\"rgb(34, 37, 41)\",\n",
    "    template=\"plotly_dark\"\n",
    ")\n",
    "fig.update_yaxes(categoryorder=\"total ascending\")\n",
    "fig.show()"
   ]
  },
  {
   "cell_type": "code",
   "execution_count": 21,
   "metadata": {},
   "outputs": [],
   "source": [
    "# custom_style = \"\"\"\n",
    "# <style>\n",
    "#   body, html {\n",
    "#     background-color: rgb(34, 37, 41);\n",
    "#   }\n",
    "# </style>\n",
    "# \"\"\"\n",
    "\n",
    "# # Save the HTML file and inject the custom style\n",
    "# html_content = fig.to_html(full_html=True, include_plotlyjs=\"cdn\")\n",
    "# # Insert the style in the <head>\n",
    "# html_content = html_content.replace(\"</head>\", f\"{custom_style}</head>\")\n",
    "\n",
    "# # Write to a file\n",
    "# with open(\"HIndex_Disease.html\", \"w\") as f:\n",
    "#     f.write(html_content)\n",
    "# fig.write_image(\"HIndex_Disease.svg\")"
   ]
  },
  {
   "cell_type": "markdown",
   "metadata": {},
   "source": [
    "### Timeseries:"
   ]
  },
  {
   "cell_type": "code",
   "execution_count": 22,
   "metadata": {},
   "outputs": [
    {
     "data": {
      "application/vnd.plotly.v1+json": {
       "config": {
        "plotlyServerURL": "https://plot.ly"
       },
       "data": [
        {
         "fillpattern": {
          "shape": ""
         },
         "hovertemplate": "Disease Classes=Dysplasia<br>Publication Year=%{x}<br>Citation Count=%{y}<extra></extra>",
         "legendgroup": "Dysplasia",
         "line": {
          "color": "#636efa"
         },
         "marker": {
          "symbol": "circle"
         },
         "mode": "lines",
         "name": "Dysplasia",
         "orientation": "v",
         "showlegend": true,
         "stackgroup": "1",
         "type": "scatter",
         "x": [
          1977,
          1979,
          1981,
          1985,
          1986,
          1987,
          1988,
          1989,
          1990,
          1991,
          1992,
          1993,
          1994,
          1995,
          1996,
          1997,
          1998,
          1999,
          2000,
          2001,
          2002,
          2003,
          2004,
          2005,
          2006,
          2007,
          2008,
          2009,
          2010,
          2011,
          2012,
          2013,
          2014,
          2015,
          2016,
          2017,
          2018,
          2019,
          2020,
          2021,
          2022
         ],
         "xaxis": "x",
         "y": [
          27,
          15,
          189,
          209,
          55,
          68,
          78,
          144,
          17,
          69,
          101,
          109,
          119,
          182,
          198,
          1656,
          1083,
          1221,
          1987,
          1207,
          1283,
          2302,
          6322,
          5221,
          3156,
          6046,
          9371,
          5421,
          5524,
          9740,
          5249,
          5084,
          3819,
          3516,
          4948,
          4091,
          5987,
          4617,
          3318,
          1498,
          169
         ],
         "yaxis": "y"
        },
        {
         "fillpattern": {
          "shape": ""
         },
         "hovertemplate": "Disease Classes=Epilepsy<br>Publication Year=%{x}<br>Citation Count=%{y}<extra></extra>",
         "legendgroup": "Epilepsy",
         "line": {
          "color": "#EF553B"
         },
         "marker": {
          "symbol": "circle"
         },
         "mode": "lines",
         "name": "Epilepsy",
         "orientation": "v",
         "showlegend": true,
         "stackgroup": "1",
         "type": "scatter",
         "x": [
          1979,
          1985,
          1986,
          1987,
          1988,
          1989,
          1990,
          1991,
          1992,
          1993,
          1994,
          1995,
          1996,
          1997,
          1998,
          1999,
          2000,
          2001,
          2002,
          2003,
          2004,
          2005,
          2006,
          2007,
          2008,
          2009,
          2010,
          2011,
          2012,
          2013,
          2014,
          2015,
          2016,
          2017,
          2018,
          2019,
          2020,
          2021,
          2022
         ],
         "xaxis": "x",
         "y": [
          31,
          81,
          6,
          132,
          71,
          772,
          602,
          40,
          123,
          39,
          167,
          1105,
          1993,
          3138,
          761,
          781,
          1333,
          503,
          2224,
          3831,
          1796,
          4164,
          1617,
          3014,
          3820,
          2455,
          2815,
          4769,
          3244,
          2094,
          2663,
          2119,
          2966,
          2378,
          1754,
          2313,
          4620,
          667,
          75
         ],
         "yaxis": "y"
        },
        {
         "fillpattern": {
          "shape": ""
         },
         "hovertemplate": "Disease Classes=Cancer<br>Publication Year=%{x}<br>Citation Count=%{y}<extra></extra>",
         "legendgroup": "Cancer",
         "line": {
          "color": "#00cc96"
         },
         "marker": {
          "symbol": "circle"
         },
         "mode": "lines",
         "name": "Cancer",
         "orientation": "v",
         "showlegend": true,
         "stackgroup": "1",
         "type": "scatter",
         "x": [
          1981,
          1985,
          1988,
          1989,
          1990,
          1991,
          1992,
          1993,
          1994,
          1995,
          1996,
          1997,
          1998,
          1999,
          2000,
          2001,
          2002,
          2003,
          2004,
          2005,
          2006,
          2007,
          2008,
          2009,
          2010,
          2011,
          2012,
          2013,
          2014,
          2015,
          2016,
          2017,
          2018,
          2019,
          2020,
          2021,
          2022
         ],
         "xaxis": "x",
         "y": [
          11,
          13,
          34,
          652,
          16,
          367,
          327,
          316,
          1360,
          1829,
          2459,
          2852,
          2498,
          2501,
          4824,
          3066,
          3816,
          6040,
          9770,
          10292,
          9709,
          14153,
          16147,
          10768,
          11673,
          14666,
          12831,
          10250,
          10961,
          9222,
          15522,
          9590,
          11670,
          11526,
          7206,
          4090,
          257
         ],
         "yaxis": "y"
        },
        {
         "fillpattern": {
          "shape": ""
         },
         "hovertemplate": "Disease Classes=Diabetes<br>Publication Year=%{x}<br>Citation Count=%{y}<extra></extra>",
         "legendgroup": "Diabetes",
         "line": {
          "color": "#ab63fa"
         },
         "marker": {
          "symbol": "circle"
         },
         "mode": "lines",
         "name": "Diabetes",
         "orientation": "v",
         "showlegend": true,
         "stackgroup": "1",
         "type": "scatter",
         "x": [
          1981,
          1985,
          1986,
          1988,
          1989,
          1991,
          1992,
          1993,
          1994,
          1995,
          1996,
          1997,
          1998,
          1999,
          2000,
          2001,
          2002,
          2003,
          2004,
          2005,
          2006,
          2007,
          2008,
          2009,
          2010,
          2011,
          2012,
          2013,
          2014,
          2015,
          2016,
          2017,
          2018,
          2019,
          2020,
          2021,
          2022
         ],
         "xaxis": "x",
         "y": [
          19,
          90,
          162,
          78,
          180,
          93,
          129,
          182,
          154,
          243,
          128,
          197,
          1135,
          733,
          3142,
          1520,
          1654,
          2082,
          3183,
          6258,
          2117,
          4865,
          5347,
          4510,
          4287,
          8629,
          4239,
          1863,
          2259,
          2215,
          2581,
          2033,
          1357,
          1949,
          855,
          689,
          53
         ],
         "yaxis": "y"
        },
        {
         "fillpattern": {
          "shape": ""
         },
         "hovertemplate": "Disease Classes=Immunodeficiency<br>Publication Year=%{x}<br>Citation Count=%{y}<extra></extra>",
         "legendgroup": "Immunodeficiency",
         "line": {
          "color": "#FFA15A"
         },
         "marker": {
          "symbol": "circle"
         },
         "mode": "lines",
         "name": "Immunodeficiency",
         "orientation": "v",
         "showlegend": true,
         "stackgroup": "1",
         "type": "scatter",
         "x": [
          1981,
          1983,
          1987,
          1988,
          1990,
          1991,
          1992,
          1993,
          1994,
          1995,
          1996,
          1997,
          1998,
          1999,
          2000,
          2001,
          2002,
          2003,
          2004,
          2005,
          2006,
          2007,
          2008,
          2009,
          2010,
          2011,
          2012,
          2013,
          2014,
          2015,
          2016,
          2017,
          2018,
          2019,
          2020,
          2021,
          2022
         ],
         "xaxis": "x",
         "y": [
          38,
          20,
          94,
          54,
          33,
          247,
          108,
          289,
          100,
          78,
          33,
          124,
          377,
          802,
          1379,
          740,
          1332,
          3237,
          4264,
          3609,
          3279,
          7346,
          8321,
          4302,
          4354,
          6836,
          4510,
          4464,
          3985,
          3189,
          4297,
          3280,
          4207,
          3915,
          2860,
          1199,
          102
         ],
         "yaxis": "y"
        },
        {
         "fillpattern": {
          "shape": ""
         },
         "hovertemplate": "Disease Classes=Neurodegeneration<br>Publication Year=%{x}<br>Citation Count=%{y}<extra></extra>",
         "legendgroup": "Neurodegeneration",
         "line": {
          "color": "#19d3f3"
         },
         "marker": {
          "symbol": "circle"
         },
         "mode": "lines",
         "name": "Neurodegeneration",
         "orientation": "v",
         "showlegend": true,
         "stackgroup": "1",
         "type": "scatter",
         "x": [
          1983,
          1984,
          1985,
          1988,
          1990,
          1991,
          1992,
          1993,
          1994,
          1995,
          1996,
          1997,
          1998,
          1999,
          2000,
          2001,
          2002,
          2003,
          2004,
          2005,
          2006,
          2007,
          2008,
          2009,
          2010,
          2011,
          2012,
          2013,
          2014,
          2015,
          2016,
          2017,
          2018,
          2019,
          2020,
          2021,
          2022
         ],
         "xaxis": "x",
         "y": [
          24,
          7,
          67,
          37,
          22,
          28,
          13,
          331,
          807,
          101,
          2090,
          1519,
          2926,
          1305,
          3548,
          1754,
          3459,
          5415,
          3748,
          6674,
          5067,
          9572,
          8975,
          5049,
          5319,
          8393,
          6437,
          2948,
          3459,
          3365,
          4042,
          5453,
          2705,
          3722,
          1916,
          1275,
          72
         ],
         "yaxis": "y"
        },
        {
         "fillpattern": {
          "shape": ""
         },
         "hovertemplate": "Disease Classes=QT syndrome<br>Publication Year=%{x}<br>Citation Count=%{y}<extra></extra>",
         "legendgroup": "QT syndrome",
         "line": {
          "color": "#FF6692"
         },
         "marker": {
          "symbol": "circle"
         },
         "mode": "lines",
         "name": "QT syndrome",
         "orientation": "v",
         "showlegend": true,
         "stackgroup": "1",
         "type": "scatter",
         "x": [
          1987,
          1988,
          1990,
          1993,
          1995,
          1997,
          1999,
          2000,
          2001,
          2002,
          2003,
          2004,
          2005,
          2006,
          2007,
          2008,
          2009,
          2010,
          2011,
          2012,
          2013,
          2014,
          2015,
          2016,
          2017,
          2018,
          2019,
          2020,
          2021,
          2022
         ],
         "xaxis": "x",
         "y": [
          101,
          71,
          533,
          10,
          495,
          91,
          33,
          14,
          425,
          544,
          495,
          401,
          1134,
          1216,
          1567,
          2223,
          2898,
          4135,
          6266,
          5419,
          2788,
          4119,
          3953,
          3596,
          4122,
          4441,
          3584,
          6855,
          1953,
          163
         ],
         "yaxis": "y"
        },
        {
         "fillpattern": {
          "shape": ""
         },
         "hovertemplate": "Disease Classes=Inflammatory skin and bowel disease<br>Publication Year=%{x}<br>Citation Count=%{y}<extra></extra>",
         "legendgroup": "Inflammatory skin and bowel disease",
         "line": {
          "color": "#B6E880"
         },
         "marker": {
          "symbol": "circle"
         },
         "mode": "lines",
         "name": "Inflammatory skin and bowel disease",
         "orientation": "v",
         "showlegend": true,
         "stackgroup": "1",
         "type": "scatter",
         "x": [
          1989,
          1991,
          1992,
          1993,
          1994,
          1995,
          1996,
          1997,
          1998,
          1999,
          2000,
          2001,
          2002,
          2003,
          2004,
          2005,
          2006,
          2007,
          2008,
          2009,
          2010,
          2011,
          2012,
          2013,
          2014,
          2015,
          2016,
          2017,
          2018,
          2019,
          2020,
          2021,
          2022
         ],
         "xaxis": "x",
         "y": [
          652,
          305,
          85,
          78,
          776,
          500,
          1002,
          1012,
          690,
          926,
          1772,
          1428,
          1677,
          1983,
          1875,
          3979,
          2450,
          2768,
          6320,
          3006,
          2619,
          6144,
          2426,
          1267,
          1972,
          1827,
          2700,
          2674,
          2673,
          2482,
          1641,
          1058,
          47
         ],
         "yaxis": "y"
        },
        {
         "fillpattern": {
          "shape": ""
         },
         "hovertemplate": "Disease Classes=Vitamin D-dependent rickets 3<br>Publication Year=%{x}<br>Citation Count=%{y}<extra></extra>",
         "legendgroup": "Vitamin D-dependent rickets 3",
         "line": {
          "color": "#FF97FF"
         },
         "marker": {
          "symbol": "circle"
         },
         "mode": "lines",
         "name": "Vitamin D-dependent rickets 3",
         "orientation": "v",
         "showlegend": true,
         "stackgroup": "1",
         "type": "scatter",
         "x": [
          1992,
          1993,
          1997,
          1998,
          1999,
          2000,
          2001,
          2002,
          2003,
          2004,
          2005,
          2006,
          2007,
          2008,
          2009,
          2010,
          2011,
          2012,
          2013,
          2014,
          2015,
          2016,
          2017,
          2018,
          2019,
          2020,
          2021,
          2022
         ],
         "xaxis": "x",
         "y": [
          110,
          25,
          72,
          8,
          152,
          86,
          63,
          84,
          491,
          524,
          725,
          818,
          1339,
          3057,
          2985,
          4120,
          5164,
          5363,
          2278,
          3755,
          2999,
          3213,
          4168,
          3634,
          2777,
          2789,
          1786,
          168
         ],
         "yaxis": "y"
        },
        {
         "fillpattern": {
          "shape": ""
         },
         "hovertemplate": "Disease Classes=Obesity<br>Publication Year=%{x}<br>Citation Count=%{y}<extra></extra>",
         "legendgroup": "Obesity",
         "line": {
          "color": "#FECB52"
         },
         "marker": {
          "symbol": "circle"
         },
         "mode": "lines",
         "name": "Obesity",
         "orientation": "v",
         "showlegend": true,
         "stackgroup": "1",
         "type": "scatter",
         "x": [
          1993,
          1994,
          1995,
          1996,
          1997,
          1998,
          1999,
          2000,
          2001,
          2002,
          2003,
          2004,
          2005,
          2006,
          2007,
          2008,
          2009,
          2010,
          2011,
          2012,
          2013,
          2014,
          2015,
          2016,
          2017,
          2018,
          2019,
          2020,
          2021,
          2022
         ],
         "xaxis": "x",
         "y": [
          258,
          205,
          304,
          483,
          472,
          629,
          596,
          2052,
          862,
          979,
          1755,
          1541,
          3158,
          1903,
          2869,
          7657,
          2519,
          2921,
          4790,
          2714,
          1717,
          1979,
          5009,
          2642,
          1620,
          1697,
          2036,
          1526,
          570,
          93
         ],
         "yaxis": "y"
        }
       ],
       "layout": {
        "legend": {
         "title": {
          "text": "Disease Classes"
         },
         "tracegroupgap": 0
        },
        "paper_bgcolor": "rgb(34, 37, 41)",
        "plot_bgcolor": "rgb(34, 37, 41)",
        "template": {
         "data": {
          "bar": [
           {
            "error_x": {
             "color": "#f2f5fa"
            },
            "error_y": {
             "color": "#f2f5fa"
            },
            "marker": {
             "line": {
              "color": "rgb(17,17,17)",
              "width": 0.5
             },
             "pattern": {
              "fillmode": "overlay",
              "size": 10,
              "solidity": 0.2
             }
            },
            "type": "bar"
           }
          ],
          "barpolar": [
           {
            "marker": {
             "line": {
              "color": "rgb(17,17,17)",
              "width": 0.5
             },
             "pattern": {
              "fillmode": "overlay",
              "size": 10,
              "solidity": 0.2
             }
            },
            "type": "barpolar"
           }
          ],
          "carpet": [
           {
            "aaxis": {
             "endlinecolor": "#A2B1C6",
             "gridcolor": "#506784",
             "linecolor": "#506784",
             "minorgridcolor": "#506784",
             "startlinecolor": "#A2B1C6"
            },
            "baxis": {
             "endlinecolor": "#A2B1C6",
             "gridcolor": "#506784",
             "linecolor": "#506784",
             "minorgridcolor": "#506784",
             "startlinecolor": "#A2B1C6"
            },
            "type": "carpet"
           }
          ],
          "choropleth": [
           {
            "colorbar": {
             "outlinewidth": 0,
             "ticks": ""
            },
            "type": "choropleth"
           }
          ],
          "contour": [
           {
            "colorbar": {
             "outlinewidth": 0,
             "ticks": ""
            },
            "colorscale": [
             [
              0,
              "#0d0887"
             ],
             [
              0.1111111111111111,
              "#46039f"
             ],
             [
              0.2222222222222222,
              "#7201a8"
             ],
             [
              0.3333333333333333,
              "#9c179e"
             ],
             [
              0.4444444444444444,
              "#bd3786"
             ],
             [
              0.5555555555555556,
              "#d8576b"
             ],
             [
              0.6666666666666666,
              "#ed7953"
             ],
             [
              0.7777777777777778,
              "#fb9f3a"
             ],
             [
              0.8888888888888888,
              "#fdca26"
             ],
             [
              1,
              "#f0f921"
             ]
            ],
            "type": "contour"
           }
          ],
          "contourcarpet": [
           {
            "colorbar": {
             "outlinewidth": 0,
             "ticks": ""
            },
            "type": "contourcarpet"
           }
          ],
          "heatmap": [
           {
            "colorbar": {
             "outlinewidth": 0,
             "ticks": ""
            },
            "colorscale": [
             [
              0,
              "#0d0887"
             ],
             [
              0.1111111111111111,
              "#46039f"
             ],
             [
              0.2222222222222222,
              "#7201a8"
             ],
             [
              0.3333333333333333,
              "#9c179e"
             ],
             [
              0.4444444444444444,
              "#bd3786"
             ],
             [
              0.5555555555555556,
              "#d8576b"
             ],
             [
              0.6666666666666666,
              "#ed7953"
             ],
             [
              0.7777777777777778,
              "#fb9f3a"
             ],
             [
              0.8888888888888888,
              "#fdca26"
             ],
             [
              1,
              "#f0f921"
             ]
            ],
            "type": "heatmap"
           }
          ],
          "heatmapgl": [
           {
            "colorbar": {
             "outlinewidth": 0,
             "ticks": ""
            },
            "colorscale": [
             [
              0,
              "#0d0887"
             ],
             [
              0.1111111111111111,
              "#46039f"
             ],
             [
              0.2222222222222222,
              "#7201a8"
             ],
             [
              0.3333333333333333,
              "#9c179e"
             ],
             [
              0.4444444444444444,
              "#bd3786"
             ],
             [
              0.5555555555555556,
              "#d8576b"
             ],
             [
              0.6666666666666666,
              "#ed7953"
             ],
             [
              0.7777777777777778,
              "#fb9f3a"
             ],
             [
              0.8888888888888888,
              "#fdca26"
             ],
             [
              1,
              "#f0f921"
             ]
            ],
            "type": "heatmapgl"
           }
          ],
          "histogram": [
           {
            "marker": {
             "pattern": {
              "fillmode": "overlay",
              "size": 10,
              "solidity": 0.2
             }
            },
            "type": "histogram"
           }
          ],
          "histogram2d": [
           {
            "colorbar": {
             "outlinewidth": 0,
             "ticks": ""
            },
            "colorscale": [
             [
              0,
              "#0d0887"
             ],
             [
              0.1111111111111111,
              "#46039f"
             ],
             [
              0.2222222222222222,
              "#7201a8"
             ],
             [
              0.3333333333333333,
              "#9c179e"
             ],
             [
              0.4444444444444444,
              "#bd3786"
             ],
             [
              0.5555555555555556,
              "#d8576b"
             ],
             [
              0.6666666666666666,
              "#ed7953"
             ],
             [
              0.7777777777777778,
              "#fb9f3a"
             ],
             [
              0.8888888888888888,
              "#fdca26"
             ],
             [
              1,
              "#f0f921"
             ]
            ],
            "type": "histogram2d"
           }
          ],
          "histogram2dcontour": [
           {
            "colorbar": {
             "outlinewidth": 0,
             "ticks": ""
            },
            "colorscale": [
             [
              0,
              "#0d0887"
             ],
             [
              0.1111111111111111,
              "#46039f"
             ],
             [
              0.2222222222222222,
              "#7201a8"
             ],
             [
              0.3333333333333333,
              "#9c179e"
             ],
             [
              0.4444444444444444,
              "#bd3786"
             ],
             [
              0.5555555555555556,
              "#d8576b"
             ],
             [
              0.6666666666666666,
              "#ed7953"
             ],
             [
              0.7777777777777778,
              "#fb9f3a"
             ],
             [
              0.8888888888888888,
              "#fdca26"
             ],
             [
              1,
              "#f0f921"
             ]
            ],
            "type": "histogram2dcontour"
           }
          ],
          "mesh3d": [
           {
            "colorbar": {
             "outlinewidth": 0,
             "ticks": ""
            },
            "type": "mesh3d"
           }
          ],
          "parcoords": [
           {
            "line": {
             "colorbar": {
              "outlinewidth": 0,
              "ticks": ""
             }
            },
            "type": "parcoords"
           }
          ],
          "pie": [
           {
            "automargin": true,
            "type": "pie"
           }
          ],
          "scatter": [
           {
            "marker": {
             "line": {
              "color": "#283442"
             }
            },
            "type": "scatter"
           }
          ],
          "scatter3d": [
           {
            "line": {
             "colorbar": {
              "outlinewidth": 0,
              "ticks": ""
             }
            },
            "marker": {
             "colorbar": {
              "outlinewidth": 0,
              "ticks": ""
             }
            },
            "type": "scatter3d"
           }
          ],
          "scattercarpet": [
           {
            "marker": {
             "colorbar": {
              "outlinewidth": 0,
              "ticks": ""
             }
            },
            "type": "scattercarpet"
           }
          ],
          "scattergeo": [
           {
            "marker": {
             "colorbar": {
              "outlinewidth": 0,
              "ticks": ""
             }
            },
            "type": "scattergeo"
           }
          ],
          "scattergl": [
           {
            "marker": {
             "line": {
              "color": "#283442"
             }
            },
            "type": "scattergl"
           }
          ],
          "scattermapbox": [
           {
            "marker": {
             "colorbar": {
              "outlinewidth": 0,
              "ticks": ""
             }
            },
            "type": "scattermapbox"
           }
          ],
          "scatterpolar": [
           {
            "marker": {
             "colorbar": {
              "outlinewidth": 0,
              "ticks": ""
             }
            },
            "type": "scatterpolar"
           }
          ],
          "scatterpolargl": [
           {
            "marker": {
             "colorbar": {
              "outlinewidth": 0,
              "ticks": ""
             }
            },
            "type": "scatterpolargl"
           }
          ],
          "scatterternary": [
           {
            "marker": {
             "colorbar": {
              "outlinewidth": 0,
              "ticks": ""
             }
            },
            "type": "scatterternary"
           }
          ],
          "surface": [
           {
            "colorbar": {
             "outlinewidth": 0,
             "ticks": ""
            },
            "colorscale": [
             [
              0,
              "#0d0887"
             ],
             [
              0.1111111111111111,
              "#46039f"
             ],
             [
              0.2222222222222222,
              "#7201a8"
             ],
             [
              0.3333333333333333,
              "#9c179e"
             ],
             [
              0.4444444444444444,
              "#bd3786"
             ],
             [
              0.5555555555555556,
              "#d8576b"
             ],
             [
              0.6666666666666666,
              "#ed7953"
             ],
             [
              0.7777777777777778,
              "#fb9f3a"
             ],
             [
              0.8888888888888888,
              "#fdca26"
             ],
             [
              1,
              "#f0f921"
             ]
            ],
            "type": "surface"
           }
          ],
          "table": [
           {
            "cells": {
             "fill": {
              "color": "#506784"
             },
             "line": {
              "color": "rgb(17,17,17)"
             }
            },
            "header": {
             "fill": {
              "color": "#2a3f5f"
             },
             "line": {
              "color": "rgb(17,17,17)"
             }
            },
            "type": "table"
           }
          ]
         },
         "layout": {
          "annotationdefaults": {
           "arrowcolor": "#f2f5fa",
           "arrowhead": 0,
           "arrowwidth": 1
          },
          "autotypenumbers": "strict",
          "coloraxis": {
           "colorbar": {
            "outlinewidth": 0,
            "ticks": ""
           }
          },
          "colorscale": {
           "diverging": [
            [
             0,
             "#8e0152"
            ],
            [
             0.1,
             "#c51b7d"
            ],
            [
             0.2,
             "#de77ae"
            ],
            [
             0.3,
             "#f1b6da"
            ],
            [
             0.4,
             "#fde0ef"
            ],
            [
             0.5,
             "#f7f7f7"
            ],
            [
             0.6,
             "#e6f5d0"
            ],
            [
             0.7,
             "#b8e186"
            ],
            [
             0.8,
             "#7fbc41"
            ],
            [
             0.9,
             "#4d9221"
            ],
            [
             1,
             "#276419"
            ]
           ],
           "sequential": [
            [
             0,
             "#0d0887"
            ],
            [
             0.1111111111111111,
             "#46039f"
            ],
            [
             0.2222222222222222,
             "#7201a8"
            ],
            [
             0.3333333333333333,
             "#9c179e"
            ],
            [
             0.4444444444444444,
             "#bd3786"
            ],
            [
             0.5555555555555556,
             "#d8576b"
            ],
            [
             0.6666666666666666,
             "#ed7953"
            ],
            [
             0.7777777777777778,
             "#fb9f3a"
            ],
            [
             0.8888888888888888,
             "#fdca26"
            ],
            [
             1,
             "#f0f921"
            ]
           ],
           "sequentialminus": [
            [
             0,
             "#0d0887"
            ],
            [
             0.1111111111111111,
             "#46039f"
            ],
            [
             0.2222222222222222,
             "#7201a8"
            ],
            [
             0.3333333333333333,
             "#9c179e"
            ],
            [
             0.4444444444444444,
             "#bd3786"
            ],
            [
             0.5555555555555556,
             "#d8576b"
            ],
            [
             0.6666666666666666,
             "#ed7953"
            ],
            [
             0.7777777777777778,
             "#fb9f3a"
            ],
            [
             0.8888888888888888,
             "#fdca26"
            ],
            [
             1,
             "#f0f921"
            ]
           ]
          },
          "colorway": [
           "#636efa",
           "#EF553B",
           "#00cc96",
           "#ab63fa",
           "#FFA15A",
           "#19d3f3",
           "#FF6692",
           "#B6E880",
           "#FF97FF",
           "#FECB52"
          ],
          "font": {
           "color": "#f2f5fa"
          },
          "geo": {
           "bgcolor": "rgb(17,17,17)",
           "lakecolor": "rgb(17,17,17)",
           "landcolor": "rgb(17,17,17)",
           "showlakes": true,
           "showland": true,
           "subunitcolor": "#506784"
          },
          "hoverlabel": {
           "align": "left"
          },
          "hovermode": "closest",
          "mapbox": {
           "style": "dark"
          },
          "paper_bgcolor": "rgb(17,17,17)",
          "plot_bgcolor": "rgb(17,17,17)",
          "polar": {
           "angularaxis": {
            "gridcolor": "#506784",
            "linecolor": "#506784",
            "ticks": ""
           },
           "bgcolor": "rgb(17,17,17)",
           "radialaxis": {
            "gridcolor": "#506784",
            "linecolor": "#506784",
            "ticks": ""
           }
          },
          "scene": {
           "xaxis": {
            "backgroundcolor": "rgb(17,17,17)",
            "gridcolor": "#506784",
            "gridwidth": 2,
            "linecolor": "#506784",
            "showbackground": true,
            "ticks": "",
            "zerolinecolor": "#C8D4E3"
           },
           "yaxis": {
            "backgroundcolor": "rgb(17,17,17)",
            "gridcolor": "#506784",
            "gridwidth": 2,
            "linecolor": "#506784",
            "showbackground": true,
            "ticks": "",
            "zerolinecolor": "#C8D4E3"
           },
           "zaxis": {
            "backgroundcolor": "rgb(17,17,17)",
            "gridcolor": "#506784",
            "gridwidth": 2,
            "linecolor": "#506784",
            "showbackground": true,
            "ticks": "",
            "zerolinecolor": "#C8D4E3"
           }
          },
          "shapedefaults": {
           "line": {
            "color": "#f2f5fa"
           }
          },
          "sliderdefaults": {
           "bgcolor": "#C8D4E3",
           "bordercolor": "rgb(17,17,17)",
           "borderwidth": 1,
           "tickwidth": 0
          },
          "ternary": {
           "aaxis": {
            "gridcolor": "#506784",
            "linecolor": "#506784",
            "ticks": ""
           },
           "baxis": {
            "gridcolor": "#506784",
            "linecolor": "#506784",
            "ticks": ""
           },
           "bgcolor": "rgb(17,17,17)",
           "caxis": {
            "gridcolor": "#506784",
            "linecolor": "#506784",
            "ticks": ""
           }
          },
          "title": {
           "x": 0.05
          },
          "updatemenudefaults": {
           "bgcolor": "#506784",
           "borderwidth": 0
          },
          "xaxis": {
           "automargin": true,
           "gridcolor": "#283442",
           "linecolor": "#506784",
           "ticks": "",
           "title": {
            "standoff": 15
           },
           "zerolinecolor": "#283442",
           "zerolinewidth": 2
          },
          "yaxis": {
           "automargin": true,
           "gridcolor": "#283442",
           "linecolor": "#506784",
           "ticks": "",
           "title": {
            "standoff": 15
           },
           "zerolinecolor": "#283442",
           "zerolinewidth": 2
          }
         }
        },
        "title": {
         "text": "Citations Over Time by Disease Class",
         "x": 0.5
        },
        "xaxis": {
         "anchor": "y",
         "domain": [
          0,
          1
         ],
         "title": {
          "text": "Publication Year"
         }
        },
        "yaxis": {
         "anchor": "x",
         "domain": [
          0,
          1
         ],
         "title": {
          "text": "Citation Count"
         }
        }
       }
      }
     },
     "metadata": {},
     "output_type": "display_data"
    }
   ],
   "source": [
    "disease_years_df = timeseries_citations_diseases(citations_dict, disease_dois)\n",
    "diseases_top_10 = disease_years_df.head(10)\n",
    "disease_years_expanded = []\n",
    "for _, row in diseases_top_10.iterrows():\n",
    "    disease_class = row[\"Disease Classes\"]\n",
    "    years = row[\"Publication Years\"]\n",
    "    citations = row[\"Citations\"]\n",
    "    for year, citation in zip(years, citations):\n",
    "        disease_years_expanded.append(\n",
    "            {\"Year\": year, \"Disease Classes\": disease_class, \"Citations\": citation}\n",
    "        )\n",
    "expanded_df = pd.DataFrame(disease_years_expanded)\n",
    "aggregated_df = expanded_df.groupby([\"Year\", \"Disease Classes\"], as_index=False)[\n",
    "    \"Citations\"\n",
    "].sum()\n",
    "fig = px.area(\n",
    "    aggregated_df,\n",
    "    x=\"Year\",\n",
    "    y=\"Citations\",\n",
    "    color=\"Disease Classes\",\n",
    "    line_group=\"Disease Classes\",\n",
    "    title=\"Citations Over Time by Disease Class\",\n",
    "    labels={\"Year\": \"Publication Year\", \"Citations\": \"Citation Count\"},\n",
    ")\n",
    "fig.update_layout(title_x=0.5, plot_bgcolor=\"rgb(34, 37, 41)\", paper_bgcolor=\"rgb(34, 37, 41)\",\n",
    "    template=\"plotly_dark\")\n",
    "fig.show()"
   ]
  },
  {
   "cell_type": "code",
   "execution_count": 23,
   "metadata": {},
   "outputs": [],
   "source": [
    "# custom_style = \"\"\"\n",
    "# <style>\n",
    "#   body, html {\n",
    "#     background-color: rgb(34, 37, 41);\n",
    "#   }\n",
    "# </style>\n",
    "# \"\"\"\n",
    "\n",
    "# # Save the HTML file and inject the custom style\n",
    "# html_content = fig.to_html(full_html=True, include_plotlyjs=\"cdn\")\n",
    "# # Insert the style in the <head>\n",
    "# html_content = html_content.replace(\"</head>\", f\"{custom_style}</head>\")\n",
    "\n",
    "# # Write to a file\n",
    "# with open(\"Timeseries_Citations_Diseases.html\", \"w\") as f:\n",
    "#     f.write(html_content)\n",
    "\n",
    "# fig.write_image(\"Timeseries_Citations_Diseases.svg\")"
   ]
  }
 ],
 "metadata": {
  "kernelspec": {
   "display_name": "ada",
   "language": "python",
   "name": "python3"
  },
  "language_info": {
   "codemirror_mode": {
    "name": "ipython",
    "version": 3
   },
   "file_extension": ".py",
   "mimetype": "text/x-python",
   "name": "python",
   "nbconvert_exporter": "python",
   "pygments_lexer": "ipython3",
   "version": "3.11.9"
  }
 },
 "nbformat": 4,
 "nbformat_minor": 2
}
