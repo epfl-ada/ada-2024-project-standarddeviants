{
 "cells": [
  {
   "cell_type": "code",
   "execution_count": 4,
   "metadata": {},
   "outputs": [
    {
     "name": "stdout",
     "output_type": "stream",
     "text": [
      "Collecting llama-cpp-python\n",
      "  Downloading llama_cpp_python-0.3.1.tar.gz (63.9 MB)\n",
      "\u001b[2K     \u001b[90m━━━━━━━━━━━━━━━━━━━━━━━━━━━━━━━━━━━━━━━━\u001b[0m \u001b[32m63.9/63.9 MB\u001b[0m \u001b[31m8.1 MB/s\u001b[0m eta \u001b[36m0:00:00\u001b[0m00:01\u001b[0m00:01\u001b[0m\n",
      "\u001b[?25h  Installing build dependencies ... \u001b[?25ldone\n",
      "\u001b[?25h  Getting requirements to build wheel ... \u001b[?25ldone\n",
      "\u001b[?25h  Installing backend dependencies ... \u001b[?25ldone\n",
      "\u001b[?25h  Preparing metadata (pyproject.toml) ... \u001b[?25ldone\n",
      "\u001b[?25hRequirement already satisfied: typing-extensions>=4.5.0 in /Users/wesleymonteith/miniconda3/envs/ada/lib/python3.11/site-packages (from llama-cpp-python) (4.11.0)\n",
      "Requirement already satisfied: numpy>=1.20.0 in /Users/wesleymonteith/miniconda3/envs/ada/lib/python3.11/site-packages (from llama-cpp-python) (1.26.4)\n",
      "Collecting diskcache>=5.6.1 (from llama-cpp-python)\n",
      "  Downloading diskcache-5.6.3-py3-none-any.whl.metadata (20 kB)\n",
      "Requirement already satisfied: jinja2>=2.11.3 in /Users/wesleymonteith/miniconda3/envs/ada/lib/python3.11/site-packages (from llama-cpp-python) (3.1.4)\n",
      "Requirement already satisfied: MarkupSafe>=2.0 in /Users/wesleymonteith/miniconda3/envs/ada/lib/python3.11/site-packages (from jinja2>=2.11.3->llama-cpp-python) (2.1.5)\n",
      "Downloading diskcache-5.6.3-py3-none-any.whl (45 kB)\n",
      "Building wheels for collected packages: llama-cpp-python\n",
      "  Building wheel for llama-cpp-python (pyproject.toml) ... \u001b[?25ldone\n",
      "\u001b[?25h  Created wheel for llama-cpp-python: filename=llama_cpp_python-0.3.1-cp311-cp311-macosx_10_16_x86_64.whl size=3460815 sha256=025bea26fb9aed5a5db44606c20bdd5a3c1cd8499ef6c056d0afd8ddb9b08bbc\n",
      "  Stored in directory: /Users/wesleymonteith/Library/Caches/pip/wheels/9e/f5/ed/f0e7b604d4e0033977cd17041639770660cf65ca23b16de271\n",
      "Successfully built llama-cpp-python\n",
      "Installing collected packages: diskcache, llama-cpp-python\n",
      "Successfully installed diskcache-5.6.3 llama-cpp-python-0.3.1\n"
     ]
    }
   ],
   "source": [
    "! pip install llama-cpp-python huggingface-hub"
   ]
  },
  {
   "cell_type": "code",
   "execution_count": null,
   "metadata": {},
   "outputs": [],
   "source": [
    "from huggingface_hub import hf_hub_download\n",
    "\n",
    "# repo_id = \"microsoft/Phi-3-mini-4k-instruct-gguf\"\n",
    "# filename = \"Phi-3-mini-4k-instruct-q4.gguf\"\n",
    "\n",
    "# repo_id = \"TheBloke/phi-2-GGUF\"\n",
    "# filename = \"phi-2.Q4_0.gguf\"\n",
    "\n",
    "\n",
    "# repo_id = \"TheBloke/Llama-2-7B-Chat-GGUF\"\n",
    "# filename = \"llama-2-7b-chat.Q4_0.gguf\"\n",
    "\n",
    "\n",
    "# # repo_id = \"TheBloke/TinyLlama-1.1B-Chat-v1.0-GGUF\"\n",
    "# # filename = \"tinyllama-1.1b-chat-v1.0.Q8_0.gguf\"\n",
    "\n",
    "\n",
    "# # repo_id = \"TheBloke/Llama-2-7B-32K-Instruct-GGUF\"\n",
    "# # filename = \"llama-2-7b-32k-instruct.Q4_0.gguf\"\n",
    "\n",
    "# repo_id = \"TheBloke/CapybaraHermes-2.5-Mistral-7B-GGUF\"\n",
    "# filename = \"capybarahermes-2.5-mistral-7b.Q4_0.gguf\"\n",
    "\n",
    "\n",
    "repo_id = \"lmstudio-community/Meta-Llama-3.1-8B-Instruct-GGUF\"\n",
    "filename = \"Meta-Llama-3.1-8B-Instruct-Q3_K_L.gguf\"\n",
    "\n",
    "\n",
    "downloaded_file = hf_hub_download(repo_id=repo_id, filename=filename)"
   ]
  },
  {
   "cell_type": "code",
   "execution_count": null,
   "metadata": {},
   "outputs": [],
   "source": [
    "from llama_cpp import Llama\n",
    "\n",
    "llm = Llama(\n",
    "    model_path=downloaded_file,\n",
    "    # n_gpu_layers=-1, # Uncomment to use GPU acceleration\n",
    "    # seed=1337, # Uncomment to set a specific seed\n",
    "    # n_ctx=2048, # Uncomment to increase the context window\n",
    ")\n",
    "output = llm(\n",
    "    \"Q: Name the planets in the solar system? A: \",  # Prompt\n",
    "    max_tokens=32,  # Generate up to 32 tokens, set to None to generate up to the end of the context window\n",
    "    stop=[\n",
    "        \"Q:\",\n",
    "        \"\\n\",\n",
    "    ],  # Stop generating just before the model would generate a new question\n",
    "    echo=True,  # Echo the prompt back in the output\n",
    ")  # Generate a completion, can also call create_completion\n",
    "print(output)"
   ]
  }
 ],
 "metadata": {
  "kernelspec": {
   "display_name": "ada",
   "language": "python",
   "name": "python3"
  },
  "language_info": {
   "codemirror_mode": {
    "name": "ipython",
    "version": 3
   },
   "file_extension": ".py",
   "mimetype": "text/x-python",
   "name": "python",
   "nbconvert_exporter": "python",
   "pygments_lexer": "ipython3",
   "version": "3.11.9"
  }
 },
 "nbformat": 4,
 "nbformat_minor": 2
}
