{
 "cells": [
  {
   "cell_type": "code",
   "execution_count": 1,
   "metadata": {},
   "outputs": [],
   "source": [
    "# IMPORTS\n",
    "# base\n",
    "import pandas as pd\n",
    "import numpy as np\n",
    "import json\n",
    "\n",
    "# plots\n",
    "import seaborn as sns\n",
    "from matplotlib import pyplot as plt\n",
    "import plotly.express as px\n",
    "\n",
    "# importing from scripts\n",
    "from src.scripts import targets\n",
    "\n",
    "import warnings\n",
    "\n",
    "warnings.filterwarnings(\"ignore\")"
   ]
  },
  {
   "cell_type": "code",
   "execution_count": 2,
   "metadata": {},
   "outputs": [],
   "source": [
    "BINDING_DATASET = \"../data/BindingDB_All.tsv\""
   ]
  },
  {
   "cell_type": "code",
   "execution_count": 3,
   "metadata": {},
   "outputs": [],
   "source": [
    "usecols = [\n",
    "    \"BindingDB Reactant_set_id\",\n",
    "    # \"Ligand SMILES\",\n",
    "    # \"Ligand InChI\",\n",
    "    # \"Ligand InChI Key\",\n",
    "    # \"BindingDB MonomerID\",\n",
    "    # \"BindingDB Ligand Name\",\n",
    "    # \"Target Name\",\n",
    "    \"Target Source Organism According to Curator or DataSource\",\n",
    "    # \"Ki (nM)\",\n",
    "    # \"IC50 (nM)\",\n",
    "    # \"Kd (nM)\",\n",
    "    # \"EC50 (nM)\",\n",
    "    # \"kon (M-1-s-1)\",\n",
    "    # \"koff (s-1)\",\n",
    "    # \"pH\",\n",
    "    # \"Temp (C)\",\n",
    "    # \"Curation/DataSource\",\n",
    "    # \"Article DOI\",\n",
    "    # \"BindingDB Entry DOI\",\n",
    "    # \"PMID\",\n",
    "    # \"PubChem AID\",\n",
    "    \"Patent Number\",\n",
    "    # \"Authors\",\n",
    "    # \"Institution\",\n",
    "    # \"Ligand HET ID in PDB\",\n",
    "    # \"PDB ID(s) for Ligand-Target Complex\",\n",
    "    # \"PubChem CID\",\n",
    "    # \"PubChem SID\",\n",
    "    # \"ChEBI ID of Ligand\",\n",
    "    # \"ChEMBL ID of Ligand\",\n",
    "    # \"DrugBank ID of Ligand\",\n",
    "    # \"IUPHAR_GRAC ID of Ligand\",\n",
    "    # \"KEGG ID of Ligand\",\n",
    "    # \"ZINC ID of Ligand\",\n",
    "    # \"Number of Protein Chains in Target (>1 implies a multichain complex)\",\n",
    "    # \"BindingDB Target Chain Sequence\",\n",
    "    # \"PDB ID(s) of Target Chain\",\n",
    "    \"UniProt (SwissProt) Recommended Name of Target Chain\",\n",
    "    \"UniProt (SwissProt) Entry Name of Target Chain\",\n",
    "    \"UniProt (SwissProt) Primary ID of Target Chain\",\n",
    "    \"UniProt (TrEMBL) Primary ID of Target Chain\",\n",
    "    \"UniProt (TrEMBL) Submitted Name of Target Chain\",\n",
    "]"
   ]
  },
  {
   "cell_type": "code",
   "execution_count": 4,
   "metadata": {},
   "outputs": [],
   "source": [
    "df = pd.read_csv(BINDING_DATASET, sep=\"\\t\", on_bad_lines=\"skip\", usecols=usecols)"
   ]
  },
  {
   "cell_type": "markdown",
   "metadata": {},
   "source": [
    "### Sankey diagram that links target class with disease class:"
   ]
  },
  {
   "cell_type": "code",
   "execution_count": 5,
   "metadata": {},
   "outputs": [],
   "source": [
    "from src.scripts.disease_plotting import (\n",
    "    load_uniprotid_diseases,\n",
    "    quantify_missing_diseases,\n",
    "    add_keywords_when_comments_missing,\n",
    "    sort_diseases,\n",
    ")\n",
    "\n",
    "diseases = load_uniprotid_diseases()\n",
    "ids_missing_diseases, percentage_missing = quantify_missing_diseases(diseases)\n",
    "diseases_df = add_keywords_when_comments_missing(diseases)\n",
    "diseases_df = diseases_df.rename(columns={\"comments_bfill\": \"diseases\"})\n",
    "diseases_df = diseases_df.dropna(subset=\"diseases\").drop(\n",
    "    columns=[\"comments\", \"keywords\"]\n",
    ")\n",
    "diseases_df[\"Disease Classes\"] = diseases_df[\"diseases\"].apply(\n",
    "    lambda l: [sort_diseases(l_i) for l_i in l]\n",
    ")\n",
    "diseases_df = diseases_df[['UniProt (SwissProt) Primary ID of Target Chain', 'Disease Classes']]"
   ]
  },
  {
   "cell_type": "code",
   "execution_count": 6,
   "metadata": {},
   "outputs": [],
   "source": [
    "# remove 'Disease variant' error -> where does it come from?\n",
    "import ast\n",
    "diseases_df['Disease Classes'] = diseases_df['Disease Classes'].apply(lambda x: ast.literal_eval(x) if isinstance(x, str) else x)\n",
    "diseases_df['Disease Classes'] = diseases_df['Disease Classes'].apply(lambda x: [disease for disease in x if disease != \"Disease variant\"] if isinstance(x, list) else x)"
   ]
  },
  {
   "cell_type": "code",
   "execution_count": 7,
   "metadata": {},
   "outputs": [],
   "source": [
    "from src.scripts import targets\n",
    "mapped_names = targets.get_target_class(names_df=df)\n",
    "merged = df.merge(mapped_names, left_index=True, right_index=True)\n",
    "merged= merged[['UniProt (SwissProt) Recommended Name of Target Chain_y', 'UniProt (SwissProt) Primary ID of Target Chain']]"
   ]
  },
  {
   "cell_type": "code",
   "execution_count": 8,
   "metadata": {},
   "outputs": [],
   "source": [
    "diseases_target_df = diseases_df.merge(merged, on='UniProt (SwissProt) Primary ID of Target Chain')\n",
    "diseases_target_df = diseases_target_df.rename(columns={'UniProt (SwissProt) Recommended Name of Target Chain_y': 'Target Classes'})"
   ]
  },
  {
   "cell_type": "code",
   "execution_count": 9,
   "metadata": {},
   "outputs": [],
   "source": [
    "diseases_target_df = diseases_target_df.groupby('Target Classes')['Disease Classes'].apply(lambda x: list(set([disease for sublist in x for disease in sublist]))).reset_index()"
   ]
  },
  {
   "cell_type": "code",
   "execution_count": 10,
   "metadata": {},
   "outputs": [
    {
     "data": {
      "text/html": [
       "<div>\n",
       "<style scoped>\n",
       "    .dataframe tbody tr th:only-of-type {\n",
       "        vertical-align: middle;\n",
       "    }\n",
       "\n",
       "    .dataframe tbody tr th {\n",
       "        vertical-align: top;\n",
       "    }\n",
       "\n",
       "    .dataframe thead th {\n",
       "        text-align: right;\n",
       "    }\n",
       "</style>\n",
       "<table border=\"1\" class=\"dataframe\">\n",
       "  <thead>\n",
       "    <tr style=\"text-align: right;\">\n",
       "      <th></th>\n",
       "      <th>Target Classes</th>\n",
       "      <th>Disease Classes</th>\n",
       "    </tr>\n",
       "  </thead>\n",
       "  <tbody>\n",
       "    <tr>\n",
       "      <th>0</th>\n",
       "      <td>1,25-dihydroxyvitamin D(3) 24-hydroxylase, mit...</td>\n",
       "      <td>[Hypercalcemia, infantile, 1]</td>\n",
       "    </tr>\n",
       "    <tr>\n",
       "      <th>1</th>\n",
       "      <td>1-acyl-sn-glycerol-3-phosphate acyltransferase...</td>\n",
       "      <td>[Lipodystrophy]</td>\n",
       "    </tr>\n",
       "    <tr>\n",
       "      <th>2</th>\n",
       "      <td>11-beta-hydroxysteroid dehydrogenase 1</td>\n",
       "      <td>[Cortisone reductase deficiency 2]</td>\n",
       "    </tr>\n",
       "    <tr>\n",
       "      <th>3</th>\n",
       "      <td>11-beta-hydroxysteroid dehydrogenase type 2</td>\n",
       "      <td>[Apparent mineralocorticoid excess]</td>\n",
       "    </tr>\n",
       "    <tr>\n",
       "      <th>4</th>\n",
       "      <td>14-3-3 protein gamma</td>\n",
       "      <td>[Epilepsy]</td>\n",
       "    </tr>\n",
       "    <tr>\n",
       "      <th>...</th>\n",
       "      <td>...</td>\n",
       "      <td>...</td>\n",
       "    </tr>\n",
       "    <tr>\n",
       "      <th>1139</th>\n",
       "      <td>cGMP-dependent protein kinase 1</td>\n",
       "      <td>[Aortic aneurysm]</td>\n",
       "    </tr>\n",
       "    <tr>\n",
       "      <th>1140</th>\n",
       "      <td>cGMP-dependent protein kinase 2</td>\n",
       "      <td>[Dysplasia]</td>\n",
       "    </tr>\n",
       "    <tr>\n",
       "      <th>1141</th>\n",
       "      <td>eIF-2-alpha kinase GCN2</td>\n",
       "      <td>[Pulmonary venoocclusive disease]</td>\n",
       "    </tr>\n",
       "    <tr>\n",
       "      <th>1142</th>\n",
       "      <td>m7GpppX diphosphatase</td>\n",
       "      <td>[Al-Raqad syndrome]</td>\n",
       "    </tr>\n",
       "    <tr>\n",
       "      <th>1143</th>\n",
       "      <td>von Hippel-Lindau disease tumor suppressor</td>\n",
       "      <td>[Cancer, Erythrocytosis, von Hippel-Lindau dis...</td>\n",
       "    </tr>\n",
       "  </tbody>\n",
       "</table>\n",
       "<p>1144 rows × 2 columns</p>\n",
       "</div>"
      ],
      "text/plain": [
       "                                         Target Classes  \\\n",
       "0     1,25-dihydroxyvitamin D(3) 24-hydroxylase, mit...   \n",
       "1     1-acyl-sn-glycerol-3-phosphate acyltransferase...   \n",
       "2                11-beta-hydroxysteroid dehydrogenase 1   \n",
       "3           11-beta-hydroxysteroid dehydrogenase type 2   \n",
       "4                                  14-3-3 protein gamma   \n",
       "...                                                 ...   \n",
       "1139                    cGMP-dependent protein kinase 1   \n",
       "1140                    cGMP-dependent protein kinase 2   \n",
       "1141                            eIF-2-alpha kinase GCN2   \n",
       "1142                              m7GpppX diphosphatase   \n",
       "1143         von Hippel-Lindau disease tumor suppressor   \n",
       "\n",
       "                                        Disease Classes  \n",
       "0                         [Hypercalcemia, infantile, 1]  \n",
       "1                                       [Lipodystrophy]  \n",
       "2                    [Cortisone reductase deficiency 2]  \n",
       "3                   [Apparent mineralocorticoid excess]  \n",
       "4                                            [Epilepsy]  \n",
       "...                                                 ...  \n",
       "1139                                  [Aortic aneurysm]  \n",
       "1140                                        [Dysplasia]  \n",
       "1141                  [Pulmonary venoocclusive disease]  \n",
       "1142                                [Al-Raqad syndrome]  \n",
       "1143  [Cancer, Erythrocytosis, von Hippel-Lindau dis...  \n",
       "\n",
       "[1144 rows x 2 columns]"
      ]
     },
     "execution_count": 10,
     "metadata": {},
     "output_type": "execute_result"
    }
   ],
   "source": [
    "diseases_target_df"
   ]
  },
  {
   "cell_type": "code",
   "execution_count": 11,
   "metadata": {},
   "outputs": [],
   "source": [
    "temp = mapped_names.value_counts().reset_index()\n",
    "top_classes = temp.iloc[:10].sort_values(\"count\", ascending=False)\n",
    "diseases_target_df = diseases_target_df.merge(top_classes, left_on='Target Classes', right_on='UniProt (SwissProt) Recommended Name of Target Chain')\n",
    "diseases_target_top10 = diseases_target_df.sort_values(by='count', ascending=False).head(10)\n",
    "diseases_target_top10 = diseases_target_top10.drop(['UniProt (SwissProt) Recommended Name of Target Chain'], axis=1)\n",
    "diseases_target_top10 = diseases_target_top10.drop(['count'], axis=1)"
   ]
  },
  {
   "cell_type": "code",
   "execution_count": 12,
   "metadata": {},
   "outputs": [
    {
     "data": {
      "text/html": [
       "<div>\n",
       "<style scoped>\n",
       "    .dataframe tbody tr th:only-of-type {\n",
       "        vertical-align: middle;\n",
       "    }\n",
       "\n",
       "    .dataframe tbody tr th {\n",
       "        vertical-align: top;\n",
       "    }\n",
       "\n",
       "    .dataframe thead th {\n",
       "        text-align: right;\n",
       "    }\n",
       "</style>\n",
       "<table border=\"1\" class=\"dataframe\">\n",
       "  <thead>\n",
       "    <tr style=\"text-align: right;\">\n",
       "      <th></th>\n",
       "      <th>Target Classes</th>\n",
       "      <th>Disease Classes</th>\n",
       "    </tr>\n",
       "  </thead>\n",
       "  <tbody>\n",
       "    <tr>\n",
       "      <th>4</th>\n",
       "      <td>Neurotransmitter receptor</td>\n",
       "      <td>[Obesity, Epilepsy, Neurodevelopmental disorde...</td>\n",
       "    </tr>\n",
       "    <tr>\n",
       "      <th>6</th>\n",
       "      <td>Non Receptor Tyr Kinase</td>\n",
       "      <td>[Polycythemia vera, Myelofibrosis, Autoinflamm...</td>\n",
       "    </tr>\n",
       "    <tr>\n",
       "      <th>7</th>\n",
       "      <td>Other Protein Kinase</td>\n",
       "      <td>[Epilepsy, Cardiomyopathy, Melorheostosis, iso...</td>\n",
       "    </tr>\n",
       "    <tr>\n",
       "      <th>0</th>\n",
       "      <td>Growth Factor Receptor</td>\n",
       "      <td>[Hypochondroplasia, Lymphatic malformation 1, ...</td>\n",
       "    </tr>\n",
       "    <tr>\n",
       "      <th>2</th>\n",
       "      <td>Hormone Receptor</td>\n",
       "      <td>[Diabetes, Glucocorticoid resistance, generali...</td>\n",
       "    </tr>\n",
       "    <tr>\n",
       "      <th>3</th>\n",
       "      <td>Ion Channel</td>\n",
       "      <td>[Pulmonary hypertension, primary, 4, Dehydrate...</td>\n",
       "    </tr>\n",
       "    <tr>\n",
       "      <th>1</th>\n",
       "      <td>Histone Modifier</td>\n",
       "      <td>[Neurodevelopmental disorder, Dysplasia, Cance...</td>\n",
       "    </tr>\n",
       "    <tr>\n",
       "      <th>9</th>\n",
       "      <td>Purine Receptor</td>\n",
       "      <td>[Deafness, Bleeding disorder]</td>\n",
       "    </tr>\n",
       "    <tr>\n",
       "      <th>8</th>\n",
       "      <td>Phosphatidylinositol Kinase</td>\n",
       "      <td>[Megalencephaly-capillary malformation-polymic...</td>\n",
       "    </tr>\n",
       "    <tr>\n",
       "      <th>5</th>\n",
       "      <td>Neurotransmitter transporter</td>\n",
       "      <td>[Neurodegeneration, Butyrylcholinesterase defi...</td>\n",
       "    </tr>\n",
       "  </tbody>\n",
       "</table>\n",
       "</div>"
      ],
      "text/plain": [
       "                 Target Classes  \\\n",
       "4     Neurotransmitter receptor   \n",
       "6       Non Receptor Tyr Kinase   \n",
       "7          Other Protein Kinase   \n",
       "0        Growth Factor Receptor   \n",
       "2              Hormone Receptor   \n",
       "3                   Ion Channel   \n",
       "1              Histone Modifier   \n",
       "9               Purine Receptor   \n",
       "8   Phosphatidylinositol Kinase   \n",
       "5  Neurotransmitter transporter   \n",
       "\n",
       "                                     Disease Classes  \n",
       "4  [Obesity, Epilepsy, Neurodevelopmental disorde...  \n",
       "6  [Polycythemia vera, Myelofibrosis, Autoinflamm...  \n",
       "7  [Epilepsy, Cardiomyopathy, Melorheostosis, iso...  \n",
       "0  [Hypochondroplasia, Lymphatic malformation 1, ...  \n",
       "2  [Diabetes, Glucocorticoid resistance, generali...  \n",
       "3  [Pulmonary hypertension, primary, 4, Dehydrate...  \n",
       "1  [Neurodevelopmental disorder, Dysplasia, Cance...  \n",
       "9                      [Deafness, Bleeding disorder]  \n",
       "8  [Megalencephaly-capillary malformation-polymic...  \n",
       "5  [Neurodegeneration, Butyrylcholinesterase defi...  "
      ]
     },
     "execution_count": 12,
     "metadata": {},
     "output_type": "execute_result"
    }
   ],
   "source": [
    "diseases_target_top10"
   ]
  },
  {
   "cell_type": "code",
   "execution_count": 13,
   "metadata": {},
   "outputs": [
    {
     "data": {
      "text/html": [
       "<div>\n",
       "<style scoped>\n",
       "    .dataframe tbody tr th:only-of-type {\n",
       "        vertical-align: middle;\n",
       "    }\n",
       "\n",
       "    .dataframe tbody tr th {\n",
       "        vertical-align: top;\n",
       "    }\n",
       "\n",
       "    .dataframe thead th {\n",
       "        text-align: right;\n",
       "    }\n",
       "</style>\n",
       "<table border=\"1\" class=\"dataframe\">\n",
       "  <thead>\n",
       "    <tr style=\"text-align: right;\">\n",
       "      <th></th>\n",
       "      <th>Target Classes</th>\n",
       "      <th>Disease Classes</th>\n",
       "    </tr>\n",
       "  </thead>\n",
       "  <tbody>\n",
       "    <tr>\n",
       "      <th>4</th>\n",
       "      <td>Neurotransmitter receptor</td>\n",
       "      <td>Obesity</td>\n",
       "    </tr>\n",
       "    <tr>\n",
       "      <th>4</th>\n",
       "      <td>Neurotransmitter receptor</td>\n",
       "      <td>Epilepsy</td>\n",
       "    </tr>\n",
       "    <tr>\n",
       "      <th>4</th>\n",
       "      <td>Neurotransmitter receptor</td>\n",
       "      <td>Neurodevelopmental disorder</td>\n",
       "    </tr>\n",
       "    <tr>\n",
       "      <th>4</th>\n",
       "      <td>Neurotransmitter receptor</td>\n",
       "      <td>Schizophrenia</td>\n",
       "    </tr>\n",
       "    <tr>\n",
       "      <th>4</th>\n",
       "      <td>Neurotransmitter receptor</td>\n",
       "      <td>Blindness</td>\n",
       "    </tr>\n",
       "    <tr>\n",
       "      <th>...</th>\n",
       "      <td>...</td>\n",
       "      <td>...</td>\n",
       "    </tr>\n",
       "    <tr>\n",
       "      <th>8</th>\n",
       "      <td>Phosphatidylinositol Kinase</td>\n",
       "      <td>Cancer</td>\n",
       "    </tr>\n",
       "    <tr>\n",
       "      <th>8</th>\n",
       "      <td>Phosphatidylinositol Kinase</td>\n",
       "      <td>Immunodeficiency</td>\n",
       "    </tr>\n",
       "    <tr>\n",
       "      <th>8</th>\n",
       "      <td>Phosphatidylinositol Kinase</td>\n",
       "      <td>SHORT syndrome</td>\n",
       "    </tr>\n",
       "    <tr>\n",
       "      <th>5</th>\n",
       "      <td>Neurotransmitter transporter</td>\n",
       "      <td>Neurodegeneration</td>\n",
       "    </tr>\n",
       "    <tr>\n",
       "      <th>5</th>\n",
       "      <td>Neurotransmitter transporter</td>\n",
       "      <td>Butyrylcholinesterase deficiency</td>\n",
       "    </tr>\n",
       "  </tbody>\n",
       "</table>\n",
       "<p>221 rows × 2 columns</p>\n",
       "</div>"
      ],
      "text/plain": [
       "                  Target Classes                   Disease Classes\n",
       "4      Neurotransmitter receptor                           Obesity\n",
       "4      Neurotransmitter receptor                          Epilepsy\n",
       "4      Neurotransmitter receptor       Neurodevelopmental disorder\n",
       "4      Neurotransmitter receptor                     Schizophrenia\n",
       "4      Neurotransmitter receptor                         Blindness\n",
       "..                           ...                               ...\n",
       "8    Phosphatidylinositol Kinase                            Cancer\n",
       "8    Phosphatidylinositol Kinase                  Immunodeficiency\n",
       "8    Phosphatidylinositol Kinase                    SHORT syndrome\n",
       "5   Neurotransmitter transporter                 Neurodegeneration\n",
       "5   Neurotransmitter transporter  Butyrylcholinesterase deficiency\n",
       "\n",
       "[221 rows x 2 columns]"
      ]
     },
     "execution_count": 13,
     "metadata": {},
     "output_type": "execute_result"
    }
   ],
   "source": [
    "exploded = diseases_target_top10.explode('Disease Classes')\n",
    "exploded"
   ]
  },
  {
   "cell_type": "code",
   "execution_count": 14,
   "metadata": {},
   "outputs": [
    {
     "data": {
      "text/html": [
       "<div>\n",
       "<style scoped>\n",
       "    .dataframe tbody tr th:only-of-type {\n",
       "        vertical-align: middle;\n",
       "    }\n",
       "\n",
       "    .dataframe tbody tr th {\n",
       "        vertical-align: top;\n",
       "    }\n",
       "\n",
       "    .dataframe thead th {\n",
       "        text-align: right;\n",
       "    }\n",
       "</style>\n",
       "<table border=\"1\" class=\"dataframe\">\n",
       "  <thead>\n",
       "    <tr style=\"text-align: right;\">\n",
       "      <th></th>\n",
       "      <th>Target Classes</th>\n",
       "      <th>Disease Classes</th>\n",
       "      <th>Count</th>\n",
       "    </tr>\n",
       "  </thead>\n",
       "  <tbody>\n",
       "    <tr>\n",
       "      <th>0</th>\n",
       "      <td>Growth Factor Receptor</td>\n",
       "      <td>Achondroplasia</td>\n",
       "      <td>1</td>\n",
       "    </tr>\n",
       "    <tr>\n",
       "      <th>1</th>\n",
       "      <td>Growth Factor Receptor</td>\n",
       "      <td>Antley-Bixler syndrome</td>\n",
       "      <td>1</td>\n",
       "    </tr>\n",
       "    <tr>\n",
       "      <th>2</th>\n",
       "      <td>Growth Factor Receptor</td>\n",
       "      <td>Apert syndrome</td>\n",
       "      <td>1</td>\n",
       "    </tr>\n",
       "    <tr>\n",
       "      <th>3</th>\n",
       "      <td>Growth Factor Receptor</td>\n",
       "      <td>Arthrogryposis</td>\n",
       "      <td>1</td>\n",
       "    </tr>\n",
       "    <tr>\n",
       "      <th>4</th>\n",
       "      <td>Growth Factor Receptor</td>\n",
       "      <td>Beare-Stevenson cutis gyrata syndrome</td>\n",
       "      <td>1</td>\n",
       "    </tr>\n",
       "    <tr>\n",
       "      <th>...</th>\n",
       "      <td>...</td>\n",
       "      <td>...</td>\n",
       "      <td>...</td>\n",
       "    </tr>\n",
       "    <tr>\n",
       "      <th>216</th>\n",
       "      <td>Phosphatidylinositol Kinase</td>\n",
       "      <td>SHORT syndrome</td>\n",
       "      <td>1</td>\n",
       "    </tr>\n",
       "    <tr>\n",
       "      <th>217</th>\n",
       "      <td>Phosphatidylinositol Kinase</td>\n",
       "      <td>Spastic paraplegia 84, autosomal recessive</td>\n",
       "      <td>1</td>\n",
       "    </tr>\n",
       "    <tr>\n",
       "      <th>218</th>\n",
       "      <td>Phosphatidylinositol Kinase</td>\n",
       "      <td>Squamous cell carcinoma of the head and neck</td>\n",
       "      <td>1</td>\n",
       "    </tr>\n",
       "    <tr>\n",
       "      <th>219</th>\n",
       "      <td>Purine Receptor</td>\n",
       "      <td>Bleeding disorder</td>\n",
       "      <td>1</td>\n",
       "    </tr>\n",
       "    <tr>\n",
       "      <th>220</th>\n",
       "      <td>Purine Receptor</td>\n",
       "      <td>Deafness</td>\n",
       "      <td>1</td>\n",
       "    </tr>\n",
       "  </tbody>\n",
       "</table>\n",
       "<p>221 rows × 3 columns</p>\n",
       "</div>"
      ],
      "text/plain": [
       "                  Target Classes  \\\n",
       "0         Growth Factor Receptor   \n",
       "1         Growth Factor Receptor   \n",
       "2         Growth Factor Receptor   \n",
       "3         Growth Factor Receptor   \n",
       "4         Growth Factor Receptor   \n",
       "..                           ...   \n",
       "216  Phosphatidylinositol Kinase   \n",
       "217  Phosphatidylinositol Kinase   \n",
       "218  Phosphatidylinositol Kinase   \n",
       "219              Purine Receptor   \n",
       "220              Purine Receptor   \n",
       "\n",
       "                                  Disease Classes  Count  \n",
       "0                                  Achondroplasia      1  \n",
       "1                          Antley-Bixler syndrome      1  \n",
       "2                                  Apert syndrome      1  \n",
       "3                                  Arthrogryposis      1  \n",
       "4           Beare-Stevenson cutis gyrata syndrome      1  \n",
       "..                                            ...    ...  \n",
       "216                                SHORT syndrome      1  \n",
       "217    Spastic paraplegia 84, autosomal recessive      1  \n",
       "218  Squamous cell carcinoma of the head and neck      1  \n",
       "219                             Bleeding disorder      1  \n",
       "220                                      Deafness      1  \n",
       "\n",
       "[221 rows x 3 columns]"
      ]
     },
     "execution_count": 14,
     "metadata": {},
     "output_type": "execute_result"
    }
   ],
   "source": [
    "to_plot = exploded.groupby(['Target Classes', 'Disease Classes']).size().reset_index(name='Count')\n",
    "to_plot"
   ]
  },
  {
   "cell_type": "code",
   "execution_count": 17,
   "metadata": {},
   "outputs": [
    {
     "data": {
      "application/vnd.plotly.v1+json": {
       "config": {
        "plotlyServerURL": "https://plot.ly"
       },
       "data": [
        {
         "link": {
          "source": [
           0,
           0,
           0,
           0,
           0,
           0,
           0,
           0,
           0,
           0,
           1,
           1,
           1,
           1,
           1,
           1,
           2,
           2,
           2,
           2,
           2,
           2,
           2,
           2,
           2,
           2,
           3,
           3,
           3,
           3,
           3,
           3,
           3,
           3,
           3,
           3,
           4,
           4,
           4,
           4,
           4,
           4,
           4,
           4,
           4,
           4,
           5,
           5,
           6,
           6,
           6,
           6,
           6,
           6,
           6,
           6,
           6,
           6,
           7,
           7,
           7,
           7,
           7,
           7,
           7,
           7,
           7,
           7,
           8,
           8,
           8,
           8,
           8,
           8,
           8,
           8,
           8,
           8,
           9,
           9
          ],
          "target": [
           10,
           11,
           12,
           13,
           14,
           15,
           16,
           17,
           18,
           19,
           20,
           15,
           21,
           22,
           23,
           24,
           25,
           15,
           26,
           19,
           27,
           28,
           29,
           30,
           31,
           32,
           33,
           34,
           35,
           36,
           37,
           38,
           39,
           40,
           41,
           42,
           34,
           43,
           39,
           44,
           45,
           46,
           24,
           47,
           48,
           49,
           50,
           46,
           51,
           52,
           53,
           15,
           54,
           16,
           55,
           56,
           57,
           58,
           59,
           52,
           15,
           54,
           60,
           61,
           27,
           23,
           44,
           55,
           51,
           52,
           39,
           62,
           15,
           63,
           64,
           65,
           19,
           23,
           66,
           19
          ],
          "value": [
           1,
           1,
           1,
           1,
           1,
           1,
           1,
           1,
           1,
           1,
           1,
           1,
           1,
           1,
           1,
           1,
           1,
           1,
           1,
           1,
           1,
           1,
           1,
           1,
           1,
           1,
           1,
           1,
           1,
           1,
           1,
           1,
           1,
           1,
           1,
           1,
           1,
           1,
           1,
           1,
           1,
           1,
           1,
           1,
           1,
           1,
           1,
           1,
           1,
           1,
           1,
           1,
           1,
           1,
           1,
           1,
           1,
           1,
           1,
           1,
           1,
           1,
           1,
           1,
           1,
           1,
           1,
           1,
           1,
           1,
           1,
           1,
           1,
           1,
           1,
           1,
           1,
           1,
           1,
           1
          ]
         },
         "node": {
          "label": [
           "Growth Factor Receptor",
           "Histone Modifier",
           "Hormone Receptor",
           "Ion Channel",
           "Neurotransmitter receptor",
           "Neurotransmitter transporter",
           "Non Receptor Tyr Kinase",
           "Other Protein Kinase",
           "Phosphatidylinositol Kinase",
           "Purine Receptor",
           "Achondroplasia",
           "Antley-Bixler syndrome",
           "Apert syndrome",
           "Arthrogryposis",
           "Beare-Stevenson cutis gyrata syndrome",
           "Cancer",
           "Congenital heart defects",
           "Congenital insensitivity to pain with anhidrosis",
           "Crouzon syndrome",
           "Deafness",
           "Auriculocondylar syndrome",
           "Cleft palate",
           "Cornelia de Lange syndrome",
           "Dysplasia",
           "Neurodevelopmental disorder",
           "Asthma",
           "Cranioosteoarthropathy",
           "Diabetes",
           "Digital clubbing, isolated congenital",
           "Estrogen resistance",
           "Familial male precocious puberty",
           "Glucocorticoid deficiency",
           "Glucocorticoid resistance, generalized",
           "Aaland island eye disease",
           "Ataxia",
           "Atrial fibrillation",
           "Atrial standstill",
           "Bartter syndrome",
           "Birk-Barel syndrome",
           "Blindness",
           "Brachyolmia 3",
           "Bronchiectasis",
           "Brugada syndrome",
           "Benign essential blepharospasm",
           "Epilepsy",
           "Intellectual developmental disorder",
           "Neurodegeneration",
           "Obesity",
           "Periodic fever",
           "Schizophrenia",
           "Butyrylcholinesterase deficiency",
           "Agammaglobulinemia",
           "Autoinflammation",
           "Budd-Chiari syndrome",
           "Cardiofaciocutaneous syndrome",
           "Immunodeficiency",
           "Leopard syndrome",
           "Myelofibrosis",
           "Noonan syndrome",
           "46,XY sex reversal 6",
           "Cardiomyopathy",
           "Cardiospondylocarpofacial syndrome",
           "CLAPO syndrome",
           "Cerebral cavernous malformations 4",
           "Congenital lipomatous overgrowth, vascular malformations, and epidermal nevi",
           "Cowden syndrome",
           "Bleeding disorder"
          ],
          "line": {
           "color": "black",
           "width": 0.5
          },
          "pad": 30,
          "thickness": 20
         },
         "type": "sankey"
        }
       ],
       "layout": {
        "font": {
         "size": 10
        },
        "height": 800,
        "paper_bgcolor": "rgb(34, 37, 41)",
        "plot_bgcolor": "rgb(34, 37, 41)",
        "template": {
         "data": {
          "bar": [
           {
            "error_x": {
             "color": "#f2f5fa"
            },
            "error_y": {
             "color": "#f2f5fa"
            },
            "marker": {
             "line": {
              "color": "rgb(17,17,17)",
              "width": 0.5
             },
             "pattern": {
              "fillmode": "overlay",
              "size": 10,
              "solidity": 0.2
             }
            },
            "type": "bar"
           }
          ],
          "barpolar": [
           {
            "marker": {
             "line": {
              "color": "rgb(17,17,17)",
              "width": 0.5
             },
             "pattern": {
              "fillmode": "overlay",
              "size": 10,
              "solidity": 0.2
             }
            },
            "type": "barpolar"
           }
          ],
          "carpet": [
           {
            "aaxis": {
             "endlinecolor": "#A2B1C6",
             "gridcolor": "#506784",
             "linecolor": "#506784",
             "minorgridcolor": "#506784",
             "startlinecolor": "#A2B1C6"
            },
            "baxis": {
             "endlinecolor": "#A2B1C6",
             "gridcolor": "#506784",
             "linecolor": "#506784",
             "minorgridcolor": "#506784",
             "startlinecolor": "#A2B1C6"
            },
            "type": "carpet"
           }
          ],
          "choropleth": [
           {
            "colorbar": {
             "outlinewidth": 0,
             "ticks": ""
            },
            "type": "choropleth"
           }
          ],
          "contour": [
           {
            "colorbar": {
             "outlinewidth": 0,
             "ticks": ""
            },
            "colorscale": [
             [
              0,
              "#0d0887"
             ],
             [
              0.1111111111111111,
              "#46039f"
             ],
             [
              0.2222222222222222,
              "#7201a8"
             ],
             [
              0.3333333333333333,
              "#9c179e"
             ],
             [
              0.4444444444444444,
              "#bd3786"
             ],
             [
              0.5555555555555556,
              "#d8576b"
             ],
             [
              0.6666666666666666,
              "#ed7953"
             ],
             [
              0.7777777777777778,
              "#fb9f3a"
             ],
             [
              0.8888888888888888,
              "#fdca26"
             ],
             [
              1,
              "#f0f921"
             ]
            ],
            "type": "contour"
           }
          ],
          "contourcarpet": [
           {
            "colorbar": {
             "outlinewidth": 0,
             "ticks": ""
            },
            "type": "contourcarpet"
           }
          ],
          "heatmap": [
           {
            "colorbar": {
             "outlinewidth": 0,
             "ticks": ""
            },
            "colorscale": [
             [
              0,
              "#0d0887"
             ],
             [
              0.1111111111111111,
              "#46039f"
             ],
             [
              0.2222222222222222,
              "#7201a8"
             ],
             [
              0.3333333333333333,
              "#9c179e"
             ],
             [
              0.4444444444444444,
              "#bd3786"
             ],
             [
              0.5555555555555556,
              "#d8576b"
             ],
             [
              0.6666666666666666,
              "#ed7953"
             ],
             [
              0.7777777777777778,
              "#fb9f3a"
             ],
             [
              0.8888888888888888,
              "#fdca26"
             ],
             [
              1,
              "#f0f921"
             ]
            ],
            "type": "heatmap"
           }
          ],
          "heatmapgl": [
           {
            "colorbar": {
             "outlinewidth": 0,
             "ticks": ""
            },
            "colorscale": [
             [
              0,
              "#0d0887"
             ],
             [
              0.1111111111111111,
              "#46039f"
             ],
             [
              0.2222222222222222,
              "#7201a8"
             ],
             [
              0.3333333333333333,
              "#9c179e"
             ],
             [
              0.4444444444444444,
              "#bd3786"
             ],
             [
              0.5555555555555556,
              "#d8576b"
             ],
             [
              0.6666666666666666,
              "#ed7953"
             ],
             [
              0.7777777777777778,
              "#fb9f3a"
             ],
             [
              0.8888888888888888,
              "#fdca26"
             ],
             [
              1,
              "#f0f921"
             ]
            ],
            "type": "heatmapgl"
           }
          ],
          "histogram": [
           {
            "marker": {
             "pattern": {
              "fillmode": "overlay",
              "size": 10,
              "solidity": 0.2
             }
            },
            "type": "histogram"
           }
          ],
          "histogram2d": [
           {
            "colorbar": {
             "outlinewidth": 0,
             "ticks": ""
            },
            "colorscale": [
             [
              0,
              "#0d0887"
             ],
             [
              0.1111111111111111,
              "#46039f"
             ],
             [
              0.2222222222222222,
              "#7201a8"
             ],
             [
              0.3333333333333333,
              "#9c179e"
             ],
             [
              0.4444444444444444,
              "#bd3786"
             ],
             [
              0.5555555555555556,
              "#d8576b"
             ],
             [
              0.6666666666666666,
              "#ed7953"
             ],
             [
              0.7777777777777778,
              "#fb9f3a"
             ],
             [
              0.8888888888888888,
              "#fdca26"
             ],
             [
              1,
              "#f0f921"
             ]
            ],
            "type": "histogram2d"
           }
          ],
          "histogram2dcontour": [
           {
            "colorbar": {
             "outlinewidth": 0,
             "ticks": ""
            },
            "colorscale": [
             [
              0,
              "#0d0887"
             ],
             [
              0.1111111111111111,
              "#46039f"
             ],
             [
              0.2222222222222222,
              "#7201a8"
             ],
             [
              0.3333333333333333,
              "#9c179e"
             ],
             [
              0.4444444444444444,
              "#bd3786"
             ],
             [
              0.5555555555555556,
              "#d8576b"
             ],
             [
              0.6666666666666666,
              "#ed7953"
             ],
             [
              0.7777777777777778,
              "#fb9f3a"
             ],
             [
              0.8888888888888888,
              "#fdca26"
             ],
             [
              1,
              "#f0f921"
             ]
            ],
            "type": "histogram2dcontour"
           }
          ],
          "mesh3d": [
           {
            "colorbar": {
             "outlinewidth": 0,
             "ticks": ""
            },
            "type": "mesh3d"
           }
          ],
          "parcoords": [
           {
            "line": {
             "colorbar": {
              "outlinewidth": 0,
              "ticks": ""
             }
            },
            "type": "parcoords"
           }
          ],
          "pie": [
           {
            "automargin": true,
            "type": "pie"
           }
          ],
          "scatter": [
           {
            "marker": {
             "line": {
              "color": "#283442"
             }
            },
            "type": "scatter"
           }
          ],
          "scatter3d": [
           {
            "line": {
             "colorbar": {
              "outlinewidth": 0,
              "ticks": ""
             }
            },
            "marker": {
             "colorbar": {
              "outlinewidth": 0,
              "ticks": ""
             }
            },
            "type": "scatter3d"
           }
          ],
          "scattercarpet": [
           {
            "marker": {
             "colorbar": {
              "outlinewidth": 0,
              "ticks": ""
             }
            },
            "type": "scattercarpet"
           }
          ],
          "scattergeo": [
           {
            "marker": {
             "colorbar": {
              "outlinewidth": 0,
              "ticks": ""
             }
            },
            "type": "scattergeo"
           }
          ],
          "scattergl": [
           {
            "marker": {
             "line": {
              "color": "#283442"
             }
            },
            "type": "scattergl"
           }
          ],
          "scattermapbox": [
           {
            "marker": {
             "colorbar": {
              "outlinewidth": 0,
              "ticks": ""
             }
            },
            "type": "scattermapbox"
           }
          ],
          "scatterpolar": [
           {
            "marker": {
             "colorbar": {
              "outlinewidth": 0,
              "ticks": ""
             }
            },
            "type": "scatterpolar"
           }
          ],
          "scatterpolargl": [
           {
            "marker": {
             "colorbar": {
              "outlinewidth": 0,
              "ticks": ""
             }
            },
            "type": "scatterpolargl"
           }
          ],
          "scatterternary": [
           {
            "marker": {
             "colorbar": {
              "outlinewidth": 0,
              "ticks": ""
             }
            },
            "type": "scatterternary"
           }
          ],
          "surface": [
           {
            "colorbar": {
             "outlinewidth": 0,
             "ticks": ""
            },
            "colorscale": [
             [
              0,
              "#0d0887"
             ],
             [
              0.1111111111111111,
              "#46039f"
             ],
             [
              0.2222222222222222,
              "#7201a8"
             ],
             [
              0.3333333333333333,
              "#9c179e"
             ],
             [
              0.4444444444444444,
              "#bd3786"
             ],
             [
              0.5555555555555556,
              "#d8576b"
             ],
             [
              0.6666666666666666,
              "#ed7953"
             ],
             [
              0.7777777777777778,
              "#fb9f3a"
             ],
             [
              0.8888888888888888,
              "#fdca26"
             ],
             [
              1,
              "#f0f921"
             ]
            ],
            "type": "surface"
           }
          ],
          "table": [
           {
            "cells": {
             "fill": {
              "color": "#506784"
             },
             "line": {
              "color": "rgb(17,17,17)"
             }
            },
            "header": {
             "fill": {
              "color": "#2a3f5f"
             },
             "line": {
              "color": "rgb(17,17,17)"
             }
            },
            "type": "table"
           }
          ]
         },
         "layout": {
          "annotationdefaults": {
           "arrowcolor": "#f2f5fa",
           "arrowhead": 0,
           "arrowwidth": 1
          },
          "autotypenumbers": "strict",
          "coloraxis": {
           "colorbar": {
            "outlinewidth": 0,
            "ticks": ""
           }
          },
          "colorscale": {
           "diverging": [
            [
             0,
             "#8e0152"
            ],
            [
             0.1,
             "#c51b7d"
            ],
            [
             0.2,
             "#de77ae"
            ],
            [
             0.3,
             "#f1b6da"
            ],
            [
             0.4,
             "#fde0ef"
            ],
            [
             0.5,
             "#f7f7f7"
            ],
            [
             0.6,
             "#e6f5d0"
            ],
            [
             0.7,
             "#b8e186"
            ],
            [
             0.8,
             "#7fbc41"
            ],
            [
             0.9,
             "#4d9221"
            ],
            [
             1,
             "#276419"
            ]
           ],
           "sequential": [
            [
             0,
             "#0d0887"
            ],
            [
             0.1111111111111111,
             "#46039f"
            ],
            [
             0.2222222222222222,
             "#7201a8"
            ],
            [
             0.3333333333333333,
             "#9c179e"
            ],
            [
             0.4444444444444444,
             "#bd3786"
            ],
            [
             0.5555555555555556,
             "#d8576b"
            ],
            [
             0.6666666666666666,
             "#ed7953"
            ],
            [
             0.7777777777777778,
             "#fb9f3a"
            ],
            [
             0.8888888888888888,
             "#fdca26"
            ],
            [
             1,
             "#f0f921"
            ]
           ],
           "sequentialminus": [
            [
             0,
             "#0d0887"
            ],
            [
             0.1111111111111111,
             "#46039f"
            ],
            [
             0.2222222222222222,
             "#7201a8"
            ],
            [
             0.3333333333333333,
             "#9c179e"
            ],
            [
             0.4444444444444444,
             "#bd3786"
            ],
            [
             0.5555555555555556,
             "#d8576b"
            ],
            [
             0.6666666666666666,
             "#ed7953"
            ],
            [
             0.7777777777777778,
             "#fb9f3a"
            ],
            [
             0.8888888888888888,
             "#fdca26"
            ],
            [
             1,
             "#f0f921"
            ]
           ]
          },
          "colorway": [
           "#636efa",
           "#EF553B",
           "#00cc96",
           "#ab63fa",
           "#FFA15A",
           "#19d3f3",
           "#FF6692",
           "#B6E880",
           "#FF97FF",
           "#FECB52"
          ],
          "font": {
           "color": "#f2f5fa"
          },
          "geo": {
           "bgcolor": "rgb(17,17,17)",
           "lakecolor": "rgb(17,17,17)",
           "landcolor": "rgb(17,17,17)",
           "showlakes": true,
           "showland": true,
           "subunitcolor": "#506784"
          },
          "hoverlabel": {
           "align": "left"
          },
          "hovermode": "closest",
          "mapbox": {
           "style": "dark"
          },
          "paper_bgcolor": "rgb(17,17,17)",
          "plot_bgcolor": "rgb(17,17,17)",
          "polar": {
           "angularaxis": {
            "gridcolor": "#506784",
            "linecolor": "#506784",
            "ticks": ""
           },
           "bgcolor": "rgb(17,17,17)",
           "radialaxis": {
            "gridcolor": "#506784",
            "linecolor": "#506784",
            "ticks": ""
           }
          },
          "scene": {
           "xaxis": {
            "backgroundcolor": "rgb(17,17,17)",
            "gridcolor": "#506784",
            "gridwidth": 2,
            "linecolor": "#506784",
            "showbackground": true,
            "ticks": "",
            "zerolinecolor": "#C8D4E3"
           },
           "yaxis": {
            "backgroundcolor": "rgb(17,17,17)",
            "gridcolor": "#506784",
            "gridwidth": 2,
            "linecolor": "#506784",
            "showbackground": true,
            "ticks": "",
            "zerolinecolor": "#C8D4E3"
           },
           "zaxis": {
            "backgroundcolor": "rgb(17,17,17)",
            "gridcolor": "#506784",
            "gridwidth": 2,
            "linecolor": "#506784",
            "showbackground": true,
            "ticks": "",
            "zerolinecolor": "#C8D4E3"
           }
          },
          "shapedefaults": {
           "line": {
            "color": "#f2f5fa"
           }
          },
          "sliderdefaults": {
           "bgcolor": "#C8D4E3",
           "bordercolor": "rgb(17,17,17)",
           "borderwidth": 1,
           "tickwidth": 0
          },
          "ternary": {
           "aaxis": {
            "gridcolor": "#506784",
            "linecolor": "#506784",
            "ticks": ""
           },
           "baxis": {
            "gridcolor": "#506784",
            "linecolor": "#506784",
            "ticks": ""
           },
           "bgcolor": "rgb(17,17,17)",
           "caxis": {
            "gridcolor": "#506784",
            "linecolor": "#506784",
            "ticks": ""
           }
          },
          "title": {
           "x": 0.05
          },
          "updatemenudefaults": {
           "bgcolor": "#506784",
           "borderwidth": 0
          },
          "xaxis": {
           "automargin": true,
           "gridcolor": "#283442",
           "linecolor": "#506784",
           "ticks": "",
           "title": {
            "standoff": 15
           },
           "zerolinecolor": "#283442",
           "zerolinewidth": 2
          },
          "yaxis": {
           "automargin": true,
           "gridcolor": "#283442",
           "linecolor": "#506784",
           "ticks": "",
           "title": {
            "standoff": 15
           },
           "zerolinecolor": "#283442",
           "zerolinewidth": 2
          }
         }
        },
        "title": {
         "text": "Target to Disease Classes Diagram",
         "x": 0.5
        },
        "width": 1000
       }
      }
     },
     "metadata": {},
     "output_type": "display_data"
    }
   ],
   "source": [
    "import plotly.graph_objects as go\n",
    "\n",
    "to_plot = to_plot.groupby('Target Classes').apply(\n",
    "    lambda x: x.nlargest(10, 'Count')\n",
    ").reset_index(drop=True)\n",
    "\n",
    "target_classes = to_plot[\"Target Classes\"].unique()\n",
    "disease_classes = to_plot[\"Disease Classes\"].unique()\n",
    "target_mapping = {name: idx for idx, name in enumerate(target_classes)}\n",
    "disease_mapping = {name: idx + len(target_classes) for idx, name in enumerate(disease_classes)}\n",
    "sources = to_plot['Target Classes'].map(target_mapping)\n",
    "targets = to_plot['Disease Classes'].map(disease_mapping)\n",
    "values = to_plot['Count']\n",
    "\n",
    "fig = go.Figure(go.Sankey(\n",
    "    node=dict(\n",
    "        pad=30,\n",
    "        thickness=20,\n",
    "        line=dict(color=\"black\", width=0.5),\n",
    "        label=list(target_classes) + list(disease_classes)\n",
    "    ),\n",
    "    link=dict(\n",
    "        source=sources,\n",
    "        target=targets,\n",
    "        value=values\n",
    "    )\n",
    "))\n",
    "fig.update_layout(\n",
    "    title_text=\"Target to Disease Classes Diagram\",\n",
    "    font_size=10,\n",
    "    width=1000, \n",
    "    height=800,\n",
    "    title_x=0.5,\n",
    "    plot_bgcolor=\"rgb(34, 37, 41)\", paper_bgcolor=\"rgb(34, 37, 41)\",\n",
    "    template=\"plotly_dark\"\n",
    ")\n",
    "fig.show()"
   ]
  },
  {
   "cell_type": "code",
   "execution_count": null,
   "metadata": {},
   "outputs": [],
   "source": [
    "# custom_style = \"\"\"\n",
    "# <style>\n",
    "#   body, html {\n",
    "#     background-color: rgb(34, 37, 41);\n",
    "#   }\n",
    "# </style>\n",
    "# \"\"\"\n",
    "\n",
    "# # Save the HTML file and inject the custom style\n",
    "# html_content = fig.to_html(full_html=True, include_plotlyjs=\"cdn\")\n",
    "# # Insert the style in the <head>\n",
    "# html_content = html_content.replace(\"</head>\", f\"{custom_style}</head>\")\n",
    "\n",
    "# # Write to a file\n",
    "# with open(\"Sankey_Targets_Diseases.html\", \"w\") as f:\n",
    "#     f.write(html_content)\n",
    "\n",
    "# fig.write_image(\"Sankey_Targets_Diseases.svg\")"
   ]
  }
 ],
 "metadata": {
  "kernelspec": {
   "display_name": "ada",
   "language": "python",
   "name": "python3"
  },
  "language_info": {
   "codemirror_mode": {
    "name": "ipython",
    "version": 3
   },
   "file_extension": ".py",
   "mimetype": "text/x-python",
   "name": "python",
   "nbconvert_exporter": "python",
   "pygments_lexer": "ipython3",
   "version": "3.11.9"
  }
 },
 "nbformat": 4,
 "nbformat_minor": 2
}
